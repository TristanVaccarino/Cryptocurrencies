{
 "cells": [
  {
   "cell_type": "markdown",
   "metadata": {},
   "source": [
    "# Clustering Crypto"
   ]
  },
  {
   "cell_type": "code",
   "execution_count": 173,
   "metadata": {},
   "outputs": [],
   "source": [
    "# Initial imports\n",
    "import pandas as pd\n",
    "import hvplot.pandas\n",
    "from path import Path\n",
    "import plotly.express as px\n",
    "from sklearn.preprocessing import StandardScaler, MinMaxScaler\n",
    "from sklearn.decomposition import PCA\n",
    "from sklearn.cluster import KMeans"
   ]
  },
  {
   "cell_type": "markdown",
   "metadata": {},
   "source": [
    "### Deliverable 1: Preprocessing the Data for PCA"
   ]
  },
  {
   "cell_type": "code",
   "execution_count": 188,
   "metadata": {},
   "outputs": [
    {
     "data": {
      "text/html": [
       "<div>\n",
       "<style scoped>\n",
       "    .dataframe tbody tr th:only-of-type {\n",
       "        vertical-align: middle;\n",
       "    }\n",
       "\n",
       "    .dataframe tbody tr th {\n",
       "        vertical-align: top;\n",
       "    }\n",
       "\n",
       "    .dataframe thead th {\n",
       "        text-align: right;\n",
       "    }\n",
       "</style>\n",
       "<table border=\"1\" class=\"dataframe\">\n",
       "  <thead>\n",
       "    <tr style=\"text-align: right;\">\n",
       "      <th></th>\n",
       "      <th>CoinName</th>\n",
       "      <th>Algorithm</th>\n",
       "      <th>IsTrading</th>\n",
       "      <th>ProofType</th>\n",
       "      <th>TotalCoinsMined</th>\n",
       "      <th>TotalCoinSupply</th>\n",
       "    </tr>\n",
       "    <tr>\n",
       "      <th></th>\n",
       "      <th></th>\n",
       "      <th></th>\n",
       "      <th></th>\n",
       "      <th></th>\n",
       "      <th></th>\n",
       "      <th></th>\n",
       "    </tr>\n",
       "  </thead>\n",
       "  <tbody>\n",
       "    <tr>\n",
       "      <th>42</th>\n",
       "      <td>42 Coin</td>\n",
       "      <td>Scrypt</td>\n",
       "      <td>True</td>\n",
       "      <td>PoW/PoS</td>\n",
       "      <td>4.199995e+01</td>\n",
       "      <td>42</td>\n",
       "    </tr>\n",
       "    <tr>\n",
       "      <th>365</th>\n",
       "      <td>365Coin</td>\n",
       "      <td>X11</td>\n",
       "      <td>True</td>\n",
       "      <td>PoW/PoS</td>\n",
       "      <td>NaN</td>\n",
       "      <td>2300000000</td>\n",
       "    </tr>\n",
       "    <tr>\n",
       "      <th>404</th>\n",
       "      <td>404Coin</td>\n",
       "      <td>Scrypt</td>\n",
       "      <td>True</td>\n",
       "      <td>PoW/PoS</td>\n",
       "      <td>1.055185e+09</td>\n",
       "      <td>532000000</td>\n",
       "    </tr>\n",
       "    <tr>\n",
       "      <th>611</th>\n",
       "      <td>SixEleven</td>\n",
       "      <td>SHA-256</td>\n",
       "      <td>True</td>\n",
       "      <td>PoW</td>\n",
       "      <td>NaN</td>\n",
       "      <td>611000</td>\n",
       "    </tr>\n",
       "    <tr>\n",
       "      <th>808</th>\n",
       "      <td>808</td>\n",
       "      <td>SHA-256</td>\n",
       "      <td>True</td>\n",
       "      <td>PoW/PoS</td>\n",
       "      <td>0.000000e+00</td>\n",
       "      <td>0</td>\n",
       "    </tr>\n",
       "    <tr>\n",
       "      <th>1337</th>\n",
       "      <td>EliteCoin</td>\n",
       "      <td>X13</td>\n",
       "      <td>True</td>\n",
       "      <td>PoW/PoS</td>\n",
       "      <td>2.927942e+10</td>\n",
       "      <td>3.14159E+11</td>\n",
       "    </tr>\n",
       "    <tr>\n",
       "      <th>2015</th>\n",
       "      <td>2015 coin</td>\n",
       "      <td>X11</td>\n",
       "      <td>True</td>\n",
       "      <td>PoW/PoS</td>\n",
       "      <td>NaN</td>\n",
       "      <td>0</td>\n",
       "    </tr>\n",
       "    <tr>\n",
       "      <th>BTC</th>\n",
       "      <td>Bitcoin</td>\n",
       "      <td>SHA-256</td>\n",
       "      <td>True</td>\n",
       "      <td>PoW</td>\n",
       "      <td>1.792718e+07</td>\n",
       "      <td>21000000</td>\n",
       "    </tr>\n",
       "    <tr>\n",
       "      <th>ETH</th>\n",
       "      <td>Ethereum</td>\n",
       "      <td>Ethash</td>\n",
       "      <td>True</td>\n",
       "      <td>PoW</td>\n",
       "      <td>1.076842e+08</td>\n",
       "      <td>0</td>\n",
       "    </tr>\n",
       "    <tr>\n",
       "      <th>LTC</th>\n",
       "      <td>Litecoin</td>\n",
       "      <td>Scrypt</td>\n",
       "      <td>True</td>\n",
       "      <td>PoW</td>\n",
       "      <td>6.303924e+07</td>\n",
       "      <td>84000000</td>\n",
       "    </tr>\n",
       "  </tbody>\n",
       "</table>\n",
       "</div>"
      ],
      "text/plain": [
       "       CoinName Algorithm  IsTrading ProofType  TotalCoinsMined  \\\n",
       "                                                                  \n",
       "42      42 Coin    Scrypt       True   PoW/PoS     4.199995e+01   \n",
       "365     365Coin       X11       True   PoW/PoS              NaN   \n",
       "404     404Coin    Scrypt       True   PoW/PoS     1.055185e+09   \n",
       "611   SixEleven   SHA-256       True       PoW              NaN   \n",
       "808         808   SHA-256       True   PoW/PoS     0.000000e+00   \n",
       "1337  EliteCoin       X13       True   PoW/PoS     2.927942e+10   \n",
       "2015  2015 coin       X11       True   PoW/PoS              NaN   \n",
       "BTC     Bitcoin   SHA-256       True       PoW     1.792718e+07   \n",
       "ETH    Ethereum    Ethash       True       PoW     1.076842e+08   \n",
       "LTC    Litecoin    Scrypt       True       PoW     6.303924e+07   \n",
       "\n",
       "     TotalCoinSupply  \n",
       "                      \n",
       "42                42  \n",
       "365       2300000000  \n",
       "404        532000000  \n",
       "611           611000  \n",
       "808                0  \n",
       "1337     3.14159E+11  \n",
       "2015               0  \n",
       "BTC         21000000  \n",
       "ETH                0  \n",
       "LTC         84000000  "
      ]
     },
     "execution_count": 188,
     "metadata": {},
     "output_type": "execute_result"
    }
   ],
   "source": [
    "# Load the crypto_data.csv dataset.\n",
    "file_to_load = \"crypto_data.csv\"\n",
    "crypto_df = pd.read_csv(file_to_load)\n",
    "\n",
    "# Check the columns\n",
    "crypto_df.columns\n",
    "\n",
    "\n",
    "# Drop unnecessary column\n",
    "crypto_df = crypto_df.rename(columns={\"Unnamed: 0\":\"\"}).set_index(\"\")\n",
    "\n",
    "# View a sample of the dataframe\n",
    "crypto_df.head(10)"
   ]
  },
  {
   "cell_type": "code",
   "execution_count": 190,
   "metadata": {},
   "outputs": [
    {
     "name": "stdout",
     "output_type": "stream",
     "text": [
      "(1144, 6)\n"
     ]
    },
    {
     "data": {
      "text/html": [
       "<div>\n",
       "<style scoped>\n",
       "    .dataframe tbody tr th:only-of-type {\n",
       "        vertical-align: middle;\n",
       "    }\n",
       "\n",
       "    .dataframe tbody tr th {\n",
       "        vertical-align: top;\n",
       "    }\n",
       "\n",
       "    .dataframe thead th {\n",
       "        text-align: right;\n",
       "    }\n",
       "</style>\n",
       "<table border=\"1\" class=\"dataframe\">\n",
       "  <thead>\n",
       "    <tr style=\"text-align: right;\">\n",
       "      <th></th>\n",
       "      <th>CoinName</th>\n",
       "      <th>Algorithm</th>\n",
       "      <th>IsTrading</th>\n",
       "      <th>ProofType</th>\n",
       "      <th>TotalCoinsMined</th>\n",
       "      <th>TotalCoinSupply</th>\n",
       "    </tr>\n",
       "    <tr>\n",
       "      <th></th>\n",
       "      <th></th>\n",
       "      <th></th>\n",
       "      <th></th>\n",
       "      <th></th>\n",
       "      <th></th>\n",
       "      <th></th>\n",
       "    </tr>\n",
       "  </thead>\n",
       "  <tbody>\n",
       "    <tr>\n",
       "      <th>42</th>\n",
       "      <td>42 Coin</td>\n",
       "      <td>Scrypt</td>\n",
       "      <td>True</td>\n",
       "      <td>PoW/PoS</td>\n",
       "      <td>4.199995e+01</td>\n",
       "      <td>42</td>\n",
       "    </tr>\n",
       "    <tr>\n",
       "      <th>365</th>\n",
       "      <td>365Coin</td>\n",
       "      <td>X11</td>\n",
       "      <td>True</td>\n",
       "      <td>PoW/PoS</td>\n",
       "      <td>NaN</td>\n",
       "      <td>2300000000</td>\n",
       "    </tr>\n",
       "    <tr>\n",
       "      <th>404</th>\n",
       "      <td>404Coin</td>\n",
       "      <td>Scrypt</td>\n",
       "      <td>True</td>\n",
       "      <td>PoW/PoS</td>\n",
       "      <td>1.055185e+09</td>\n",
       "      <td>532000000</td>\n",
       "    </tr>\n",
       "    <tr>\n",
       "      <th>611</th>\n",
       "      <td>SixEleven</td>\n",
       "      <td>SHA-256</td>\n",
       "      <td>True</td>\n",
       "      <td>PoW</td>\n",
       "      <td>NaN</td>\n",
       "      <td>611000</td>\n",
       "    </tr>\n",
       "    <tr>\n",
       "      <th>808</th>\n",
       "      <td>808</td>\n",
       "      <td>SHA-256</td>\n",
       "      <td>True</td>\n",
       "      <td>PoW/PoS</td>\n",
       "      <td>0.000000e+00</td>\n",
       "      <td>0</td>\n",
       "    </tr>\n",
       "    <tr>\n",
       "      <th>1337</th>\n",
       "      <td>EliteCoin</td>\n",
       "      <td>X13</td>\n",
       "      <td>True</td>\n",
       "      <td>PoW/PoS</td>\n",
       "      <td>2.927942e+10</td>\n",
       "      <td>3.14159E+11</td>\n",
       "    </tr>\n",
       "    <tr>\n",
       "      <th>2015</th>\n",
       "      <td>2015 coin</td>\n",
       "      <td>X11</td>\n",
       "      <td>True</td>\n",
       "      <td>PoW/PoS</td>\n",
       "      <td>NaN</td>\n",
       "      <td>0</td>\n",
       "    </tr>\n",
       "    <tr>\n",
       "      <th>BTC</th>\n",
       "      <td>Bitcoin</td>\n",
       "      <td>SHA-256</td>\n",
       "      <td>True</td>\n",
       "      <td>PoW</td>\n",
       "      <td>1.792718e+07</td>\n",
       "      <td>21000000</td>\n",
       "    </tr>\n",
       "    <tr>\n",
       "      <th>ETH</th>\n",
       "      <td>Ethereum</td>\n",
       "      <td>Ethash</td>\n",
       "      <td>True</td>\n",
       "      <td>PoW</td>\n",
       "      <td>1.076842e+08</td>\n",
       "      <td>0</td>\n",
       "    </tr>\n",
       "    <tr>\n",
       "      <th>LTC</th>\n",
       "      <td>Litecoin</td>\n",
       "      <td>Scrypt</td>\n",
       "      <td>True</td>\n",
       "      <td>PoW</td>\n",
       "      <td>6.303924e+07</td>\n",
       "      <td>84000000</td>\n",
       "    </tr>\n",
       "  </tbody>\n",
       "</table>\n",
       "</div>"
      ],
      "text/plain": [
       "       CoinName Algorithm  IsTrading ProofType  TotalCoinsMined  \\\n",
       "                                                                  \n",
       "42      42 Coin    Scrypt       True   PoW/PoS     4.199995e+01   \n",
       "365     365Coin       X11       True   PoW/PoS              NaN   \n",
       "404     404Coin    Scrypt       True   PoW/PoS     1.055185e+09   \n",
       "611   SixEleven   SHA-256       True       PoW              NaN   \n",
       "808         808   SHA-256       True   PoW/PoS     0.000000e+00   \n",
       "1337  EliteCoin       X13       True   PoW/PoS     2.927942e+10   \n",
       "2015  2015 coin       X11       True   PoW/PoS              NaN   \n",
       "BTC     Bitcoin   SHA-256       True       PoW     1.792718e+07   \n",
       "ETH    Ethereum    Ethash       True       PoW     1.076842e+08   \n",
       "LTC    Litecoin    Scrypt       True       PoW     6.303924e+07   \n",
       "\n",
       "     TotalCoinSupply  \n",
       "                      \n",
       "42                42  \n",
       "365       2300000000  \n",
       "404        532000000  \n",
       "611           611000  \n",
       "808                0  \n",
       "1337     3.14159E+11  \n",
       "2015               0  \n",
       "BTC         21000000  \n",
       "ETH                0  \n",
       "LTC         84000000  "
      ]
     },
     "execution_count": 190,
     "metadata": {},
     "output_type": "execute_result"
    }
   ],
   "source": [
    "# Keep all the cryptocurrencies that are being traded.\n",
    "trading_status = crypto_df[\"IsTrading\"]==True\n",
    "crypto_df = crypto_df[trading_status]\n",
    "\n",
    "# View the resulting number of rows/columns\n",
    "print(crypto_df.shape)\n",
    "\n",
    "# View a sample of the dataframe\n",
    "crypto_df.head(10)"
   ]
  },
  {
   "cell_type": "code",
   "execution_count": 191,
   "metadata": {},
   "outputs": [
    {
     "name": "stdout",
     "output_type": "stream",
     "text": [
      "(1144, 6)\n"
     ]
    },
    {
     "data": {
      "text/html": [
       "<div>\n",
       "<style scoped>\n",
       "    .dataframe tbody tr th:only-of-type {\n",
       "        vertical-align: middle;\n",
       "    }\n",
       "\n",
       "    .dataframe tbody tr th {\n",
       "        vertical-align: top;\n",
       "    }\n",
       "\n",
       "    .dataframe thead th {\n",
       "        text-align: right;\n",
       "    }\n",
       "</style>\n",
       "<table border=\"1\" class=\"dataframe\">\n",
       "  <thead>\n",
       "    <tr style=\"text-align: right;\">\n",
       "      <th></th>\n",
       "      <th>CoinName</th>\n",
       "      <th>Algorithm</th>\n",
       "      <th>IsTrading</th>\n",
       "      <th>ProofType</th>\n",
       "      <th>TotalCoinsMined</th>\n",
       "      <th>TotalCoinSupply</th>\n",
       "    </tr>\n",
       "    <tr>\n",
       "      <th></th>\n",
       "      <th></th>\n",
       "      <th></th>\n",
       "      <th></th>\n",
       "      <th></th>\n",
       "      <th></th>\n",
       "      <th></th>\n",
       "    </tr>\n",
       "  </thead>\n",
       "  <tbody>\n",
       "    <tr>\n",
       "      <th>42</th>\n",
       "      <td>42 Coin</td>\n",
       "      <td>Scrypt</td>\n",
       "      <td>True</td>\n",
       "      <td>PoW/PoS</td>\n",
       "      <td>4.199995e+01</td>\n",
       "      <td>42</td>\n",
       "    </tr>\n",
       "    <tr>\n",
       "      <th>365</th>\n",
       "      <td>365Coin</td>\n",
       "      <td>X11</td>\n",
       "      <td>True</td>\n",
       "      <td>PoW/PoS</td>\n",
       "      <td>NaN</td>\n",
       "      <td>2300000000</td>\n",
       "    </tr>\n",
       "    <tr>\n",
       "      <th>404</th>\n",
       "      <td>404Coin</td>\n",
       "      <td>Scrypt</td>\n",
       "      <td>True</td>\n",
       "      <td>PoW/PoS</td>\n",
       "      <td>1.055185e+09</td>\n",
       "      <td>532000000</td>\n",
       "    </tr>\n",
       "    <tr>\n",
       "      <th>611</th>\n",
       "      <td>SixEleven</td>\n",
       "      <td>SHA-256</td>\n",
       "      <td>True</td>\n",
       "      <td>PoW</td>\n",
       "      <td>NaN</td>\n",
       "      <td>611000</td>\n",
       "    </tr>\n",
       "    <tr>\n",
       "      <th>808</th>\n",
       "      <td>808</td>\n",
       "      <td>SHA-256</td>\n",
       "      <td>True</td>\n",
       "      <td>PoW/PoS</td>\n",
       "      <td>0.000000e+00</td>\n",
       "      <td>0</td>\n",
       "    </tr>\n",
       "    <tr>\n",
       "      <th>1337</th>\n",
       "      <td>EliteCoin</td>\n",
       "      <td>X13</td>\n",
       "      <td>True</td>\n",
       "      <td>PoW/PoS</td>\n",
       "      <td>2.927942e+10</td>\n",
       "      <td>3.14159E+11</td>\n",
       "    </tr>\n",
       "    <tr>\n",
       "      <th>2015</th>\n",
       "      <td>2015 coin</td>\n",
       "      <td>X11</td>\n",
       "      <td>True</td>\n",
       "      <td>PoW/PoS</td>\n",
       "      <td>NaN</td>\n",
       "      <td>0</td>\n",
       "    </tr>\n",
       "    <tr>\n",
       "      <th>BTC</th>\n",
       "      <td>Bitcoin</td>\n",
       "      <td>SHA-256</td>\n",
       "      <td>True</td>\n",
       "      <td>PoW</td>\n",
       "      <td>1.792718e+07</td>\n",
       "      <td>21000000</td>\n",
       "    </tr>\n",
       "    <tr>\n",
       "      <th>ETH</th>\n",
       "      <td>Ethereum</td>\n",
       "      <td>Ethash</td>\n",
       "      <td>True</td>\n",
       "      <td>PoW</td>\n",
       "      <td>1.076842e+08</td>\n",
       "      <td>0</td>\n",
       "    </tr>\n",
       "    <tr>\n",
       "      <th>LTC</th>\n",
       "      <td>Litecoin</td>\n",
       "      <td>Scrypt</td>\n",
       "      <td>True</td>\n",
       "      <td>PoW</td>\n",
       "      <td>6.303924e+07</td>\n",
       "      <td>84000000</td>\n",
       "    </tr>\n",
       "  </tbody>\n",
       "</table>\n",
       "</div>"
      ],
      "text/plain": [
       "       CoinName Algorithm  IsTrading ProofType  TotalCoinsMined  \\\n",
       "                                                                  \n",
       "42      42 Coin    Scrypt       True   PoW/PoS     4.199995e+01   \n",
       "365     365Coin       X11       True   PoW/PoS              NaN   \n",
       "404     404Coin    Scrypt       True   PoW/PoS     1.055185e+09   \n",
       "611   SixEleven   SHA-256       True       PoW              NaN   \n",
       "808         808   SHA-256       True   PoW/PoS     0.000000e+00   \n",
       "1337  EliteCoin       X13       True   PoW/PoS     2.927942e+10   \n",
       "2015  2015 coin       X11       True   PoW/PoS              NaN   \n",
       "BTC     Bitcoin   SHA-256       True       PoW     1.792718e+07   \n",
       "ETH    Ethereum    Ethash       True       PoW     1.076842e+08   \n",
       "LTC    Litecoin    Scrypt       True       PoW     6.303924e+07   \n",
       "\n",
       "     TotalCoinSupply  \n",
       "                      \n",
       "42                42  \n",
       "365       2300000000  \n",
       "404        532000000  \n",
       "611           611000  \n",
       "808                0  \n",
       "1337     3.14159E+11  \n",
       "2015               0  \n",
       "BTC         21000000  \n",
       "ETH                0  \n",
       "LTC         84000000  "
      ]
     },
     "execution_count": 191,
     "metadata": {},
     "output_type": "execute_result"
    }
   ],
   "source": [
    "# View the current fields in the Algorithm column\n",
    "# algorithm = traded_crypto_df[\"Algorithm\"].value_counts()\n",
    "# algorithm.to_csv(\"view_algorithm_results.csv\")\n",
    "\n",
    "# Keep all the cryptocurrencies that have a working algorithm\n",
    "crypto_df = crypto_df.dropna(subset=[\"Algorithm\"])\n",
    "\n",
    "# View the resulting shape\n",
    "print(crypto_df.shape)\n",
    "\n",
    "# View a sample of the dataframe\n",
    "crypto_df.head(10)\n"
   ]
  },
  {
   "cell_type": "code",
   "execution_count": 192,
   "metadata": {},
   "outputs": [
    {
     "name": "stdout",
     "output_type": "stream",
     "text": [
      "(1144, 5)\n"
     ]
    },
    {
     "data": {
      "text/html": [
       "<div>\n",
       "<style scoped>\n",
       "    .dataframe tbody tr th:only-of-type {\n",
       "        vertical-align: middle;\n",
       "    }\n",
       "\n",
       "    .dataframe tbody tr th {\n",
       "        vertical-align: top;\n",
       "    }\n",
       "\n",
       "    .dataframe thead th {\n",
       "        text-align: right;\n",
       "    }\n",
       "</style>\n",
       "<table border=\"1\" class=\"dataframe\">\n",
       "  <thead>\n",
       "    <tr style=\"text-align: right;\">\n",
       "      <th></th>\n",
       "      <th>CoinName</th>\n",
       "      <th>Algorithm</th>\n",
       "      <th>ProofType</th>\n",
       "      <th>TotalCoinsMined</th>\n",
       "      <th>TotalCoinSupply</th>\n",
       "    </tr>\n",
       "    <tr>\n",
       "      <th></th>\n",
       "      <th></th>\n",
       "      <th></th>\n",
       "      <th></th>\n",
       "      <th></th>\n",
       "      <th></th>\n",
       "    </tr>\n",
       "  </thead>\n",
       "  <tbody>\n",
       "    <tr>\n",
       "      <th>42</th>\n",
       "      <td>42 Coin</td>\n",
       "      <td>Scrypt</td>\n",
       "      <td>PoW/PoS</td>\n",
       "      <td>4.199995e+01</td>\n",
       "      <td>42</td>\n",
       "    </tr>\n",
       "    <tr>\n",
       "      <th>365</th>\n",
       "      <td>365Coin</td>\n",
       "      <td>X11</td>\n",
       "      <td>PoW/PoS</td>\n",
       "      <td>NaN</td>\n",
       "      <td>2300000000</td>\n",
       "    </tr>\n",
       "    <tr>\n",
       "      <th>404</th>\n",
       "      <td>404Coin</td>\n",
       "      <td>Scrypt</td>\n",
       "      <td>PoW/PoS</td>\n",
       "      <td>1.055185e+09</td>\n",
       "      <td>532000000</td>\n",
       "    </tr>\n",
       "    <tr>\n",
       "      <th>611</th>\n",
       "      <td>SixEleven</td>\n",
       "      <td>SHA-256</td>\n",
       "      <td>PoW</td>\n",
       "      <td>NaN</td>\n",
       "      <td>611000</td>\n",
       "    </tr>\n",
       "    <tr>\n",
       "      <th>808</th>\n",
       "      <td>808</td>\n",
       "      <td>SHA-256</td>\n",
       "      <td>PoW/PoS</td>\n",
       "      <td>0.000000e+00</td>\n",
       "      <td>0</td>\n",
       "    </tr>\n",
       "    <tr>\n",
       "      <th>1337</th>\n",
       "      <td>EliteCoin</td>\n",
       "      <td>X13</td>\n",
       "      <td>PoW/PoS</td>\n",
       "      <td>2.927942e+10</td>\n",
       "      <td>3.14159E+11</td>\n",
       "    </tr>\n",
       "    <tr>\n",
       "      <th>2015</th>\n",
       "      <td>2015 coin</td>\n",
       "      <td>X11</td>\n",
       "      <td>PoW/PoS</td>\n",
       "      <td>NaN</td>\n",
       "      <td>0</td>\n",
       "    </tr>\n",
       "    <tr>\n",
       "      <th>BTC</th>\n",
       "      <td>Bitcoin</td>\n",
       "      <td>SHA-256</td>\n",
       "      <td>PoW</td>\n",
       "      <td>1.792718e+07</td>\n",
       "      <td>21000000</td>\n",
       "    </tr>\n",
       "    <tr>\n",
       "      <th>ETH</th>\n",
       "      <td>Ethereum</td>\n",
       "      <td>Ethash</td>\n",
       "      <td>PoW</td>\n",
       "      <td>1.076842e+08</td>\n",
       "      <td>0</td>\n",
       "    </tr>\n",
       "    <tr>\n",
       "      <th>LTC</th>\n",
       "      <td>Litecoin</td>\n",
       "      <td>Scrypt</td>\n",
       "      <td>PoW</td>\n",
       "      <td>6.303924e+07</td>\n",
       "      <td>84000000</td>\n",
       "    </tr>\n",
       "  </tbody>\n",
       "</table>\n",
       "</div>"
      ],
      "text/plain": [
       "       CoinName Algorithm ProofType  TotalCoinsMined TotalCoinSupply\n",
       "                                                                    \n",
       "42      42 Coin    Scrypt   PoW/PoS     4.199995e+01              42\n",
       "365     365Coin       X11   PoW/PoS              NaN      2300000000\n",
       "404     404Coin    Scrypt   PoW/PoS     1.055185e+09       532000000\n",
       "611   SixEleven   SHA-256       PoW              NaN          611000\n",
       "808         808   SHA-256   PoW/PoS     0.000000e+00               0\n",
       "1337  EliteCoin       X13   PoW/PoS     2.927942e+10     3.14159E+11\n",
       "2015  2015 coin       X11   PoW/PoS              NaN               0\n",
       "BTC     Bitcoin   SHA-256       PoW     1.792718e+07        21000000\n",
       "ETH    Ethereum    Ethash       PoW     1.076842e+08               0\n",
       "LTC    Litecoin    Scrypt       PoW     6.303924e+07        84000000"
      ]
     },
     "execution_count": 192,
     "metadata": {},
     "output_type": "execute_result"
    }
   ],
   "source": [
    "# Remove the \"IsTrading\" column. \n",
    "crypto_df = crypto_df.drop(\"IsTrading\", axis=1)\n",
    "\n",
    "# View the resulting shape\n",
    "print(crypto_df.shape)\n",
    "\n",
    "# View a sample of the dataframe\n",
    "crypto_df.head(10)"
   ]
  },
  {
   "cell_type": "code",
   "execution_count": 193,
   "metadata": {},
   "outputs": [
    {
     "name": "stdout",
     "output_type": "stream",
     "text": [
      "(685, 5)\n"
     ]
    },
    {
     "data": {
      "text/html": [
       "<div>\n",
       "<style scoped>\n",
       "    .dataframe tbody tr th:only-of-type {\n",
       "        vertical-align: middle;\n",
       "    }\n",
       "\n",
       "    .dataframe tbody tr th {\n",
       "        vertical-align: top;\n",
       "    }\n",
       "\n",
       "    .dataframe thead th {\n",
       "        text-align: right;\n",
       "    }\n",
       "</style>\n",
       "<table border=\"1\" class=\"dataframe\">\n",
       "  <thead>\n",
       "    <tr style=\"text-align: right;\">\n",
       "      <th></th>\n",
       "      <th>CoinName</th>\n",
       "      <th>Algorithm</th>\n",
       "      <th>ProofType</th>\n",
       "      <th>TotalCoinsMined</th>\n",
       "      <th>TotalCoinSupply</th>\n",
       "    </tr>\n",
       "    <tr>\n",
       "      <th></th>\n",
       "      <th></th>\n",
       "      <th></th>\n",
       "      <th></th>\n",
       "      <th></th>\n",
       "      <th></th>\n",
       "    </tr>\n",
       "  </thead>\n",
       "  <tbody>\n",
       "    <tr>\n",
       "      <th>42</th>\n",
       "      <td>42 Coin</td>\n",
       "      <td>Scrypt</td>\n",
       "      <td>PoW/PoS</td>\n",
       "      <td>4.199995e+01</td>\n",
       "      <td>42</td>\n",
       "    </tr>\n",
       "    <tr>\n",
       "      <th>404</th>\n",
       "      <td>404Coin</td>\n",
       "      <td>Scrypt</td>\n",
       "      <td>PoW/PoS</td>\n",
       "      <td>1.055185e+09</td>\n",
       "      <td>532000000</td>\n",
       "    </tr>\n",
       "    <tr>\n",
       "      <th>808</th>\n",
       "      <td>808</td>\n",
       "      <td>SHA-256</td>\n",
       "      <td>PoW/PoS</td>\n",
       "      <td>0.000000e+00</td>\n",
       "      <td>0</td>\n",
       "    </tr>\n",
       "    <tr>\n",
       "      <th>1337</th>\n",
       "      <td>EliteCoin</td>\n",
       "      <td>X13</td>\n",
       "      <td>PoW/PoS</td>\n",
       "      <td>2.927942e+10</td>\n",
       "      <td>3.14159E+11</td>\n",
       "    </tr>\n",
       "    <tr>\n",
       "      <th>BTC</th>\n",
       "      <td>Bitcoin</td>\n",
       "      <td>SHA-256</td>\n",
       "      <td>PoW</td>\n",
       "      <td>1.792718e+07</td>\n",
       "      <td>21000000</td>\n",
       "    </tr>\n",
       "    <tr>\n",
       "      <th>ETH</th>\n",
       "      <td>Ethereum</td>\n",
       "      <td>Ethash</td>\n",
       "      <td>PoW</td>\n",
       "      <td>1.076842e+08</td>\n",
       "      <td>0</td>\n",
       "    </tr>\n",
       "    <tr>\n",
       "      <th>LTC</th>\n",
       "      <td>Litecoin</td>\n",
       "      <td>Scrypt</td>\n",
       "      <td>PoW</td>\n",
       "      <td>6.303924e+07</td>\n",
       "      <td>84000000</td>\n",
       "    </tr>\n",
       "    <tr>\n",
       "      <th>DASH</th>\n",
       "      <td>Dash</td>\n",
       "      <td>X11</td>\n",
       "      <td>PoW/PoS</td>\n",
       "      <td>9.031294e+06</td>\n",
       "      <td>22000000</td>\n",
       "    </tr>\n",
       "    <tr>\n",
       "      <th>XMR</th>\n",
       "      <td>Monero</td>\n",
       "      <td>CryptoNight-V7</td>\n",
       "      <td>PoW</td>\n",
       "      <td>1.720114e+07</td>\n",
       "      <td>0</td>\n",
       "    </tr>\n",
       "    <tr>\n",
       "      <th>ETC</th>\n",
       "      <td>Ethereum Classic</td>\n",
       "      <td>Ethash</td>\n",
       "      <td>PoW</td>\n",
       "      <td>1.133597e+08</td>\n",
       "      <td>210000000</td>\n",
       "    </tr>\n",
       "  </tbody>\n",
       "</table>\n",
       "</div>"
      ],
      "text/plain": [
       "              CoinName       Algorithm ProofType  TotalCoinsMined  \\\n",
       "                                                                    \n",
       "42             42 Coin          Scrypt   PoW/PoS     4.199995e+01   \n",
       "404            404Coin          Scrypt   PoW/PoS     1.055185e+09   \n",
       "808                808         SHA-256   PoW/PoS     0.000000e+00   \n",
       "1337         EliteCoin             X13   PoW/PoS     2.927942e+10   \n",
       "BTC            Bitcoin         SHA-256       PoW     1.792718e+07   \n",
       "ETH           Ethereum          Ethash       PoW     1.076842e+08   \n",
       "LTC           Litecoin          Scrypt       PoW     6.303924e+07   \n",
       "DASH              Dash             X11   PoW/PoS     9.031294e+06   \n",
       "XMR             Monero  CryptoNight-V7       PoW     1.720114e+07   \n",
       "ETC   Ethereum Classic          Ethash       PoW     1.133597e+08   \n",
       "\n",
       "     TotalCoinSupply  \n",
       "                      \n",
       "42                42  \n",
       "404        532000000  \n",
       "808                0  \n",
       "1337     3.14159E+11  \n",
       "BTC         21000000  \n",
       "ETH                0  \n",
       "LTC         84000000  \n",
       "DASH        22000000  \n",
       "XMR                0  \n",
       "ETC        210000000  "
      ]
     },
     "execution_count": 193,
     "metadata": {},
     "output_type": "execute_result"
    }
   ],
   "source": [
    "# Remove rows that have at least 1 null value.\n",
    "crypto_df = crypto_df.dropna()\n",
    "\n",
    "# View the resulting shape\n",
    "print(crypto_df.shape)\n",
    "\n",
    "# View a sample of the dataframe\n",
    "crypto_df.head(10)"
   ]
  },
  {
   "cell_type": "code",
   "execution_count": 196,
   "metadata": {},
   "outputs": [
    {
     "name": "stdout",
     "output_type": "stream",
     "text": [
      "(532, 5)\n"
     ]
    },
    {
     "data": {
      "text/html": [
       "<div>\n",
       "<style scoped>\n",
       "    .dataframe tbody tr th:only-of-type {\n",
       "        vertical-align: middle;\n",
       "    }\n",
       "\n",
       "    .dataframe tbody tr th {\n",
       "        vertical-align: top;\n",
       "    }\n",
       "\n",
       "    .dataframe thead th {\n",
       "        text-align: right;\n",
       "    }\n",
       "</style>\n",
       "<table border=\"1\" class=\"dataframe\">\n",
       "  <thead>\n",
       "    <tr style=\"text-align: right;\">\n",
       "      <th></th>\n",
       "      <th>CoinName</th>\n",
       "      <th>Algorithm</th>\n",
       "      <th>ProofType</th>\n",
       "      <th>TotalCoinsMined</th>\n",
       "      <th>TotalCoinSupply</th>\n",
       "    </tr>\n",
       "    <tr>\n",
       "      <th></th>\n",
       "      <th></th>\n",
       "      <th></th>\n",
       "      <th></th>\n",
       "      <th></th>\n",
       "      <th></th>\n",
       "    </tr>\n",
       "  </thead>\n",
       "  <tbody>\n",
       "    <tr>\n",
       "      <th>42</th>\n",
       "      <td>42 Coin</td>\n",
       "      <td>Scrypt</td>\n",
       "      <td>PoW/PoS</td>\n",
       "      <td>4.199995e+01</td>\n",
       "      <td>42</td>\n",
       "    </tr>\n",
       "    <tr>\n",
       "      <th>404</th>\n",
       "      <td>404Coin</td>\n",
       "      <td>Scrypt</td>\n",
       "      <td>PoW/PoS</td>\n",
       "      <td>1.055185e+09</td>\n",
       "      <td>532000000</td>\n",
       "    </tr>\n",
       "    <tr>\n",
       "      <th>1337</th>\n",
       "      <td>EliteCoin</td>\n",
       "      <td>X13</td>\n",
       "      <td>PoW/PoS</td>\n",
       "      <td>2.927942e+10</td>\n",
       "      <td>3.14159E+11</td>\n",
       "    </tr>\n",
       "    <tr>\n",
       "      <th>BTC</th>\n",
       "      <td>Bitcoin</td>\n",
       "      <td>SHA-256</td>\n",
       "      <td>PoW</td>\n",
       "      <td>1.792718e+07</td>\n",
       "      <td>21000000</td>\n",
       "    </tr>\n",
       "    <tr>\n",
       "      <th>ETH</th>\n",
       "      <td>Ethereum</td>\n",
       "      <td>Ethash</td>\n",
       "      <td>PoW</td>\n",
       "      <td>1.076842e+08</td>\n",
       "      <td>0</td>\n",
       "    </tr>\n",
       "    <tr>\n",
       "      <th>LTC</th>\n",
       "      <td>Litecoin</td>\n",
       "      <td>Scrypt</td>\n",
       "      <td>PoW</td>\n",
       "      <td>6.303924e+07</td>\n",
       "      <td>84000000</td>\n",
       "    </tr>\n",
       "    <tr>\n",
       "      <th>DASH</th>\n",
       "      <td>Dash</td>\n",
       "      <td>X11</td>\n",
       "      <td>PoW/PoS</td>\n",
       "      <td>9.031294e+06</td>\n",
       "      <td>22000000</td>\n",
       "    </tr>\n",
       "    <tr>\n",
       "      <th>XMR</th>\n",
       "      <td>Monero</td>\n",
       "      <td>CryptoNight-V7</td>\n",
       "      <td>PoW</td>\n",
       "      <td>1.720114e+07</td>\n",
       "      <td>0</td>\n",
       "    </tr>\n",
       "    <tr>\n",
       "      <th>ETC</th>\n",
       "      <td>Ethereum Classic</td>\n",
       "      <td>Ethash</td>\n",
       "      <td>PoW</td>\n",
       "      <td>1.133597e+08</td>\n",
       "      <td>210000000</td>\n",
       "    </tr>\n",
       "    <tr>\n",
       "      <th>ZEC</th>\n",
       "      <td>ZCash</td>\n",
       "      <td>Equihash</td>\n",
       "      <td>PoW</td>\n",
       "      <td>7.383056e+06</td>\n",
       "      <td>21000000</td>\n",
       "    </tr>\n",
       "  </tbody>\n",
       "</table>\n",
       "</div>"
      ],
      "text/plain": [
       "              CoinName       Algorithm ProofType  TotalCoinsMined  \\\n",
       "                                                                    \n",
       "42             42 Coin          Scrypt   PoW/PoS     4.199995e+01   \n",
       "404            404Coin          Scrypt   PoW/PoS     1.055185e+09   \n",
       "1337         EliteCoin             X13   PoW/PoS     2.927942e+10   \n",
       "BTC            Bitcoin         SHA-256       PoW     1.792718e+07   \n",
       "ETH           Ethereum          Ethash       PoW     1.076842e+08   \n",
       "LTC           Litecoin          Scrypt       PoW     6.303924e+07   \n",
       "DASH              Dash             X11   PoW/PoS     9.031294e+06   \n",
       "XMR             Monero  CryptoNight-V7       PoW     1.720114e+07   \n",
       "ETC   Ethereum Classic          Ethash       PoW     1.133597e+08   \n",
       "ZEC              ZCash        Equihash       PoW     7.383056e+06   \n",
       "\n",
       "     TotalCoinSupply  \n",
       "                      \n",
       "42                42  \n",
       "404        532000000  \n",
       "1337     3.14159E+11  \n",
       "BTC         21000000  \n",
       "ETH                0  \n",
       "LTC         84000000  \n",
       "DASH        22000000  \n",
       "XMR                0  \n",
       "ETC        210000000  \n",
       "ZEC         21000000  "
      ]
     },
     "execution_count": 196,
     "metadata": {},
     "output_type": "execute_result"
    }
   ],
   "source": [
    "# View the current values for TotalCoinsMined\n",
    "crypto_df[\"TotalCoinsMined\"].value_counts()\n",
    "\n",
    "# Keep the rows where coins are mined.\n",
    "mined_results = crypto_df[\"TotalCoinsMined\"]>0\n",
    "crypto_df = crypto_df[mined_results]\n",
    "\n",
    "# View the resulting shape\n",
    "print(crypto_df.shape)\n",
    "\n",
    "# View a sample of the dataframe\n",
    "crypto_df.head(10)"
   ]
  },
  {
   "cell_type": "code",
   "execution_count": 198,
   "metadata": {},
   "outputs": [
    {
     "name": "stdout",
     "output_type": "stream",
     "text": [
      "(532, 1)\n"
     ]
    },
    {
     "data": {
      "text/html": [
       "<div>\n",
       "<style scoped>\n",
       "    .dataframe tbody tr th:only-of-type {\n",
       "        vertical-align: middle;\n",
       "    }\n",
       "\n",
       "    .dataframe tbody tr th {\n",
       "        vertical-align: top;\n",
       "    }\n",
       "\n",
       "    .dataframe thead th {\n",
       "        text-align: right;\n",
       "    }\n",
       "</style>\n",
       "<table border=\"1\" class=\"dataframe\">\n",
       "  <thead>\n",
       "    <tr style=\"text-align: right;\">\n",
       "      <th></th>\n",
       "      <th>CoinName</th>\n",
       "    </tr>\n",
       "    <tr>\n",
       "      <th></th>\n",
       "      <th></th>\n",
       "    </tr>\n",
       "  </thead>\n",
       "  <tbody>\n",
       "    <tr>\n",
       "      <th>42</th>\n",
       "      <td>42 Coin</td>\n",
       "    </tr>\n",
       "    <tr>\n",
       "      <th>404</th>\n",
       "      <td>404Coin</td>\n",
       "    </tr>\n",
       "    <tr>\n",
       "      <th>1337</th>\n",
       "      <td>EliteCoin</td>\n",
       "    </tr>\n",
       "    <tr>\n",
       "      <th>BTC</th>\n",
       "      <td>Bitcoin</td>\n",
       "    </tr>\n",
       "    <tr>\n",
       "      <th>ETH</th>\n",
       "      <td>Ethereum</td>\n",
       "    </tr>\n",
       "  </tbody>\n",
       "</table>\n",
       "</div>"
      ],
      "text/plain": [
       "       CoinName\n",
       "               \n",
       "42      42 Coin\n",
       "404     404Coin\n",
       "1337  EliteCoin\n",
       "BTC     Bitcoin\n",
       "ETH    Ethereum"
      ]
     },
     "execution_count": 198,
     "metadata": {},
     "output_type": "execute_result"
    }
   ],
   "source": [
    "# Create a new DataFrame that holds only the cryptocurrencies names.\n",
    "crypto_names_df = crypto_df[[\"CoinName\"]]\n",
    "\n",
    "# View the resulting shape\n",
    "print(crypto_names_df.shape)\n",
    "\n",
    "# View a sample of the dataframe\n",
    "crypto_names_df.head(5)"
   ]
  },
  {
   "cell_type": "code",
   "execution_count": 199,
   "metadata": {},
   "outputs": [
    {
     "name": "stdout",
     "output_type": "stream",
     "text": [
      "(532, 4)\n"
     ]
    },
    {
     "data": {
      "text/html": [
       "<div>\n",
       "<style scoped>\n",
       "    .dataframe tbody tr th:only-of-type {\n",
       "        vertical-align: middle;\n",
       "    }\n",
       "\n",
       "    .dataframe tbody tr th {\n",
       "        vertical-align: top;\n",
       "    }\n",
       "\n",
       "    .dataframe thead th {\n",
       "        text-align: right;\n",
       "    }\n",
       "</style>\n",
       "<table border=\"1\" class=\"dataframe\">\n",
       "  <thead>\n",
       "    <tr style=\"text-align: right;\">\n",
       "      <th></th>\n",
       "      <th>Algorithm</th>\n",
       "      <th>ProofType</th>\n",
       "      <th>TotalCoinsMined</th>\n",
       "      <th>TotalCoinSupply</th>\n",
       "    </tr>\n",
       "    <tr>\n",
       "      <th></th>\n",
       "      <th></th>\n",
       "      <th></th>\n",
       "      <th></th>\n",
       "      <th></th>\n",
       "    </tr>\n",
       "  </thead>\n",
       "  <tbody>\n",
       "    <tr>\n",
       "      <th>42</th>\n",
       "      <td>Scrypt</td>\n",
       "      <td>PoW/PoS</td>\n",
       "      <td>4.199995e+01</td>\n",
       "      <td>42</td>\n",
       "    </tr>\n",
       "    <tr>\n",
       "      <th>404</th>\n",
       "      <td>Scrypt</td>\n",
       "      <td>PoW/PoS</td>\n",
       "      <td>1.055185e+09</td>\n",
       "      <td>532000000</td>\n",
       "    </tr>\n",
       "    <tr>\n",
       "      <th>1337</th>\n",
       "      <td>X13</td>\n",
       "      <td>PoW/PoS</td>\n",
       "      <td>2.927942e+10</td>\n",
       "      <td>3.14159E+11</td>\n",
       "    </tr>\n",
       "    <tr>\n",
       "      <th>BTC</th>\n",
       "      <td>SHA-256</td>\n",
       "      <td>PoW</td>\n",
       "      <td>1.792718e+07</td>\n",
       "      <td>21000000</td>\n",
       "    </tr>\n",
       "    <tr>\n",
       "      <th>ETH</th>\n",
       "      <td>Ethash</td>\n",
       "      <td>PoW</td>\n",
       "      <td>1.076842e+08</td>\n",
       "      <td>0</td>\n",
       "    </tr>\n",
       "    <tr>\n",
       "      <th>LTC</th>\n",
       "      <td>Scrypt</td>\n",
       "      <td>PoW</td>\n",
       "      <td>6.303924e+07</td>\n",
       "      <td>84000000</td>\n",
       "    </tr>\n",
       "    <tr>\n",
       "      <th>DASH</th>\n",
       "      <td>X11</td>\n",
       "      <td>PoW/PoS</td>\n",
       "      <td>9.031294e+06</td>\n",
       "      <td>22000000</td>\n",
       "    </tr>\n",
       "    <tr>\n",
       "      <th>XMR</th>\n",
       "      <td>CryptoNight-V7</td>\n",
       "      <td>PoW</td>\n",
       "      <td>1.720114e+07</td>\n",
       "      <td>0</td>\n",
       "    </tr>\n",
       "    <tr>\n",
       "      <th>ETC</th>\n",
       "      <td>Ethash</td>\n",
       "      <td>PoW</td>\n",
       "      <td>1.133597e+08</td>\n",
       "      <td>210000000</td>\n",
       "    </tr>\n",
       "    <tr>\n",
       "      <th>ZEC</th>\n",
       "      <td>Equihash</td>\n",
       "      <td>PoW</td>\n",
       "      <td>7.383056e+06</td>\n",
       "      <td>21000000</td>\n",
       "    </tr>\n",
       "  </tbody>\n",
       "</table>\n",
       "</div>"
      ],
      "text/plain": [
       "           Algorithm ProofType  TotalCoinsMined TotalCoinSupply\n",
       "                                                               \n",
       "42            Scrypt   PoW/PoS     4.199995e+01              42\n",
       "404           Scrypt   PoW/PoS     1.055185e+09       532000000\n",
       "1337             X13   PoW/PoS     2.927942e+10     3.14159E+11\n",
       "BTC          SHA-256       PoW     1.792718e+07        21000000\n",
       "ETH           Ethash       PoW     1.076842e+08               0\n",
       "LTC           Scrypt       PoW     6.303924e+07        84000000\n",
       "DASH             X11   PoW/PoS     9.031294e+06        22000000\n",
       "XMR   CryptoNight-V7       PoW     1.720114e+07               0\n",
       "ETC           Ethash       PoW     1.133597e+08       210000000\n",
       "ZEC         Equihash       PoW     7.383056e+06        21000000"
      ]
     },
     "execution_count": 199,
     "metadata": {},
     "output_type": "execute_result"
    }
   ],
   "source": [
    "# Drop the 'CoinName' column since it's not going to be used on the clustering algorithm.\n",
    "crypto_df = crypto_df.drop(\"CoinName\", axis=1)\n",
    "\n",
    "# View the resulting shape\n",
    "print(crypto_df.shape)\n",
    "\n",
    "# View a sample of the dataframe\n",
    "crypto_df.head(10)"
   ]
  },
  {
   "cell_type": "code",
   "execution_count": 200,
   "metadata": {},
   "outputs": [
    {
     "name": "stdout",
     "output_type": "stream",
     "text": [
      "(532, 98)\n"
     ]
    },
    {
     "data": {
      "text/html": [
       "<div>\n",
       "<style scoped>\n",
       "    .dataframe tbody tr th:only-of-type {\n",
       "        vertical-align: middle;\n",
       "    }\n",
       "\n",
       "    .dataframe tbody tr th {\n",
       "        vertical-align: top;\n",
       "    }\n",
       "\n",
       "    .dataframe thead th {\n",
       "        text-align: right;\n",
       "    }\n",
       "</style>\n",
       "<table border=\"1\" class=\"dataframe\">\n",
       "  <thead>\n",
       "    <tr style=\"text-align: right;\">\n",
       "      <th></th>\n",
       "      <th>TotalCoinsMined</th>\n",
       "      <th>TotalCoinSupply</th>\n",
       "      <th>Algorithm_1GB AES Pattern Search</th>\n",
       "      <th>Algorithm_536</th>\n",
       "      <th>Algorithm_Argon2d</th>\n",
       "      <th>Algorithm_BLAKE256</th>\n",
       "      <th>Algorithm_Blake</th>\n",
       "      <th>Algorithm_Blake2S</th>\n",
       "      <th>Algorithm_Blake2b</th>\n",
       "      <th>Algorithm_C11</th>\n",
       "      <th>...</th>\n",
       "      <th>ProofType_PoW/PoS</th>\n",
       "      <th>ProofType_PoW/PoS</th>\n",
       "      <th>ProofType_PoW/PoW</th>\n",
       "      <th>ProofType_PoW/nPoS</th>\n",
       "      <th>ProofType_Pos</th>\n",
       "      <th>ProofType_Proof of Authority</th>\n",
       "      <th>ProofType_Proof of Trust</th>\n",
       "      <th>ProofType_TPoS</th>\n",
       "      <th>ProofType_Zero-Knowledge Proof</th>\n",
       "      <th>ProofType_dPoW/PoW</th>\n",
       "    </tr>\n",
       "    <tr>\n",
       "      <th></th>\n",
       "      <th></th>\n",
       "      <th></th>\n",
       "      <th></th>\n",
       "      <th></th>\n",
       "      <th></th>\n",
       "      <th></th>\n",
       "      <th></th>\n",
       "      <th></th>\n",
       "      <th></th>\n",
       "      <th></th>\n",
       "      <th></th>\n",
       "      <th></th>\n",
       "      <th></th>\n",
       "      <th></th>\n",
       "      <th></th>\n",
       "      <th></th>\n",
       "      <th></th>\n",
       "      <th></th>\n",
       "      <th></th>\n",
       "      <th></th>\n",
       "      <th></th>\n",
       "    </tr>\n",
       "  </thead>\n",
       "  <tbody>\n",
       "    <tr>\n",
       "      <th>42</th>\n",
       "      <td>4.199995e+01</td>\n",
       "      <td>42</td>\n",
       "      <td>0</td>\n",
       "      <td>0</td>\n",
       "      <td>0</td>\n",
       "      <td>0</td>\n",
       "      <td>0</td>\n",
       "      <td>0</td>\n",
       "      <td>0</td>\n",
       "      <td>0</td>\n",
       "      <td>...</td>\n",
       "      <td>1</td>\n",
       "      <td>0</td>\n",
       "      <td>0</td>\n",
       "      <td>0</td>\n",
       "      <td>0</td>\n",
       "      <td>0</td>\n",
       "      <td>0</td>\n",
       "      <td>0</td>\n",
       "      <td>0</td>\n",
       "      <td>0</td>\n",
       "    </tr>\n",
       "    <tr>\n",
       "      <th>404</th>\n",
       "      <td>1.055185e+09</td>\n",
       "      <td>532000000</td>\n",
       "      <td>0</td>\n",
       "      <td>0</td>\n",
       "      <td>0</td>\n",
       "      <td>0</td>\n",
       "      <td>0</td>\n",
       "      <td>0</td>\n",
       "      <td>0</td>\n",
       "      <td>0</td>\n",
       "      <td>...</td>\n",
       "      <td>1</td>\n",
       "      <td>0</td>\n",
       "      <td>0</td>\n",
       "      <td>0</td>\n",
       "      <td>0</td>\n",
       "      <td>0</td>\n",
       "      <td>0</td>\n",
       "      <td>0</td>\n",
       "      <td>0</td>\n",
       "      <td>0</td>\n",
       "    </tr>\n",
       "    <tr>\n",
       "      <th>1337</th>\n",
       "      <td>2.927942e+10</td>\n",
       "      <td>3.14159E+11</td>\n",
       "      <td>0</td>\n",
       "      <td>0</td>\n",
       "      <td>0</td>\n",
       "      <td>0</td>\n",
       "      <td>0</td>\n",
       "      <td>0</td>\n",
       "      <td>0</td>\n",
       "      <td>0</td>\n",
       "      <td>...</td>\n",
       "      <td>1</td>\n",
       "      <td>0</td>\n",
       "      <td>0</td>\n",
       "      <td>0</td>\n",
       "      <td>0</td>\n",
       "      <td>0</td>\n",
       "      <td>0</td>\n",
       "      <td>0</td>\n",
       "      <td>0</td>\n",
       "      <td>0</td>\n",
       "    </tr>\n",
       "    <tr>\n",
       "      <th>BTC</th>\n",
       "      <td>1.792718e+07</td>\n",
       "      <td>21000000</td>\n",
       "      <td>0</td>\n",
       "      <td>0</td>\n",
       "      <td>0</td>\n",
       "      <td>0</td>\n",
       "      <td>0</td>\n",
       "      <td>0</td>\n",
       "      <td>0</td>\n",
       "      <td>0</td>\n",
       "      <td>...</td>\n",
       "      <td>0</td>\n",
       "      <td>0</td>\n",
       "      <td>0</td>\n",
       "      <td>0</td>\n",
       "      <td>0</td>\n",
       "      <td>0</td>\n",
       "      <td>0</td>\n",
       "      <td>0</td>\n",
       "      <td>0</td>\n",
       "      <td>0</td>\n",
       "    </tr>\n",
       "    <tr>\n",
       "      <th>ETH</th>\n",
       "      <td>1.076842e+08</td>\n",
       "      <td>0</td>\n",
       "      <td>0</td>\n",
       "      <td>0</td>\n",
       "      <td>0</td>\n",
       "      <td>0</td>\n",
       "      <td>0</td>\n",
       "      <td>0</td>\n",
       "      <td>0</td>\n",
       "      <td>0</td>\n",
       "      <td>...</td>\n",
       "      <td>0</td>\n",
       "      <td>0</td>\n",
       "      <td>0</td>\n",
       "      <td>0</td>\n",
       "      <td>0</td>\n",
       "      <td>0</td>\n",
       "      <td>0</td>\n",
       "      <td>0</td>\n",
       "      <td>0</td>\n",
       "      <td>0</td>\n",
       "    </tr>\n",
       "    <tr>\n",
       "      <th>LTC</th>\n",
       "      <td>6.303924e+07</td>\n",
       "      <td>84000000</td>\n",
       "      <td>0</td>\n",
       "      <td>0</td>\n",
       "      <td>0</td>\n",
       "      <td>0</td>\n",
       "      <td>0</td>\n",
       "      <td>0</td>\n",
       "      <td>0</td>\n",
       "      <td>0</td>\n",
       "      <td>...</td>\n",
       "      <td>0</td>\n",
       "      <td>0</td>\n",
       "      <td>0</td>\n",
       "      <td>0</td>\n",
       "      <td>0</td>\n",
       "      <td>0</td>\n",
       "      <td>0</td>\n",
       "      <td>0</td>\n",
       "      <td>0</td>\n",
       "      <td>0</td>\n",
       "    </tr>\n",
       "    <tr>\n",
       "      <th>DASH</th>\n",
       "      <td>9.031294e+06</td>\n",
       "      <td>22000000</td>\n",
       "      <td>0</td>\n",
       "      <td>0</td>\n",
       "      <td>0</td>\n",
       "      <td>0</td>\n",
       "      <td>0</td>\n",
       "      <td>0</td>\n",
       "      <td>0</td>\n",
       "      <td>0</td>\n",
       "      <td>...</td>\n",
       "      <td>1</td>\n",
       "      <td>0</td>\n",
       "      <td>0</td>\n",
       "      <td>0</td>\n",
       "      <td>0</td>\n",
       "      <td>0</td>\n",
       "      <td>0</td>\n",
       "      <td>0</td>\n",
       "      <td>0</td>\n",
       "      <td>0</td>\n",
       "    </tr>\n",
       "    <tr>\n",
       "      <th>XMR</th>\n",
       "      <td>1.720114e+07</td>\n",
       "      <td>0</td>\n",
       "      <td>0</td>\n",
       "      <td>0</td>\n",
       "      <td>0</td>\n",
       "      <td>0</td>\n",
       "      <td>0</td>\n",
       "      <td>0</td>\n",
       "      <td>0</td>\n",
       "      <td>0</td>\n",
       "      <td>...</td>\n",
       "      <td>0</td>\n",
       "      <td>0</td>\n",
       "      <td>0</td>\n",
       "      <td>0</td>\n",
       "      <td>0</td>\n",
       "      <td>0</td>\n",
       "      <td>0</td>\n",
       "      <td>0</td>\n",
       "      <td>0</td>\n",
       "      <td>0</td>\n",
       "    </tr>\n",
       "    <tr>\n",
       "      <th>ETC</th>\n",
       "      <td>1.133597e+08</td>\n",
       "      <td>210000000</td>\n",
       "      <td>0</td>\n",
       "      <td>0</td>\n",
       "      <td>0</td>\n",
       "      <td>0</td>\n",
       "      <td>0</td>\n",
       "      <td>0</td>\n",
       "      <td>0</td>\n",
       "      <td>0</td>\n",
       "      <td>...</td>\n",
       "      <td>0</td>\n",
       "      <td>0</td>\n",
       "      <td>0</td>\n",
       "      <td>0</td>\n",
       "      <td>0</td>\n",
       "      <td>0</td>\n",
       "      <td>0</td>\n",
       "      <td>0</td>\n",
       "      <td>0</td>\n",
       "      <td>0</td>\n",
       "    </tr>\n",
       "    <tr>\n",
       "      <th>ZEC</th>\n",
       "      <td>7.383056e+06</td>\n",
       "      <td>21000000</td>\n",
       "      <td>0</td>\n",
       "      <td>0</td>\n",
       "      <td>0</td>\n",
       "      <td>0</td>\n",
       "      <td>0</td>\n",
       "      <td>0</td>\n",
       "      <td>0</td>\n",
       "      <td>0</td>\n",
       "      <td>...</td>\n",
       "      <td>0</td>\n",
       "      <td>0</td>\n",
       "      <td>0</td>\n",
       "      <td>0</td>\n",
       "      <td>0</td>\n",
       "      <td>0</td>\n",
       "      <td>0</td>\n",
       "      <td>0</td>\n",
       "      <td>0</td>\n",
       "      <td>0</td>\n",
       "    </tr>\n",
       "  </tbody>\n",
       "</table>\n",
       "<p>10 rows × 98 columns</p>\n",
       "</div>"
      ],
      "text/plain": [
       "      TotalCoinsMined TotalCoinSupply  Algorithm_1GB AES Pattern Search  \\\n",
       "                                                                          \n",
       "42       4.199995e+01              42                                 0   \n",
       "404      1.055185e+09       532000000                                 0   \n",
       "1337     2.927942e+10     3.14159E+11                                 0   \n",
       "BTC      1.792718e+07        21000000                                 0   \n",
       "ETH      1.076842e+08               0                                 0   \n",
       "LTC      6.303924e+07        84000000                                 0   \n",
       "DASH     9.031294e+06        22000000                                 0   \n",
       "XMR      1.720114e+07               0                                 0   \n",
       "ETC      1.133597e+08       210000000                                 0   \n",
       "ZEC      7.383056e+06        21000000                                 0   \n",
       "\n",
       "      Algorithm_536  Algorithm_Argon2d  Algorithm_BLAKE256  Algorithm_Blake  \\\n",
       "                                                                              \n",
       "42                0                  0                   0                0   \n",
       "404               0                  0                   0                0   \n",
       "1337              0                  0                   0                0   \n",
       "BTC               0                  0                   0                0   \n",
       "ETH               0                  0                   0                0   \n",
       "LTC               0                  0                   0                0   \n",
       "DASH              0                  0                   0                0   \n",
       "XMR               0                  0                   0                0   \n",
       "ETC               0                  0                   0                0   \n",
       "ZEC               0                  0                   0                0   \n",
       "\n",
       "      Algorithm_Blake2S  Algorithm_Blake2b  Algorithm_C11  ...  \\\n",
       "                                                           ...   \n",
       "42                    0                  0              0  ...   \n",
       "404                   0                  0              0  ...   \n",
       "1337                  0                  0              0  ...   \n",
       "BTC                   0                  0              0  ...   \n",
       "ETH                   0                  0              0  ...   \n",
       "LTC                   0                  0              0  ...   \n",
       "DASH                  0                  0              0  ...   \n",
       "XMR                   0                  0              0  ...   \n",
       "ETC                   0                  0              0  ...   \n",
       "ZEC                   0                  0              0  ...   \n",
       "\n",
       "      ProofType_PoW/PoS  ProofType_PoW/PoS   ProofType_PoW/PoW  \\\n",
       "                                                                 \n",
       "42                    1                   0                  0   \n",
       "404                   1                   0                  0   \n",
       "1337                  1                   0                  0   \n",
       "BTC                   0                   0                  0   \n",
       "ETH                   0                   0                  0   \n",
       "LTC                   0                   0                  0   \n",
       "DASH                  1                   0                  0   \n",
       "XMR                   0                   0                  0   \n",
       "ETC                   0                   0                  0   \n",
       "ZEC                   0                   0                  0   \n",
       "\n",
       "      ProofType_PoW/nPoS  ProofType_Pos  ProofType_Proof of Authority  \\\n",
       "                                                                        \n",
       "42                     0              0                             0   \n",
       "404                    0              0                             0   \n",
       "1337                   0              0                             0   \n",
       "BTC                    0              0                             0   \n",
       "ETH                    0              0                             0   \n",
       "LTC                    0              0                             0   \n",
       "DASH                   0              0                             0   \n",
       "XMR                    0              0                             0   \n",
       "ETC                    0              0                             0   \n",
       "ZEC                    0              0                             0   \n",
       "\n",
       "      ProofType_Proof of Trust  ProofType_TPoS  \\\n",
       "                                                 \n",
       "42                           0               0   \n",
       "404                          0               0   \n",
       "1337                         0               0   \n",
       "BTC                          0               0   \n",
       "ETH                          0               0   \n",
       "LTC                          0               0   \n",
       "DASH                         0               0   \n",
       "XMR                          0               0   \n",
       "ETC                          0               0   \n",
       "ZEC                          0               0   \n",
       "\n",
       "      ProofType_Zero-Knowledge Proof  ProofType_dPoW/PoW  \n",
       "                                                          \n",
       "42                                 0                   0  \n",
       "404                                0                   0  \n",
       "1337                               0                   0  \n",
       "BTC                                0                   0  \n",
       "ETH                                0                   0  \n",
       "LTC                                0                   0  \n",
       "DASH                               0                   0  \n",
       "XMR                                0                   0  \n",
       "ETC                                0                   0  \n",
       "ZEC                                0                   0  \n",
       "\n",
       "[10 rows x 98 columns]"
      ]
     },
     "execution_count": 200,
     "metadata": {},
     "output_type": "execute_result"
    }
   ],
   "source": [
    "# Use get_dummies() to create variables for text features.\n",
    "X = pd.get_dummies(crypto_df, columns=[\"Algorithm\",\"ProofType\"])\n",
    "\n",
    "# View the resulting shape\n",
    "print(X.shape)\n",
    "\n",
    "# View a sample of the dataframe\n",
    "X.head(10)"
   ]
  },
  {
   "cell_type": "code",
   "execution_count": 201,
   "metadata": {},
   "outputs": [
    {
     "name": "stdout",
     "output_type": "stream",
     "text": [
      "[[-0.11710816 -0.15287029 -0.0433963  ... -0.0433963  -0.0433963\n",
      "  -0.0433963 ]\n",
      " [-0.09396955 -0.14500899 -0.0433963  ... -0.0433963  -0.0433963\n",
      "  -0.0433963 ]\n",
      " [ 0.52494542  4.48942055 -0.0433963  ... -0.0433963  -0.0433963\n",
      "  -0.0433963 ]\n",
      " ...\n",
      " [-0.09561336 -0.13217936 -0.0433963  ... -0.0433963  -0.0433963\n",
      "  -0.0433963 ]\n",
      " [-0.11694816 -0.15255997 -0.0433963  ... -0.0433963  -0.0433963\n",
      "  -0.0433963 ]\n",
      " [-0.11710535 -0.15285551 -0.0433963  ... -0.0433963  -0.0433963\n",
      "  -0.0433963 ]]\n"
     ]
    }
   ],
   "source": [
    "# Standardize the data with StandardScaler().\n",
    "X = StandardScaler().fit_transform(X)\n",
    "print(X)"
   ]
  },
  {
   "cell_type": "markdown",
   "metadata": {},
   "source": [
    "### Deliverable 2: Reducing Data Dimensions Using PCA"
   ]
  },
  {
   "cell_type": "code",
   "execution_count": 223,
   "metadata": {},
   "outputs": [
    {
     "name": "stdout",
     "output_type": "stream",
     "text": [
      "[[-0.3333597   1.1045787  -0.40514   ]\n",
      " [-0.31672718  1.10468528 -0.40552877]\n",
      " [ 2.29371561  1.69102378 -0.60580224]\n",
      " ...\n",
      " [ 0.32073176 -2.32082089  0.27559975]\n",
      " [-0.15830948 -2.09738525  0.32368918]\n",
      " [-0.29309998  0.89101239 -0.19736143]]\n"
     ]
    }
   ],
   "source": [
    "# Using PCA to reduce dimension to three principal components.\n",
    "pca = PCA(n_components=3)\n",
    "crypto_pca = pca.fit_transform(X)\n",
    "print(crypto_pca)"
   ]
  },
  {
   "cell_type": "code",
   "execution_count": 224,
   "metadata": {},
   "outputs": [
    {
     "name": "stdout",
     "output_type": "stream",
     "text": [
      "(532, 3)\n"
     ]
    },
    {
     "data": {
      "text/html": [
       "<div>\n",
       "<style scoped>\n",
       "    .dataframe tbody tr th:only-of-type {\n",
       "        vertical-align: middle;\n",
       "    }\n",
       "\n",
       "    .dataframe tbody tr th {\n",
       "        vertical-align: top;\n",
       "    }\n",
       "\n",
       "    .dataframe thead th {\n",
       "        text-align: right;\n",
       "    }\n",
       "</style>\n",
       "<table border=\"1\" class=\"dataframe\">\n",
       "  <thead>\n",
       "    <tr style=\"text-align: right;\">\n",
       "      <th></th>\n",
       "      <th>PC 1</th>\n",
       "      <th>PC 2</th>\n",
       "      <th>PC 3</th>\n",
       "    </tr>\n",
       "    <tr>\n",
       "      <th></th>\n",
       "      <th></th>\n",
       "      <th></th>\n",
       "      <th></th>\n",
       "    </tr>\n",
       "  </thead>\n",
       "  <tbody>\n",
       "    <tr>\n",
       "      <th>42</th>\n",
       "      <td>-0.333360</td>\n",
       "      <td>1.104579</td>\n",
       "      <td>-0.405140</td>\n",
       "    </tr>\n",
       "    <tr>\n",
       "      <th>404</th>\n",
       "      <td>-0.316727</td>\n",
       "      <td>1.104685</td>\n",
       "      <td>-0.405529</td>\n",
       "    </tr>\n",
       "    <tr>\n",
       "      <th>1337</th>\n",
       "      <td>2.293716</td>\n",
       "      <td>1.691024</td>\n",
       "      <td>-0.605802</td>\n",
       "    </tr>\n",
       "    <tr>\n",
       "      <th>BTC</th>\n",
       "      <td>-0.144796</td>\n",
       "      <td>-1.337888</td>\n",
       "      <td>0.196459</td>\n",
       "    </tr>\n",
       "    <tr>\n",
       "      <th>ETH</th>\n",
       "      <td>-0.137936</td>\n",
       "      <td>-2.064264</td>\n",
       "      <td>0.297744</td>\n",
       "    </tr>\n",
       "    <tr>\n",
       "      <th>LTC</th>\n",
       "      <td>-0.164258</td>\n",
       "      <td>-1.075183</td>\n",
       "      <td>0.015892</td>\n",
       "    </tr>\n",
       "    <tr>\n",
       "      <th>DASH</th>\n",
       "      <td>-0.398096</td>\n",
       "      <td>1.209122</td>\n",
       "      <td>-0.453221</td>\n",
       "    </tr>\n",
       "    <tr>\n",
       "      <th>XMR</th>\n",
       "      <td>-0.139794</td>\n",
       "      <td>-2.223059</td>\n",
       "      <td>0.361254</td>\n",
       "    </tr>\n",
       "    <tr>\n",
       "      <th>ETC</th>\n",
       "      <td>-0.136381</td>\n",
       "      <td>-2.064370</td>\n",
       "      <td>0.297709</td>\n",
       "    </tr>\n",
       "    <tr>\n",
       "      <th>ZEC</th>\n",
       "      <td>-0.158308</td>\n",
       "      <td>-2.097385</td>\n",
       "      <td>0.323689</td>\n",
       "    </tr>\n",
       "  </tbody>\n",
       "</table>\n",
       "</div>"
      ],
      "text/plain": [
       "          PC 1      PC 2      PC 3\n",
       "                                  \n",
       "42   -0.333360  1.104579 -0.405140\n",
       "404  -0.316727  1.104685 -0.405529\n",
       "1337  2.293716  1.691024 -0.605802\n",
       "BTC  -0.144796 -1.337888  0.196459\n",
       "ETH  -0.137936 -2.064264  0.297744\n",
       "LTC  -0.164258 -1.075183  0.015892\n",
       "DASH -0.398096  1.209122 -0.453221\n",
       "XMR  -0.139794 -2.223059  0.361254\n",
       "ETC  -0.136381 -2.064370  0.297709\n",
       "ZEC  -0.158308 -2.097385  0.323689"
      ]
     },
     "execution_count": 224,
     "metadata": {},
     "output_type": "execute_result"
    }
   ],
   "source": [
    "# Create a DataFrame with the three principal components.\n",
    "pcs_df = pd.DataFrame(data=crypto_pca, columns=[\"PC 1\",\"PC 2\",\"PC 3\"], index=crypto_df.index)\n",
    "\n",
    "# View the resulting shape\n",
    "print(pcs_df.shape)\n",
    "\n",
    "# View a sample of the dataframe\n",
    "pcs_df.head(10)"
   ]
  },
  {
   "cell_type": "markdown",
   "metadata": {},
   "source": [
    "### Deliverable 3: Clustering Crytocurrencies Using K-Means\n",
    "\n",
    "#### Finding the Best Value for `k` Using the Elbow Curve"
   ]
  },
  {
   "cell_type": "code",
   "execution_count": 225,
   "metadata": {},
   "outputs": [
    {
     "name": "stderr",
     "output_type": "stream",
     "text": [
      "C:\\Users\\z002cr1\\Anaconda3\\envs\\PythonData\\lib\\site-packages\\sklearn\\cluster\\_kmeans.py:1037: UserWarning:\n",
      "\n",
      "KMeans is known to have a memory leak on Windows with MKL, when there are less chunks than available threads. You can avoid it by setting the environment variable OMP_NUM_THREADS=3.\n",
      "\n"
     ]
    },
    {
     "data": {},
     "metadata": {},
     "output_type": "display_data"
    },
    {
     "data": {
      "application/vnd.holoviews_exec.v0+json": "",
      "text/html": [
       "<div id='2551'>\n",
       "\n",
       "\n",
       "\n",
       "\n",
       "\n",
       "  <div class=\"bk-root\" id=\"303d0ba1-8887-4c30-9f23-3c73ffca7b4a\" data-root-id=\"2551\"></div>\n",
       "</div>\n",
       "<script type=\"application/javascript\">(function(root) {\n",
       "  function embed_document(root) {\n",
       "    var docs_json = {\"c4af7ebb-f177-4065-be18-70fc220b62a9\":{\"defs\":[{\"extends\":null,\"module\":null,\"name\":\"ReactiveHTML1\",\"overrides\":[],\"properties\":[]},{\"extends\":null,\"module\":null,\"name\":\"FlexBox1\",\"overrides\":[],\"properties\":[{\"default\":\"flex-start\",\"kind\":null,\"name\":\"align_content\"},{\"default\":\"flex-start\",\"kind\":null,\"name\":\"align_items\"},{\"default\":\"row\",\"kind\":null,\"name\":\"flex_direction\"},{\"default\":\"wrap\",\"kind\":null,\"name\":\"flex_wrap\"},{\"default\":\"flex-start\",\"kind\":null,\"name\":\"justify_content\"}]},{\"extends\":null,\"module\":null,\"name\":\"TemplateActions1\",\"overrides\":[],\"properties\":[{\"default\":0,\"kind\":null,\"name\":\"open_modal\"},{\"default\":0,\"kind\":null,\"name\":\"close_modal\"}]},{\"extends\":null,\"module\":null,\"name\":\"MaterialTemplateActions1\",\"overrides\":[],\"properties\":[{\"default\":0,\"kind\":null,\"name\":\"open_modal\"},{\"default\":0,\"kind\":null,\"name\":\"close_modal\"}]}],\"roots\":{\"references\":[{\"attributes\":{},\"id\":\"2570\",\"type\":\"BasicTicker\"},{\"attributes\":{\"end\":10.0,\"reset_end\":10.0,\"reset_start\":1.0,\"start\":1.0,\"tags\":[[[\"k\",\"k\",null]]]},\"id\":\"2553\",\"type\":\"Range1d\"},{\"attributes\":{\"axis\":{\"id\":\"2569\"},\"coordinates\":null,\"dimension\":1,\"grid_line_color\":null,\"group\":null,\"ticker\":null},\"id\":\"2572\",\"type\":\"Grid\"},{\"attributes\":{\"coordinates\":null,\"group\":null,\"text\":\"Elbow Curve\",\"text_color\":\"black\",\"text_font_size\":\"12pt\"},\"id\":\"2557\",\"type\":\"Title\"},{\"attributes\":{\"margin\":[5,5,5,5],\"name\":\"HSpacer04836\",\"sizing_mode\":\"stretch_width\"},\"id\":\"2552\",\"type\":\"Spacer\"},{\"attributes\":{},\"id\":\"2598\",\"type\":\"AllLabels\"},{\"attributes\":{\"line_color\":\"#30a2da\",\"line_width\":2,\"x\":{\"field\":\"k\"},\"y\":{\"field\":\"inertia\"}},\"id\":\"2594\",\"type\":\"Line\"},{\"attributes\":{\"coordinates\":null,\"data_source\":{\"id\":\"2586\"},\"glyph\":{\"id\":\"2589\"},\"group\":null,\"hover_glyph\":null,\"muted_glyph\":{\"id\":\"2591\"},\"nonselection_glyph\":{\"id\":\"2590\"},\"selection_glyph\":{\"id\":\"2594\"},\"view\":{\"id\":\"2593\"}},\"id\":\"2592\",\"type\":\"GlyphRenderer\"},{\"attributes\":{\"ticks\":[1,2,3,4,5,6,7,8,9,10]},\"id\":\"2595\",\"type\":\"FixedTicker\"},{\"attributes\":{},\"id\":\"2597\",\"type\":\"BasicTickFormatter\"},{\"attributes\":{},\"id\":\"2610\",\"type\":\"UnionRenderers\"},{\"attributes\":{\"tools\":[{\"id\":\"2555\"},{\"id\":\"2573\"},{\"id\":\"2574\"},{\"id\":\"2575\"},{\"id\":\"2576\"},{\"id\":\"2577\"}]},\"id\":\"2579\",\"type\":\"Toolbar\"},{\"attributes\":{\"bottom_units\":\"screen\",\"coordinates\":null,\"fill_alpha\":0.5,\"fill_color\":\"lightgrey\",\"group\":null,\"left_units\":\"screen\",\"level\":\"overlay\",\"line_alpha\":1.0,\"line_color\":\"black\",\"line_dash\":[4,4],\"line_width\":2,\"right_units\":\"screen\",\"syncable\":false,\"top_units\":\"screen\"},\"id\":\"2578\",\"type\":\"BoxAnnotation\"},{\"attributes\":{\"end\":3991.5939278099827,\"reset_end\":3991.5939278099827,\"reset_start\":-250.88074813636956,\"start\":-250.88074813636956,\"tags\":[[[\"inertia\",\"inertia\",null]]]},\"id\":\"2554\",\"type\":\"Range1d\"},{\"attributes\":{\"source\":{\"id\":\"2586\"}},\"id\":\"2593\",\"type\":\"CDSView\"},{\"attributes\":{},\"id\":\"2573\",\"type\":\"SaveTool\"},{\"attributes\":{},\"id\":\"2603\",\"type\":\"AllLabels\"},{\"attributes\":{\"line_alpha\":0.1,\"line_color\":\"#30a2da\",\"line_width\":2,\"x\":{\"field\":\"k\"},\"y\":{\"field\":\"inertia\"}},\"id\":\"2590\",\"type\":\"Line\"},{\"attributes\":{\"callback\":null,\"renderers\":[{\"id\":\"2592\"}],\"tags\":[\"hv_created\"],\"tooltips\":[[\"k\",\"@{k}\"],[\"inertia\",\"@{inertia}\"]]},\"id\":\"2555\",\"type\":\"HoverTool\"},{\"attributes\":{},\"id\":\"2574\",\"type\":\"PanTool\"},{\"attributes\":{\"line_alpha\":0.2,\"line_color\":\"#30a2da\",\"line_width\":2,\"x\":{\"field\":\"k\"},\"y\":{\"field\":\"inertia\"}},\"id\":\"2591\",\"type\":\"Line\"},{\"attributes\":{},\"id\":\"2577\",\"type\":\"ResetTool\"},{\"attributes\":{\"margin\":[5,5,5,5],\"name\":\"HSpacer04837\",\"sizing_mode\":\"stretch_width\"},\"id\":\"2622\",\"type\":\"Spacer\"},{\"attributes\":{},\"id\":\"2575\",\"type\":\"WheelZoomTool\"},{\"attributes\":{\"line_color\":\"#30a2da\",\"line_width\":2,\"x\":{\"field\":\"k\"},\"y\":{\"field\":\"inertia\"}},\"id\":\"2589\",\"type\":\"Line\"},{\"attributes\":{\"overlay\":{\"id\":\"2578\"}},\"id\":\"2576\",\"type\":\"BoxZoomTool\"},{\"attributes\":{\"data\":{\"inertia\":{\"__ndarray__\":\"fiqU1htsrEC/KkZJYVajQKAnHuhQSpdA/FcbrjxhgUBJroq5H6p2QKIKaY4j8XFAlCtdAo7aa0DOwWRhlYplQEMX6Lfu32FAE0bW6SmqWUA=\",\"dtype\":\"float64\",\"order\":\"little\",\"shape\":[10]},\"k\":[1,2,3,4,5,6,7,8,9,10]},\"selected\":{\"id\":\"2587\"},\"selection_policy\":{\"id\":\"2610\"}},\"id\":\"2586\",\"type\":\"ColumnDataSource\"},{\"attributes\":{},\"id\":\"2561\",\"type\":\"LinearScale\"},{\"attributes\":{\"axis\":{\"id\":\"2565\"},\"coordinates\":null,\"grid_line_color\":null,\"group\":null,\"ticker\":null},\"id\":\"2568\",\"type\":\"Grid\"},{\"attributes\":{\"below\":[{\"id\":\"2565\"}],\"center\":[{\"id\":\"2568\"},{\"id\":\"2572\"}],\"height\":300,\"left\":[{\"id\":\"2569\"}],\"margin\":[5,5,5,5],\"min_border_bottom\":10,\"min_border_left\":10,\"min_border_right\":10,\"min_border_top\":10,\"renderers\":[{\"id\":\"2592\"}],\"sizing_mode\":\"fixed\",\"title\":{\"id\":\"2557\"},\"toolbar\":{\"id\":\"2579\"},\"width\":700,\"x_range\":{\"id\":\"2553\"},\"x_scale\":{\"id\":\"2561\"},\"y_range\":{\"id\":\"2554\"},\"y_scale\":{\"id\":\"2563\"}},\"id\":\"2556\",\"subtype\":\"Figure\",\"type\":\"Plot\"},{\"attributes\":{},\"id\":\"2563\",\"type\":\"LinearScale\"},{\"attributes\":{\"axis_label\":\"inertia\",\"coordinates\":null,\"formatter\":{\"id\":\"2602\"},\"group\":null,\"major_label_policy\":{\"id\":\"2603\"},\"ticker\":{\"id\":\"2570\"}},\"id\":\"2569\",\"type\":\"LinearAxis\"},{\"attributes\":{\"children\":[{\"id\":\"2552\"},{\"id\":\"2556\"},{\"id\":\"2622\"}],\"margin\":[0,0,0,0],\"name\":\"Row04832\",\"tags\":[\"embedded\"]},\"id\":\"2551\",\"type\":\"Row\"},{\"attributes\":{\"axis_label\":\"k\",\"coordinates\":null,\"formatter\":{\"id\":\"2597\"},\"group\":null,\"major_label_policy\":{\"id\":\"2598\"},\"ticker\":{\"id\":\"2595\"}},\"id\":\"2565\",\"type\":\"LinearAxis\"},{\"attributes\":{},\"id\":\"2587\",\"type\":\"Selection\"},{\"attributes\":{},\"id\":\"2602\",\"type\":\"BasicTickFormatter\"}],\"root_ids\":[\"2551\"]},\"title\":\"Bokeh Application\",\"version\":\"2.4.2\"}};\n",
       "    var render_items = [{\"docid\":\"c4af7ebb-f177-4065-be18-70fc220b62a9\",\"root_ids\":[\"2551\"],\"roots\":{\"2551\":\"303d0ba1-8887-4c30-9f23-3c73ffca7b4a\"}}];\n",
       "    root.Bokeh.embed.embed_items_notebook(docs_json, render_items);\n",
       "  }\n",
       "  if (root.Bokeh !== undefined && root.Bokeh.Panel !== undefined) {\n",
       "    embed_document(root);\n",
       "  } else {\n",
       "    var attempts = 0;\n",
       "    var timer = setInterval(function(root) {\n",
       "      if (root.Bokeh !== undefined && root.Bokeh.Panel !== undefined) {\n",
       "        clearInterval(timer);\n",
       "        embed_document(root);\n",
       "      } else if (document.readyState == \"complete\") {\n",
       "        attempts++;\n",
       "        if (attempts > 200) {\n",
       "          clearInterval(timer);\n",
       "          console.log(\"Bokeh: ERROR: Unable to run BokehJS code because BokehJS library is missing\");\n",
       "        }\n",
       "      }\n",
       "    }, 25, root)\n",
       "  }\n",
       "})(window);</script>"
      ],
      "text/plain": [
       ":Curve   [k]   (inertia)"
      ]
     },
     "execution_count": 225,
     "metadata": {
      "application/vnd.holoviews_exec.v0+json": {
       "id": "2551"
      }
     },
     "output_type": "execute_result"
    }
   ],
   "source": [
    "# Create an empty list for inertia and a list for possible numbers of clusters (k)\n",
    "inertia = []\n",
    "k = list(range(1, 11))\n",
    "\n",
    "# Calculate the inertia for the range of K values\n",
    "for i in k:\n",
    "    km = KMeans(n_clusters=i, random_state=0)\n",
    "    km.fit(pcs_df)\n",
    "    inertia.append(km.inertia_)\n",
    "    \n",
    "# Create an elbow curve to find the best value for K.\n",
    "elbow_data = {\"k\":k, \"inertia\":inertia}\n",
    "df_elbow = pd.DataFrame(elbow_data)\n",
    "df_elbow.hvplot.line(x=\"k\", y=\"inertia\", xticks=k, title=\"Elbow Curve\")"
   ]
  },
  {
   "cell_type": "markdown",
   "metadata": {},
   "source": [
    "Running K-Means with `k=4`"
   ]
  },
  {
   "cell_type": "code",
   "execution_count": 226,
   "metadata": {},
   "outputs": [
    {
     "name": "stdout",
     "output_type": "stream",
     "text": [
      "[1 1 1 0 0 0 1 0 0 0 1 0 1 1 0 1 0 0 1 1 0 0 0 0 0 1 0 0 0 1 0 1 0 0 1 1 0\n",
      " 0 0 0 0 0 1 1 0 0 0 0 0 1 1 0 1 0 0 0 0 1 0 0 1 0 1 1 1 0 0 0 1 1 1 1 1 0\n",
      " 0 0 1 1 0 1 0 1 1 0 0 0 0 1 1 0 1 0 0 1 1 0 1 1 0 0 0 1 0 1 1 0 1 0 1 0 1\n",
      " 0 1 1 0 0 1 0 0 0 1 0 0 0 0 0 1 1 0 0 0 1 0 1 0 0 1 0 1 0 1 1 0 0 1 0 0 1\n",
      " 1 0 1 0 1 1 1 0 0 0 0 1 1 1 1 1 0 0 1 1 1 1 1 0 1 1 1 1 1 0 1 0 1 1 0 1 0\n",
      " 1 1 0 1 0 1 0 1 0 1 1 1 1 0 1 1 1 1 1 0 0 1 1 0 0 1 1 1 1 1 0 1 1 1 1 1 1\n",
      " 1 1 0 1 1 1 1 1 1 0 0 0 1 1 1 1 0 1 0 1 1 0 1 0 0 1 0 0 1 0 1 1 1 0 1 1 0\n",
      " 1 1 1 1 1 1 1 0 1 0 1 1 1 1 0 1 0 1 0 0 0 0 1 0 1 1 0 1 0 0 0 1 0 1 0 0 0\n",
      " 1 0 1 0 1 1 1 0 1 0 0 0 0 0 1 1 0 1 1 1 0 1 0 1 0 1 0 1 1 1 1 0 1 1 0 1 1\n",
      " 1 0 0 0 0 1 1 1 1 0 1 0 0 0 1 1 0 0 1 1 0 1 0 0 0 1 0 0 1 1 1 0 0 0 1 1 1\n",
      " 0 0 1 0 0 0 0 1 1 3 0 0 0 1 3 1 1 1 1 0 0 0 0 1 1 1 0 1 0 1 1 1 1 0 1 1 0\n",
      " 1 1 0 0 1 0 1 0 0 0 0 1 1 0 1 0 1 1 1 1 1 1 0 0 0 1 1 1 1 1 1 0 1 0 0 0 0\n",
      " 1 1 1 1 0 1 1 0 1 1 0 1 0 1 0 0 1 1 0 1 0 0 0 0 0 1 0 1 0 1 1 0 1 1 1 1 1\n",
      " 0 0 0 1 1 1 0 1 0 1 0 1 1 1 1 0 1 1 1 0 1 0 1 0 1 1 1 0 0 1 1 1 1 1 1 0 1\n",
      " 0 1 0 1 1 3 1 2 1 1 1 0 0 1]\n"
     ]
    }
   ],
   "source": [
    "# Initialize the K-Means model.\n",
    "model = KMeans(n_clusters=4, random_state=0)\n",
    "\n",
    "# Fit the model\n",
    "model.fit(pcs_df)\n",
    "\n",
    "# Predict clusters\n",
    "predictions = model.predict(pcs_df)\n",
    "print(predictions)"
   ]
  },
  {
   "cell_type": "code",
   "execution_count": 227,
   "metadata": {},
   "outputs": [
    {
     "name": "stdout",
     "output_type": "stream",
     "text": [
      "(532, 9)\n"
     ]
    },
    {
     "data": {
      "text/html": [
       "<div>\n",
       "<style scoped>\n",
       "    .dataframe tbody tr th:only-of-type {\n",
       "        vertical-align: middle;\n",
       "    }\n",
       "\n",
       "    .dataframe tbody tr th {\n",
       "        vertical-align: top;\n",
       "    }\n",
       "\n",
       "    .dataframe thead th {\n",
       "        text-align: right;\n",
       "    }\n",
       "</style>\n",
       "<table border=\"1\" class=\"dataframe\">\n",
       "  <thead>\n",
       "    <tr style=\"text-align: right;\">\n",
       "      <th></th>\n",
       "      <th>Algorithm</th>\n",
       "      <th>ProofType</th>\n",
       "      <th>TotalCoinsMined</th>\n",
       "      <th>TotalCoinSupply</th>\n",
       "      <th>PC 1</th>\n",
       "      <th>PC 2</th>\n",
       "      <th>PC 3</th>\n",
       "      <th>CoinName</th>\n",
       "      <th>Class</th>\n",
       "    </tr>\n",
       "    <tr>\n",
       "      <th></th>\n",
       "      <th></th>\n",
       "      <th></th>\n",
       "      <th></th>\n",
       "      <th></th>\n",
       "      <th></th>\n",
       "      <th></th>\n",
       "      <th></th>\n",
       "      <th></th>\n",
       "      <th></th>\n",
       "    </tr>\n",
       "  </thead>\n",
       "  <tbody>\n",
       "    <tr>\n",
       "      <th>42</th>\n",
       "      <td>Scrypt</td>\n",
       "      <td>PoW/PoS</td>\n",
       "      <td>4.199995e+01</td>\n",
       "      <td>42</td>\n",
       "      <td>-0.333360</td>\n",
       "      <td>1.104579</td>\n",
       "      <td>-0.405140</td>\n",
       "      <td>42 Coin</td>\n",
       "      <td>1</td>\n",
       "    </tr>\n",
       "    <tr>\n",
       "      <th>404</th>\n",
       "      <td>Scrypt</td>\n",
       "      <td>PoW/PoS</td>\n",
       "      <td>1.055185e+09</td>\n",
       "      <td>532000000</td>\n",
       "      <td>-0.316727</td>\n",
       "      <td>1.104685</td>\n",
       "      <td>-0.405529</td>\n",
       "      <td>404Coin</td>\n",
       "      <td>1</td>\n",
       "    </tr>\n",
       "    <tr>\n",
       "      <th>1337</th>\n",
       "      <td>X13</td>\n",
       "      <td>PoW/PoS</td>\n",
       "      <td>2.927942e+10</td>\n",
       "      <td>3.14159E+11</td>\n",
       "      <td>2.293716</td>\n",
       "      <td>1.691024</td>\n",
       "      <td>-0.605802</td>\n",
       "      <td>EliteCoin</td>\n",
       "      <td>1</td>\n",
       "    </tr>\n",
       "    <tr>\n",
       "      <th>BTC</th>\n",
       "      <td>SHA-256</td>\n",
       "      <td>PoW</td>\n",
       "      <td>1.792718e+07</td>\n",
       "      <td>21000000</td>\n",
       "      <td>-0.144796</td>\n",
       "      <td>-1.337888</td>\n",
       "      <td>0.196459</td>\n",
       "      <td>Bitcoin</td>\n",
       "      <td>0</td>\n",
       "    </tr>\n",
       "    <tr>\n",
       "      <th>ETH</th>\n",
       "      <td>Ethash</td>\n",
       "      <td>PoW</td>\n",
       "      <td>1.076842e+08</td>\n",
       "      <td>0</td>\n",
       "      <td>-0.137936</td>\n",
       "      <td>-2.064264</td>\n",
       "      <td>0.297744</td>\n",
       "      <td>Ethereum</td>\n",
       "      <td>0</td>\n",
       "    </tr>\n",
       "    <tr>\n",
       "      <th>LTC</th>\n",
       "      <td>Scrypt</td>\n",
       "      <td>PoW</td>\n",
       "      <td>6.303924e+07</td>\n",
       "      <td>84000000</td>\n",
       "      <td>-0.164258</td>\n",
       "      <td>-1.075183</td>\n",
       "      <td>0.015892</td>\n",
       "      <td>Litecoin</td>\n",
       "      <td>0</td>\n",
       "    </tr>\n",
       "    <tr>\n",
       "      <th>DASH</th>\n",
       "      <td>X11</td>\n",
       "      <td>PoW/PoS</td>\n",
       "      <td>9.031294e+06</td>\n",
       "      <td>22000000</td>\n",
       "      <td>-0.398096</td>\n",
       "      <td>1.209122</td>\n",
       "      <td>-0.453221</td>\n",
       "      <td>Dash</td>\n",
       "      <td>1</td>\n",
       "    </tr>\n",
       "    <tr>\n",
       "      <th>XMR</th>\n",
       "      <td>CryptoNight-V7</td>\n",
       "      <td>PoW</td>\n",
       "      <td>1.720114e+07</td>\n",
       "      <td>0</td>\n",
       "      <td>-0.139794</td>\n",
       "      <td>-2.223059</td>\n",
       "      <td>0.361254</td>\n",
       "      <td>Monero</td>\n",
       "      <td>0</td>\n",
       "    </tr>\n",
       "    <tr>\n",
       "      <th>ETC</th>\n",
       "      <td>Ethash</td>\n",
       "      <td>PoW</td>\n",
       "      <td>1.133597e+08</td>\n",
       "      <td>210000000</td>\n",
       "      <td>-0.136381</td>\n",
       "      <td>-2.064370</td>\n",
       "      <td>0.297709</td>\n",
       "      <td>Ethereum Classic</td>\n",
       "      <td>0</td>\n",
       "    </tr>\n",
       "    <tr>\n",
       "      <th>ZEC</th>\n",
       "      <td>Equihash</td>\n",
       "      <td>PoW</td>\n",
       "      <td>7.383056e+06</td>\n",
       "      <td>21000000</td>\n",
       "      <td>-0.158308</td>\n",
       "      <td>-2.097385</td>\n",
       "      <td>0.323689</td>\n",
       "      <td>ZCash</td>\n",
       "      <td>0</td>\n",
       "    </tr>\n",
       "  </tbody>\n",
       "</table>\n",
       "</div>"
      ],
      "text/plain": [
       "           Algorithm ProofType  TotalCoinsMined TotalCoinSupply      PC 1  \\\n",
       "                                                                            \n",
       "42            Scrypt   PoW/PoS     4.199995e+01              42 -0.333360   \n",
       "404           Scrypt   PoW/PoS     1.055185e+09       532000000 -0.316727   \n",
       "1337             X13   PoW/PoS     2.927942e+10     3.14159E+11  2.293716   \n",
       "BTC          SHA-256       PoW     1.792718e+07        21000000 -0.144796   \n",
       "ETH           Ethash       PoW     1.076842e+08               0 -0.137936   \n",
       "LTC           Scrypt       PoW     6.303924e+07        84000000 -0.164258   \n",
       "DASH             X11   PoW/PoS     9.031294e+06        22000000 -0.398096   \n",
       "XMR   CryptoNight-V7       PoW     1.720114e+07               0 -0.139794   \n",
       "ETC           Ethash       PoW     1.133597e+08       210000000 -0.136381   \n",
       "ZEC         Equihash       PoW     7.383056e+06        21000000 -0.158308   \n",
       "\n",
       "          PC 2      PC 3          CoinName  Class  \n",
       "                                                   \n",
       "42    1.104579 -0.405140           42 Coin      1  \n",
       "404   1.104685 -0.405529           404Coin      1  \n",
       "1337  1.691024 -0.605802         EliteCoin      1  \n",
       "BTC  -1.337888  0.196459           Bitcoin      0  \n",
       "ETH  -2.064264  0.297744          Ethereum      0  \n",
       "LTC  -1.075183  0.015892          Litecoin      0  \n",
       "DASH  1.209122 -0.453221              Dash      1  \n",
       "XMR  -2.223059  0.361254            Monero      0  \n",
       "ETC  -2.064370  0.297709  Ethereum Classic      0  \n",
       "ZEC  -2.097385  0.323689             ZCash      0  "
      ]
     },
     "execution_count": 227,
     "metadata": {},
     "output_type": "execute_result"
    }
   ],
   "source": [
    "# Create a new DataFrame including predicted clusters and cryptocurrencies features.\n",
    "# Concatentate the crypto_df and pcs_df DataFrames on the same columns.\n",
    "clustered_df = crypto_df.join(pcs_df)\n",
    "clustered_df.head()\n",
    "\n",
    "\n",
    "#  Add a new column, \"CoinName\" to the clustered_df DataFrame that holds the names of the cryptocurrencies. \n",
    "clustered_df[\"CoinName\"] = crypto_names_df[\"CoinName\"]\n",
    "clustered_df.head()\n",
    "\n",
    "#  Add a new column, \"Class\" to the clustered_df DataFrame that holds the predictions.\n",
    "clustered_df[\"Class\"] = predictions\n",
    "clustered_df.head()\n",
    "\n",
    "# Print the shape of the clustered_df\n",
    "print(clustered_df.shape)\n",
    "clustered_df.head(10)"
   ]
  },
  {
   "cell_type": "markdown",
   "metadata": {},
   "source": [
    "### Deliverable 4: Visualizing Cryptocurrencies Results\n",
    "\n",
    "#### 3D-Scatter with Clusters"
   ]
  },
  {
   "cell_type": "code",
   "execution_count": 228,
   "metadata": {},
   "outputs": [
    {
     "data": {
      "application/vnd.plotly.v1+json": {
       "config": {
        "plotlyServerURL": "https://plot.ly"
       },
       "data": [
        {
         "customdata": [
          [
           "Scrypt"
          ],
          [
           "Scrypt"
          ],
          [
           "X13"
          ],
          [
           "X11"
          ],
          [
           "SHA-512"
          ],
          [
           "SHA-256"
          ],
          [
           "SHA-256"
          ],
          [
           "X15"
          ],
          [
           "Scrypt"
          ],
          [
           "Scrypt"
          ],
          [
           "Scrypt"
          ],
          [
           "Scrypt"
          ],
          [
           "Scrypt"
          ],
          [
           "Scrypt"
          ],
          [
           "Groestl"
          ],
          [
           "PoS"
          ],
          [
           "Scrypt"
          ],
          [
           "Scrypt"
          ],
          [
           "X11"
          ],
          [
           "X11"
          ],
          [
           "SHA3"
          ],
          [
           "Scrypt"
          ],
          [
           "SHA-256"
          ],
          [
           "Scrypt"
          ],
          [
           "X13"
          ],
          [
           "X13"
          ],
          [
           "NeoScrypt"
          ],
          [
           "Scrypt"
          ],
          [
           "Scrypt"
          ],
          [
           "Scrypt"
          ],
          [
           "X11"
          ],
          [
           "X11"
          ],
          [
           "Multiple"
          ],
          [
           "PHI1612"
          ],
          [
           "X11"
          ],
          [
           "Scrypt"
          ],
          [
           "Scrypt"
          ],
          [
           "Scrypt"
          ],
          [
           "X11"
          ],
          [
           "Multiple"
          ],
          [
           "X13"
          ],
          [
           "Scrypt"
          ],
          [
           "Counterparty"
          ],
          [
           "SHA-256"
          ],
          [
           "Groestl"
          ],
          [
           "Scrypt"
          ],
          [
           "X13"
          ],
          [
           "Scrypt"
          ],
          [
           "Scrypt"
          ],
          [
           "X13"
          ],
          [
           "X11"
          ],
          [
           "Scrypt"
          ],
          [
           "X11"
          ],
          [
           "SHA3"
          ],
          [
           "QUAIT"
          ],
          [
           "X11"
          ],
          [
           "Scrypt"
          ],
          [
           "X13"
          ],
          [
           "SHA-256"
          ],
          [
           "X15"
          ],
          [
           "BLAKE256"
          ],
          [
           "SHA-256"
          ],
          [
           "X11"
          ],
          [
           "SHA-256"
          ],
          [
           "NIST5"
          ],
          [
           "Scrypt"
          ],
          [
           "Scrypt"
          ],
          [
           "X11"
          ],
          [
           "Scrypt"
          ],
          [
           "SHA-256"
          ],
          [
           "Scrypt"
          ],
          [
           "PoS"
          ],
          [
           "X11"
          ],
          [
           "SHA-256"
          ],
          [
           "SHA-256"
          ],
          [
           "NIST5"
          ],
          [
           "X11"
          ],
          [
           "POS 3.0"
          ],
          [
           "Scrypt"
          ],
          [
           "Scrypt"
          ],
          [
           "Scrypt"
          ],
          [
           "X13"
          ],
          [
           "X11"
          ],
          [
           "X11"
          ],
          [
           "Scrypt"
          ],
          [
           "SHA-256"
          ],
          [
           "X11"
          ],
          [
           "Scrypt"
          ],
          [
           "Scrypt"
          ],
          [
           "Scrypt"
          ],
          [
           "Scrypt"
          ],
          [
           "SHA-256D"
          ],
          [
           "PoS"
          ],
          [
           "Scrypt"
          ],
          [
           "X11"
          ],
          [
           "PoS"
          ],
          [
           "X13"
          ],
          [
           "X14"
          ],
          [
           "PoS"
          ],
          [
           "SHA-256D"
          ],
          [
           "DPoS"
          ],
          [
           "X11"
          ],
          [
           "X13"
          ],
          [
           "X11"
          ],
          [
           "PoS"
          ],
          [
           "Scrypt"
          ],
          [
           "Scrypt"
          ],
          [
           "PoS"
          ],
          [
           "X11"
          ],
          [
           "SHA-256"
          ],
          [
           "Scrypt"
          ],
          [
           "X11"
          ],
          [
           "Scrypt"
          ],
          [
           "Scrypt"
          ],
          [
           "X11"
          ],
          [
           "Scrypt"
          ],
          [
           "Scrypt"
          ],
          [
           "Scrypt"
          ],
          [
           "Scrypt"
          ],
          [
           "Quark"
          ],
          [
           "QuBit"
          ],
          [
           "Scrypt"
          ],
          [
           "SHA-256"
          ],
          [
           "X11"
          ],
          [
           "Scrypt"
          ],
          [
           "Scrypt"
          ],
          [
           "Scrypt"
          ],
          [
           "Scrypt"
          ],
          [
           "X13"
          ],
          [
           "Scrypt"
          ],
          [
           "Scrypt"
          ],
          [
           "X11"
          ],
          [
           "Blake2S"
          ],
          [
           "X11"
          ],
          [
           "PoS"
          ],
          [
           "X11"
          ],
          [
           "PoS"
          ],
          [
           "X11"
          ],
          [
           "Scrypt"
          ],
          [
           "Scrypt"
          ],
          [
           "Scrypt"
          ],
          [
           "SHA-256"
          ],
          [
           "X11"
          ],
          [
           "Scrypt"
          ],
          [
           "PoS"
          ],
          [
           "Scrypt"
          ],
          [
           "X15"
          ],
          [
           "SHA-256"
          ],
          [
           "POS 3.0"
          ],
          [
           "536"
          ],
          [
           "NIST5"
          ],
          [
           "NIST5"
          ],
          [
           "Skein"
          ],
          [
           "X13"
          ],
          [
           "Scrypt"
          ],
          [
           "X13"
          ],
          [
           "SkunkHash v2 Raptor"
          ],
          [
           "Skein"
          ],
          [
           "X11"
          ],
          [
           "Scrypt"
          ],
          [
           "VeChainThor Authority"
          ],
          [
           "PoS"
          ],
          [
           "Scrypt"
          ],
          [
           "Scrypt"
          ],
          [
           "SHA-512"
          ],
          [
           "Ouroboros"
          ],
          [
           "X11"
          ],
          [
           "NeoScrypt"
          ],
          [
           "Scrypt"
          ],
          [
           "Lyra2REv2"
          ],
          [
           "Scrypt"
          ],
          [
           "SHA-256"
          ],
          [
           "NIST5"
          ],
          [
           "PHI1612"
          ],
          [
           "Scrypt"
          ],
          [
           "Quark"
          ],
          [
           "POS 2.0"
          ],
          [
           "Scrypt"
          ],
          [
           "SHA-256"
          ],
          [
           "X11"
          ],
          [
           "DPoS"
          ],
          [
           "NIST5"
          ],
          [
           "X13"
          ],
          [
           "Scrypt"
          ],
          [
           "NIST5"
          ],
          [
           "Quark"
          ],
          [
           "Scrypt"
          ],
          [
           "Scrypt"
          ],
          [
           "X11"
          ],
          [
           "Quark"
          ],
          [
           "Scrypt"
          ],
          [
           "Scrypt"
          ],
          [
           "X11"
          ],
          [
           "POS 3.0"
          ],
          [
           "Ethash"
          ],
          [
           "Scrypt"
          ],
          [
           "Scrypt"
          ],
          [
           "X13"
          ],
          [
           "Proof-of-BibleHash"
          ],
          [
           "C11"
          ],
          [
           "X11"
          ],
          [
           "XEVAN"
          ],
          [
           "Scrypt"
          ],
          [
           "VBFT"
          ],
          [
           "NIST5"
          ],
          [
           "Scrypt"
          ],
          [
           "Scrypt"
          ],
          [
           "Scrypt"
          ],
          [
           "Green Protocol"
          ],
          [
           "PoS"
          ],
          [
           "Scrypt"
          ],
          [
           "Semux BFT consensus"
          ],
          [
           "Quark"
          ],
          [
           "PoS"
          ],
          [
           "X16R"
          ],
          [
           "Scrypt"
          ],
          [
           "XEVAN"
          ],
          [
           "Scrypt"
          ],
          [
           "Scrypt"
          ],
          [
           "Scrypt"
          ],
          [
           "SHA-256D"
          ],
          [
           "Scrypt"
          ],
          [
           "X15"
          ],
          [
           "Scrypt"
          ],
          [
           "Quark"
          ],
          [
           "SHA-256"
          ],
          [
           "DPoS"
          ],
          [
           "X16R"
          ],
          [
           "Quark"
          ],
          [
           "Quark"
          ],
          [
           "Scrypt"
          ],
          [
           "Lyra2REv2"
          ],
          [
           "Quark"
          ],
          [
           "Scrypt"
          ],
          [
           "X11"
          ],
          [
           "X11"
          ],
          [
           "Scrypt"
          ],
          [
           "PoS"
          ],
          [
           "Keccak"
          ],
          [
           "X11"
          ],
          [
           "Scrypt"
          ],
          [
           "SHA-512"
          ],
          [
           "ECC 256K1"
          ],
          [
           "XEVAN"
          ],
          [
           "XEVAN"
          ],
          [
           "X11"
          ],
          [
           "Quark"
          ],
          [
           "Scrypt"
          ],
          [
           "Quark"
          ],
          [
           "Quark"
          ],
          [
           "Scrypt"
          ],
          [
           "X11"
          ],
          [
           "Scrypt"
          ],
          [
           "XEVAN"
          ],
          [
           "SHA-256D"
          ],
          [
           "X11"
          ],
          [
           "X11"
          ],
          [
           "DPoS"
          ],
          [
           "Scrypt"
          ],
          [
           "X11"
          ],
          [
           "Scrypt"
          ],
          [
           "Scrypt"
          ],
          [
           "SHA-256"
          ],
          [
           "Scrypt"
          ],
          [
           "X11"
          ],
          [
           "Scrypt"
          ],
          [
           "SHA-256"
          ],
          [
           "X11"
          ],
          [
           "Scrypt"
          ],
          [
           "Scrypt"
          ],
          [
           "X11"
          ],
          [
           "Scrypt"
          ],
          [
           "PoS"
          ],
          [
           "X11"
          ],
          [
           "SHA-256"
          ],
          [
           "DPoS"
          ],
          [
           "Scrypt"
          ],
          [
           "Scrypt"
          ],
          [
           "NeoScrypt"
          ],
          [
           "X13"
          ],
          [
           "DPoS"
          ],
          [
           "DPoS"
          ],
          [
           "SHA-256"
          ],
          [
           "PoS"
          ],
          [
           "PoS"
          ],
          [
           "SHA-256"
          ],
          [
           "Scrypt"
          ],
          [
           "Scrypt"
          ]
         ],
         "hovertemplate": "<b>%{hovertext}</b><br><br>Class=%{marker.color}<br>PC 1=%{x}<br>PC 2=%{y}<br>PC 3=%{z}<br>Algorithm=%{customdata[0]}<extra></extra>",
         "hovertext": [
          "42 Coin",
          "404Coin",
          "EliteCoin",
          "Dash",
          "Bitshares",
          "BitcoinDark",
          "PayCoin",
          "KoboCoin",
          "Aurora Coin",
          "BlueCoin",
          "EnergyCoin",
          "BitBar",
          "CryptoBullion",
          "CasinoCoin",
          "Diamond",
          "Exclusive Coin",
          "FlutterCoin",
          "HoboNickels",
          "HyperStake",
          "IOCoin",
          "MaxCoin",
          "MintCoin",
          "MazaCoin",
          "Nautilus Coin",
          "NavCoin",
          "OpalCoin",
          "Orbitcoin",
          "PotCoin",
          "PhoenixCoin",
          "Reddcoin",
          "SuperCoin",
          "SyncCoin",
          "TeslaCoin",
          "TittieCoin",
          "TorCoin",
          "UnitaryStatus Dollar",
          "UltraCoin",
          "VeriCoin",
          "X11 Coin",
          "Crypti",
          "StealthCoin",
          "ZCC Coin",
          "StorjCoin",
          "Neutron",
          "FairCoin",
          "RubyCoin",
          "Kore",
          "Dnotes",
          "8BIT Coin",
          "Sativa Coin",
          "Ucoin",
          "Vtorrent",
          "IslaCoin",
          "Nexus",
          "Droidz",
          "Squall Coin",
          "Diggits",
          "Paycon",
          "Emercoin",
          "EverGreenCoin",
          "Decred",
          "EDRCoin",
          "Hitcoin",
          "DubaiCoin",
          "PWR Coin",
          "BillaryCoin",
          "GPU Coin",
          "EuropeCoin",
          "ZeitCoin",
          "SwingCoin",
          "SafeExchangeCoin",
          "Nebuchadnezzar",
          "Ratecoin",
          "Revenu",
          "Clockcoin",
          "VIP Tokens",
          "BitSend",
          "Let it Ride",
          "PutinCoin",
          "iBankCoin",
          "Frankywillcoin",
          "MudraCoin",
          "Lutetium Coin",
          "GoldBlocks",
          "CarterCoin",
          "BitTokens",
          "MustangCoin",
          "ZoneCoin",
          "RootCoin",
          "BitCurrency",
          "Swiscoin",
          "BuzzCoin",
          "Opair",
          "PesoBit",
          "Halloween Coin",
          "CoffeeCoin",
          "RoyalCoin",
          "GanjaCoin V2",
          "TeamUP",
          "LanaCoin",
          "ARK",
          "InsaneCoin",
          "EmberCoin",
          "XenixCoin",
          "FreeCoin",
          "PLNCoin",
          "AquariusCoin",
          "Creatio",
          "Eternity",
          "Eurocoin",
          "BitcoinFast",
          "Stakenet",
          "BitConnect Coin",
          "MoneyCoin",
          "Enigma",
          "Russiacoin",
          "PandaCoin",
          "GameUnits",
          "GAKHcoin",
          "Allsafe",
          "LiteCreed",
          "Klingon Empire Darsek",
          "Internet of People",
          "KushCoin",
          "Printerium",
          "Impeach",
          "Zilbercoin",
          "FirstCoin",
          "FindCoin",
          "OpenChat",
          "RenosCoin",
          "VirtacoinPlus",
          "TajCoin",
          "Impact",
          "Atmos",
          "HappyCoin",
          "MacronCoin",
          "Condensate",
          "Independent Money System",
          "ArgusCoin",
          "LomoCoin",
          "ProCurrency",
          "GoldReserve",
          "GrowthCoin",
          "Phreak",
          "Degas Coin",
          "HTML5 Coin",
          "Ultimate Secure Cash",
          "QTUM",
          "Espers",
          "Denarius",
          "Virta Unique Coin",
          "Bitcoin Planet",
          "BritCoin",
          "Linda",
          "DeepOnion",
          "Signatum",
          "Cream",
          "Monoeci",
          "Draftcoin",
          "Vechain",
          "Stakecoin",
          "CoinonatX",
          "Ethereum Dark",
          "Obsidian",
          "Cardano",
          "Regalcoin",
          "TrezarCoin",
          "TerraNovaCoin",
          "Rupee",
          "WomenCoin",
          "Theresa May Coin",
          "NamoCoin",
          "LUXCoin",
          "Xios",
          "Bitcloud 2.0",
          "KekCoin",
          "BlackholeCoin",
          "Infinity Economics",
          "Magnet",
          "Lamden Tau",
          "Electra",
          "Bitcoin Diamond",
          "Cash & Back Coin",
          "Bulwark",
          "Kalkulus",
          "GermanCoin",
          "LiteCoin Ultra",
          "PhantomX",
          "Digiwage",
          "Trollcoin",
          "Litecoin Plus",
          "Monkey Project",
          "TokenPay",
          "1717 Masonic Commemorative Token",
          "My Big Coin",
          "Unified Society USDEX",
          "Tokyo Coin",
          "BiblePay",
          "Stipend",
          "Pushi",
          "Ellerium",
          "Velox",
          "Ontology",
          "Bitspace",
          "Briacoin",
          "Ignition",
          "MedicCoin",
          "Bitcoin Green",
          "Deviant Coin",
          "Abjcoin",
          "Semux",
          "Carebit",
          "Zealium",
          "Proton",
          "iDealCash",
          "Bitcoin Incognito",
          "HollyWoodCoin",
          "Swisscoin",
          "Xt3ch",
          "TheVig",
          "EmaratCoin",
          "Dekado",
          "Lynx",
          "Poseidon Quark",
          "BitcoinWSpectrum",
          "Muse",
          "Trivechain",
          "Dystem",
          "Giant",
          "Peony Coin",
          "Absolute Coin",
          "Vitae",
          "TPCash",
          "ARENON",
          "EUNO",
          "MMOCoin",
          "Ketan",
          "XDNA",
          "PAXEX",
          "ThunderStake",
          "Kcash",
          "Acute Angle Cloud",
          "Bettex coin",
          "BitMoney",
          "Junson Ming Chan Coin",
          "HerbCoin",
          "Oduwa",
          "Galilel",
          "Crypto Sports",
          "Credit",
          "Dash Platinum",
          "Nasdacoin",
          "Beetle Coin",
          "Titan Coin",
          "Award",
          "Insane Coin",
          "ALAX",
          "LiteDoge",
          "TruckCoin",
          "OrangeCoin",
          "BitstarCoin",
          "NeosCoin",
          "HyperCoin",
          "PinkCoin",
          "AudioCoin",
          "IncaKoin",
          "Piggy Coin",
          "Genstake",
          "XiaoMiCoin",
          "CapriCoin",
          " ClubCoin",
          "Radium",
          "Creditbit ",
          "OKCash",
          "Lisk",
          "HiCoin",
          "WhiteCoin",
          "FriendshipCoin",
          "Triangles Coin",
          "EOS",
          "Oxycoin",
          "TigerCash",
          "Particl",
          "Nxt",
          "ZEPHYR",
          "Gapcoin",
          "BitcoinPlus"
         ],
         "legendgroup": "1",
         "marker": {
          "color": [
           1,
           1,
           1,
           1,
           1,
           1,
           1,
           1,
           1,
           1,
           1,
           1,
           1,
           1,
           1,
           1,
           1,
           1,
           1,
           1,
           1,
           1,
           1,
           1,
           1,
           1,
           1,
           1,
           1,
           1,
           1,
           1,
           1,
           1,
           1,
           1,
           1,
           1,
           1,
           1,
           1,
           1,
           1,
           1,
           1,
           1,
           1,
           1,
           1,
           1,
           1,
           1,
           1,
           1,
           1,
           1,
           1,
           1,
           1,
           1,
           1,
           1,
           1,
           1,
           1,
           1,
           1,
           1,
           1,
           1,
           1,
           1,
           1,
           1,
           1,
           1,
           1,
           1,
           1,
           1,
           1,
           1,
           1,
           1,
           1,
           1,
           1,
           1,
           1,
           1,
           1,
           1,
           1,
           1,
           1,
           1,
           1,
           1,
           1,
           1,
           1,
           1,
           1,
           1,
           1,
           1,
           1,
           1,
           1,
           1,
           1,
           1,
           1,
           1,
           1,
           1,
           1,
           1,
           1,
           1,
           1,
           1,
           1,
           1,
           1,
           1,
           1,
           1,
           1,
           1,
           1,
           1,
           1,
           1,
           1,
           1,
           1,
           1,
           1,
           1,
           1,
           1,
           1,
           1,
           1,
           1,
           1,
           1,
           1,
           1,
           1,
           1,
           1,
           1,
           1,
           1,
           1,
           1,
           1,
           1,
           1,
           1,
           1,
           1,
           1,
           1,
           1,
           1,
           1,
           1,
           1,
           1,
           1,
           1,
           1,
           1,
           1,
           1,
           1,
           1,
           1,
           1,
           1,
           1,
           1,
           1,
           1,
           1,
           1,
           1,
           1,
           1,
           1,
           1,
           1,
           1,
           1,
           1,
           1,
           1,
           1,
           1,
           1,
           1,
           1,
           1,
           1,
           1,
           1,
           1,
           1,
           1,
           1,
           1,
           1,
           1,
           1,
           1,
           1,
           1,
           1,
           1,
           1,
           1,
           1,
           1,
           1,
           1,
           1,
           1,
           1,
           1,
           1,
           1,
           1,
           1,
           1,
           1,
           1,
           1,
           1,
           1,
           1,
           1,
           1,
           1,
           1,
           1,
           1,
           1,
           1,
           1,
           1,
           1,
           1,
           1,
           1,
           1,
           1,
           1,
           1,
           1,
           1,
           1,
           1,
           1,
           1,
           1,
           1,
           1,
           1,
           1,
           1,
           1,
           1,
           1,
           1,
           1,
           1,
           1,
           1,
           1,
           1,
           1,
           1,
           1,
           1,
           1
          ],
          "coloraxis": "coloraxis",
          "symbol": "circle"
         },
         "mode": "markers",
         "name": "1",
         "scene": "scene",
         "showlegend": true,
         "type": "scatter3d",
         "x": [
          -0.33335970086842076,
          -0.3167271750584089,
          2.2937156091878577,
          -0.3980964346936656,
          -0.24875265452848275,
          -0.31273099739525856,
          -0.2724165795877673,
          -0.24714268414863072,
          -0.3330198830320082,
          -0.3256108326060911,
          -0.3318589751025015,
          -0.33335564412597063,
          -0.33333995324824606,
          0.6404513163158703,
          -0.35865901077227164,
          -0.3851279508646479,
          -0.25712129714487386,
          -0.33142191618857486,
          -0.337641951365467,
          -0.39799132013363364,
          -0.4107497757366768,
          -0.03343340057486586,
          -0.27610225957013734,
          -0.29279680801769636,
          -0.285715077092957,
          -0.28633616731802697,
          -0.3458932442096183,
          -0.3276720218793432,
          -0.3317642754255086,
          0.0241378550809783,
          -0.3574928027224845,
          -0.3983622334720303,
          -0.236586341848723,
          -0.3387494690040419,
          -0.39827402769084486,
          -0.30863562035489295,
          -0.3320394324841429,
          -0.30358156867611824,
          -0.3982385695494327,
          -0.23705328280591795,
          -0.2861174247392516,
          -0.32447838286058706,
          -0.32626003638999646,
          -0.3119441095494829,
          -0.35808161561496726,
          -0.2927771099312743,
          -0.2864114133451955,
          -0.28744054099736827,
          -0.33334180164647853,
          -0.2863636856293282,
          -0.35793683878342303,
          -0.33307665224164595,
          -0.398343795580341,
          -0.4041763396254193,
          -0.403970888351221,
          -0.30645214017378936,
          -0.2911814784535431,
          -0.285886165828056,
          -0.30530068740007904,
          -0.24957987972535842,
          -0.08775116693008281,
          -0.31270196364510994,
          -0.07638040794591518,
          -0.3127655484806796,
          -0.24485662293336619,
          -0.3329527462828785,
          -0.29105070726943855,
          -0.3955179231864439,
          0.8583324083181256,
          -0.31256595823929406,
          -0.08902000297239951,
          -0.3848117855516022,
          -0.3961906384157428,
          -0.3113116836678564,
          -0.3089839816560658,
          -0.36599701103184973,
          -0.39708120303165995,
          -0.3537549630013441,
          -0.30929098692109197,
          -0.3329907744721764,
          -0.3314325607041255,
          -0.24479361851270953,
          -0.34544985645414455,
          -0.3978186261885245,
          -0.33219641228710145,
          -0.31274653028092575,
          -0.3983330053352552,
          -0.33317960631475024,
          -0.3333360451142682,
          -0.2910403977721675,
          -0.2437189741999019,
          0.048067193141699556,
          -0.3837707171586725,
          -0.3329508958323232,
          -0.3845196427303808,
          -0.3831005779607432,
          -0.24622173302563205,
          -0.3964040123226194,
          -0.38284985970602536,
          -0.2658984280835924,
          3.766966218914305,
          -0.3979262697049528,
          0.8437674004320973,
          -0.39828799586275004,
          -0.3842336432594929,
          -0.33287856494173357,
          -0.33303261206777385,
          -0.3848117855516022,
          -0.3978636423416151,
          -0.3126094506012917,
          -0.33287930177106484,
          -0.39123542277057805,
          -0.3330264294570673,
          -0.3286221385310767,
          -0.39831693711449556,
          -0.33223850375202757,
          0.3493312878357296,
          -0.3332253534435827,
          -0.333295801749403,
          -0.3536257945652435,
          -0.3636615161138337,
          -0.3295291451614553,
          -0.31272298639155477,
          -0.3982270487487315,
          -0.333074005896298,
          -0.33320072991640154,
          -0.2926837653379387,
          -0.28348794018240026,
          -0.24598999957538986,
          -0.31408829194084753,
          -0.29242537007159314,
          -0.3974940770673975,
          -0.42396764013063915,
          -0.39623471237480734,
          -0.38306145494006677,
          -0.39739214592004296,
          -0.3774713161468426,
          -0.3933402651940747,
          -0.3331441187417566,
          -0.3331433071311017,
          -0.3262769972086162,
          0.2593203476919886,
          -0.3978697890041596,
          -0.2753562865180942,
          -0.3848460139762449,
          -0.3323561920234606,
          0.8827923789240621,
          -0.2711092684320182,
          -0.3525354834661897,
          0.5692683333911075,
          -0.3675299316141741,
          -0.3660348078328469,
          -0.40635598139462253,
          -0.28604933779308755,
          0.13077179972134445,
          -0.28611998743191597,
          -0.35926412719143974,
          -0.4058617572552847,
          -0.39814169600439375,
          -0.292757849546214,
          4.411625984723982,
          -0.38471251578796595,
          -0.3327799598136885,
          -0.33327876175692767,
          -0.30671378861692605,
          0.6747260585234773,
          -0.39808262295126934,
          -0.34090131572330956,
          -0.3332344520251034,
          -0.3262767078448905,
          0.4345091790443672,
          -0.31107219812018905,
          -0.3523236805322964,
          -0.4145348152060506,
          -0.3331848779084376,
          -0.39232144537297725,
          -0.3513740550877858,
          -0.3330555128521133,
          -0.09920863040709385,
          -0.39687739915795767,
          3.771813651123482,
          0.1909686779277555,
          -0.2827967474892373,
          -0.3305202718545828,
          -0.32704280178449124,
          -0.3535119014859279,
          0.08036542830549544,
          -0.33219553766774584,
          -0.3974575339217233,
          -0.35267809877567036,
          -0.3197833495319269,
          -0.33330085353421374,
          -0.35790881833445914,
          -0.35403637601643223,
          -0.2667062196447626,
          -0.24853486968054914,
          -0.3288540249690699,
          -0.23780017834004993,
          -0.15426251537498842,
          -0.3687048697788646,
          -0.39815890350151817,
          -0.2461146575612926,
          -0.29191929888645785,
          -0.3163648821343169,
          -0.36712959634536346,
          -0.3333281594703543,
          -0.3333099025138267,
          -0.2863106734769162,
          -0.3542206065398956,
          -0.3843076916646598,
          -0.33302691268908885,
          3.9548566587148035,
          -0.39099186986697504,
          -0.38449602464277405,
          -0.324481275614214,
          -0.2799902414905831,
          -0.15435667414557494,
          -0.2924526057400385,
          -0.1367913223606709,
          -0.2927042023717059,
          -0.3310992067386066,
          -0.33250186699906326,
          -0.20867369611815892,
          2.243896375474434,
          -0.34922728692512883,
          -0.27123680794008526,
          1.0393786382546368,
          -0.3640700888867258,
          -0.35362522871004215,
          -0.3940026494722979,
          -0.1736427849853255,
          -0.366456193413256,
          -0.35234703112433025,
          -0.32621719630484924,
          -0.3574869713913559,
          -0.39763317673929427,
          -0.28995454248569413,
          -0.38359738373279395,
          -0.3329597846046797,
          -0.3573485787608495,
          -0.19305484361221065,
          -0.24033345132110942,
          -0.2686047204491146,
          -0.20585668329510692,
          0.7342364939335843,
          -0.14823954883805734,
          -0.39329852616634775,
          -0.3330308836306539,
          -0.3937538395919171,
          -0.3537419982926967,
          0.5718839575840332,
          -0.3579630361664222,
          -0.3325147058270655,
          -0.24058005201763633,
          -0.2858982176335699,
          -0.39520203321608716,
          -0.39786001354551315,
          3.78403354970503,
          0.10113235076078005,
          -0.3954041115563717,
          -0.33190124541798766,
          -0.33272482569527767,
          -0.2724491464469201,
          -0.3332422510944418,
          -0.3895027050232582,
          -0.24709548780283824,
          -0.09278643796386657,
          -0.38525848044113165,
          -0.3325218644116588,
          -0.3255984992160841,
          -0.394434722394563,
          -0.3309637962145022,
          -0.3850869249449568,
          -0.39971863444756606,
          -0.3112486965502124,
          3.767357344012974,
          -0.10032901194046598,
          -0.32816356143052633,
          -0.3455197486040421,
          -0.28651843024044116,
          3.7772074790410737,
          3.778449370428537,
          -0.2533799081809515,
          -0.38502290729954747,
          -0.4948744912217852,
          2.4916248446987037,
          -0.3314084687494124,
          -0.2930999778977756
         ],
         "y": [
          1.1045786950549532,
          1.1046852764300157,
          1.6910237834219124,
          1.2091223915587364,
          1.3702886787770616,
          0.8418468364163821,
          0.6282897425099551,
          1.9231367401430421,
          1.104576605883608,
          1.1048076112328373,
          1.1046230293479844,
          1.1045784532987228,
          1.104578555206358,
          0.06489358557271495,
          1.0295192460621212,
          1.5884872793466491,
          0.42504493341995814,
          1.1045491495911615,
          0.9961693138404892,
          1.2091254968406084,
          2.068150636316138,
          0.8986841536540228,
          0.841195117388039,
          0.8910103682610936,
          1.84204144657832,
          1.842023098404526,
          0.5042426290215537,
          1.104442950275658,
          1.1045549473934047,
          1.1151398454985146,
          0.9955828823432042,
          1.2091304503777103,
          0.12039227300080425,
          1.636507442443165,
          1.2091258242574148,
          1.1041518736147167,
          1.104545372214543,
          0.4777250067401783,
          1.2091301264313536,
          0.1204508047692741,
          1.8420295604718546,
          1.1041178051002842,
          1.5850585329154474,
          0.84183681256571,
          1.0295394712838324,
          0.891022652539835,
          1.842012196365369,
          0.8908186744122444,
          1.1045792238620253,
          1.84201505285355,
          0.9955552994659632,
          1.1045725916577327,
          1.2091309957909813,
          2.2876790148701898,
          2.0059808111913093,
          0.4586153441220055,
          0.8909974644129061,
          1.8420002292537578,
          0.8413589926628852,
          1.9232988617770304,
          0.954761467753732,
          0.8418476941279867,
          1.1994398250154559,
          0.8418541332118428,
          1.5302971046525233,
          1.1045603403346458,
          0.8909137750127892,
          1.2089367452199984,
          0.8534257714145972,
          0.8418386932886445,
          0.07072087268874956,
          1.5884821542482683,
          1.2091403595425112,
          0.8417435890844092,
          0.8415937301142832,
          1.526653296195062,
          1.2090677618951768,
          1.5873175024931119,
          1.103843208521848,
          1.1045575293020276,
          1.104563300348718,
          1.6283507626548241,
          0.9954634712696219,
          1.209110347241457,
          1.1045479673441028,
          0.8418471008065438,
          1.2091291447726369,
          1.104568826939883,
          1.1045793939208175,
          0.8910739582845363,
          0.5022740713947871,
          1.9261903965706006,
          1.588473853282556,
          1.1045907719552415,
          1.2084544960324837,
          1.5885182413972372,
          1.6284514173891784,
          1.9498521108844191,
          1.5883368769361368,
          1.9259516822053553,
          2.0084378400826446,
          1.2091216324660305,
          1.8747937123142933,
          1.2091298572593052,
          1.5884775358344578,
          1.1045650342734987,
          1.1045579809490975,
          1.5884821542482683,
          1.2091017847713135,
          0.8418518736590163,
          1.1045690193711648,
          0.4818280088392518,
          1.1045682892466515,
          1.1042480548202205,
          1.2091281729364518,
          1.1045076677982881,
          0.8864749769588549,
          1.1045732615702564,
          1.1045781846052307,
          1.547800058724726,
          0.5939296663589161,
          1.1043302264935435,
          0.8418477963373323,
          1.209127679330248,
          1.1045726698357534,
          1.1045675278657485,
          0.8909856307691679,
          0.4951552044926894,
          1.62844956621693,
          1.1044247479343927,
          0.8910081443138409,
          1.2090837719916814,
          1.9557069476929387,
          1.2091137433858334,
          1.5884685590657581,
          1.2090867832295518,
          1.5884241664102472,
          1.2089171790781008,
          1.1045697218907466,
          1.1045644025037655,
          1.1040646706484576,
          0.5897627303831965,
          1.2091160684039106,
          0.8900907747823611,
          1.588473910467919,
          1.1045323982376443,
          1.8916768145214908,
          0.6281926906371861,
          1.587305431367851,
          1.8557330512349777,
          1.526665871703255,
          1.526630481781588,
          1.9917645704170375,
          1.8420098740634858,
          1.0821269714150064,
          1.8420158164462523,
          1.5565493362733558,
          1.991779170727967,
          1.2091300899559914,
          0.8910106325285542,
          2.1323911079330853,
          1.588454999238698,
          1.1045609229453326,
          1.1045780484834877,
          1.3711144513858073,
          1.5494791154828982,
          1.209119183279451,
          0.5041035223429118,
          1.1045710158683493,
          0.6953357210764819,
          1.109181465780875,
          0.8418394261232638,
          1.5262544125837527,
          1.850643633622469,
          1.104568671207087,
          1.7612780417785072,
          1.5841633256408663,
          1.1045769855908987,
          0.626906324511536,
          1.2090701663409071,
          2.008309819539509,
          1.5214743791592276,
          1.841975774751456,
          1.1045106923865973,
          1.3130941956806836,
          1.547799807036429,
          1.0806378723667855,
          1.104504597532284,
          1.2091210145863918,
          1.5477521130543723,
          1.1043288313011062,
          1.1045775405029885,
          0.9955554039819158,
          1.5873153367402277,
          -0.09812773571852043,
          0.43567024949125743,
          1.1045440047163093,
          1.6281234055380638,
          1.3032271270358977,
          0.9092461709540749,
          1.2091183763301363,
          1.1962647255315164,
          0.8909583095492645,
          1.6112854810474944,
          1.5266487679271563,
          1.1045774570950888,
          1.1045765499182765,
          0.8908520528245774,
          1.4770915281236372,
          1.5884478643937616,
          1.104566828449411,
          2.009662525898103,
          1.7613173199404724,
          1.5884480867698805,
          0.6848062005554755,
          1.1024508226430274,
          0.44577333211275355,
          0.8910134342226348,
          1.103008434365732,
          0.8909929828898548,
          1.9293819982296379,
          1.1045432832021882,
          1.7097063056065185,
          0.43436209498292677,
          1.5474707282897397,
          0.6282611202189836,
          1.7757367481509632,
          0.8983644452039278,
          1.5477957358761807,
          1.761369302495534,
          0.8823334618549098,
          0.9088830591793751,
          1.547776358632251,
          1.1040664372796662,
          0.99554327526612,
          1.2091158257670993,
          0.8909179886772159,
          1.588380610405373,
          0.9223600602970439,
          0.9955148169075125,
          1.0957048696278398,
          1.1457285096914456,
          1.9982383748060022,
          0.9827063258070985,
          0.2571629082572223,
          1.00176461716053,
          1.761354773054538,
          1.1045732204877836,
          1.7613666103316385,
          1.5477978047631373,
          1.077221385933542,
          0.9955547425242293,
          1.104542903919054,
          1.1961099934276915,
          1.9271733424302842,
          1.2089200398142186,
          1.2091235897976373,
          2.0083091879202852,
          1.0921002787579341,
          1.2092178395878905,
          1.1044771284376012,
          1.1045582091668391,
          0.6282826327066193,
          1.1045821647726306,
          1.209030547825689,
          1.0995328635392267,
          0.848222904695405,
          1.2087942997907652,
          1.1045925974381745,
          1.1045186712529145,
          1.209096038915215,
          1.1045337528839745,
          1.5884819819820453,
          0.579185276296305,
          0.841830595723426,
          2.0084241395430205,
          0.8894689326787434,
          1.104515220571954,
          0.5042128722153645,
          1.8420176272235815,
          2.008830793778697,
          2.0088674815868273,
          0.6281379015313657,
          1.5884841377959433,
          1.6778643271921427,
          0.8607075984127225,
          1.104455522946088,
          0.8910123911518194
         ],
         "z": [
          -0.4051399966131229,
          -0.4055287747143073,
          -0.6058022409602507,
          -0.4532210544763243,
          -0.20611799182678028,
          -0.22460030148810609,
          -0.016823056745052335,
          -0.5493538222496345,
          -0.4051479187760398,
          -0.40532200249677786,
          -0.40517524575026626,
          -0.40514009012416174,
          -0.40514045689832,
          -0.5645889368221904,
          -0.39697409257369637,
          -0.013304822946999889,
          -0.11271172325867707,
          -0.4051850856272277,
          -0.24591690515580739,
          -0.4532235234134324,
          -0.45202439955465823,
          -0.20346049766217877,
          -0.22545213363727973,
          -0.19736849694810593,
          -0.5463311302197162,
          -0.5463165420151785,
          -0.22945405669416621,
          -0.4052720988974598,
          -0.4051771223342238,
          -0.4135369206954333,
          -0.24545064716596313,
          -0.45321488943642824,
          0.023752955610236073,
          -0.3170831695717062,
          -0.45321692574024386,
          -0.40571504011474124,
          -0.4051706523322073,
          -0.0007539368573079206,
          -0.4532177745502908,
          0.023763568323272796,
          -0.5463216798540161,
          -0.4053450533021443,
          -0.12256723735101806,
          -0.22461862073797798,
          -0.39698767000715746,
          -0.1973690170285045,
          -0.5463147320530617,
          -0.1974925885592262,
          -0.40514041703127335,
          -0.5463158601810053,
          -0.24544014665542804,
          -0.40514657391158476,
          -0.45321532251028485,
          -0.2862051218552143,
          -0.63227603777739,
          -0.3775521264619245,
          -0.19740614049232927,
          -0.5463269342651068,
          -0.22477135487489266,
          -0.5492977258265722,
          -0.42603346429283084,
          -0.22460098343457488,
          -0.4606834120775344,
          -0.22459953075492156,
          -0.4210351582123752,
          -0.40514940616086087,
          -0.1974087825296897,
          -0.45328033424587466,
          -0.2240550705926015,
          -0.2246041140693595,
          -0.547589380529157,
          -0.013312178092030098,
          -0.4532656298770123,
          -0.22463292619330513,
          -0.22468652685312065,
          -0.41818948615355184,
          -0.45324448515427546,
          -0.1856609513301272,
          -0.4056982275285131,
          -0.405148504673234,
          -0.4051849065730534,
          -0.3385674003300533,
          -0.24573118141657005,
          -0.4532274803084102,
          -0.405167000663583,
          -0.2245999401989962,
          -0.4532155653074832,
          -0.4051441521718854,
          -0.4051405522410479,
          -0.19740980902808575,
          -0.24599916408687736,
          -0.45427804002891115,
          -0.013336439163932906,
          -0.4051495986505323,
          -0.4535347026798649,
          -0.013352300074295087,
          -0.3385345574679531,
          -0.5577510396772856,
          -0.013357262868123363,
          -0.44694792838570196,
          0.41327809997694537,
          -0.45322502293587236,
          -0.572857466535387,
          -0.4532166194648683,
          -0.013325651085667672,
          -0.40515116081357927,
          -0.4051475302685046,
          -0.013312178092030098,
          -0.4532263874838772,
          -0.22460316348299306,
          -0.4051511631641498,
          -0.3539902346391177,
          -0.405147725161429,
          -0.40524896406345384,
          -0.4532159356223335,
          -0.40516582041163923,
          -0.21233552686603577,
          -0.4051431060465119,
          -0.4051414857143979,
          -0.24506924999279772,
          -0.1500606557431351,
          -0.40522819481479844,
          -0.22460049319928482,
          -0.4532180314766243,
          -0.4051466360691036,
          -0.40514365270776787,
          -0.19737101435859558,
          -0.2278964106942684,
          -0.3385399577705142,
          -0.40558909638218194,
          -0.19737715656217952,
          -0.4532349259255581,
          -0.66118147288843,
          -0.45326447047673124,
          -0.013352969591734595,
          -0.45323732009047457,
          -0.013483243146538277,
          -0.4533310716115819,
          -0.4051449849534757,
          -0.405144977802651,
          -0.4053028073402289,
          -0.029046451832761985,
          -0.4532263140755443,
          -0.19777110189129582,
          -0.013311338650311503,
          -0.4051631945238966,
          -0.5755757050035364,
          -0.016853097353858953,
          -0.18568935858063354,
          -0.39436100886767395,
          -0.4181537646821611,
          -0.41818849193274893,
          -0.54623238432507,
          -0.5463231726370306,
          -0.4158641330803993,
          -0.5463215526059882,
          -0.19104620400264083,
          -0.5462439926913607,
          -0.4532200357031704,
          -0.19736940765726668,
          0.8279163603135274,
          -0.013314362139448688,
          -0.40515344239622375,
          -0.40514188281337027,
          -0.20476904865197226,
          -0.40980689111750396,
          -0.4532213611461523,
          -0.22956990149044554,
          -0.40514288263995474,
          -0.1555074022242069,
          -0.42308704096069344,
          -0.22463898670228283,
          -0.41850670761320596,
          -0.5240352527876933,
          -0.405144028352376,
          -0.4528838937159132,
          -0.19102918003241268,
          -0.40514708892729656,
          -0.020859485638495805,
          -0.4532492543706995,
          0.4131655737887225,
          -0.43116540180534874,
          -0.5463989309899722,
          -0.4052059441617306,
          -0.21038048004007273,
          -0.24507190737907883,
          -0.4146801851988201,
          -0.40516680831215546,
          -0.4532359616652766,
          -0.24509113696302207,
          -0.4054556853514037,
          -0.4051413646300261,
          -0.24544080125317513,
          -0.18565437164437415,
          0.08448982625130226,
          -0.15999765908553545,
          -0.4052450030073991,
          -0.33872953372778797,
          -0.5753894297393042,
          -0.2539414997534693,
          -0.4532195765604876,
          -0.4427839093790587,
          -0.19738872536383728,
          -0.23508508900855252,
          -0.4181630258513248,
          -0.4051407268147993,
          -0.40514114853880673,
          -0.19751912695545942,
          -0.1642102007711314,
          -0.013323776999067808,
          -0.40514770671476147,
          0.46455312477916155,
          -0.4529151228653146,
          -0.013319381808696502,
          -0.15664338700957003,
          -0.40637536775890776,
          -0.3671177120163948,
          -0.19737654674815275,
          -0.4097208144310533,
          -0.19737057336298355,
          -0.44544276686029227,
          -0.4051598474144021,
          -0.34153412077575623,
          -0.2910015171133846,
          -0.2451703092707537,
          -0.016850455890855147,
          0.14298067004366297,
          -0.3644375752795499,
          -0.24506924199418487,
          -0.45284509686444496,
          -0.20010735688319525,
          -0.3632877488471998,
          -0.2450989840647627,
          -0.40530421194745125,
          -0.24545058897929162,
          -0.4532318361562205,
          -0.19743439111931765,
          -0.013340027868902952,
          -0.32860019279146063,
          -0.24545367988281075,
          -0.4083716171719566,
          -0.28090522096951104,
          6.07777040434173,
          -0.23500534066083537,
          -0.32844748766596865,
          -0.2503656001707366,
          -0.4528614620268885,
          -0.40514764537922887,
          -0.4528508916585295,
          -0.24506652637629778,
          -0.4261370055484834,
          -0.24543953239419425,
          -0.40515954585523817,
          -0.4429123453001132,
          -0.4464870640218923,
          -0.4532876261517619,
          -0.45322657916452774,
          0.41288032619750137,
          -0.4152211835565327,
          -0.4532843699853348,
          -0.4051735432540908,
          -0.40515471608564185,
          -0.016822261652647285,
          -0.40514275528062343,
          -0.4534212084555377,
          -0.40712891909042426,
          -0.22976577641547596,
          -0.45351912293646746,
          -0.4051596225426939,
          -0.4053208728872539,
          -0.4533064010218305,
          -0.40519570404702243,
          -0.013305754632086896,
          -0.6501876745959676,
          -0.22463482335533794,
          0.41326903710606305,
          -0.20185373574733737,
          -0.40526097937601585,
          -0.2294626292671145,
          -0.5463122605869127,
          0.4130371091132286,
          0.41300793949367104,
          -0.01726668733799374,
          -0.013307259580550112,
          0.5825949509420694,
          0.2526248158779561,
          -0.4051849402099852,
          -0.19736142993805847
         ]
        },
        {
         "customdata": [
          [
           "SHA-256"
          ],
          [
           "Ethash"
          ],
          [
           "Scrypt"
          ],
          [
           "CryptoNight-V7"
          ],
          [
           "Ethash"
          ],
          [
           "Equihash"
          ],
          [
           "Multiple"
          ],
          [
           "Scrypt"
          ],
          [
           "X11"
          ],
          [
           "Scrypt"
          ],
          [
           "Multiple"
          ],
          [
           "Scrypt"
          ],
          [
           "SHA-256"
          ],
          [
           "Scrypt"
          ],
          [
           "Scrypt"
          ],
          [
           "Quark"
          ],
          [
           "Groestl"
          ],
          [
           "Scrypt"
          ],
          [
           "Scrypt"
          ],
          [
           "Scrypt"
          ],
          [
           "X11"
          ],
          [
           "Multiple"
          ],
          [
           "SHA-256"
          ],
          [
           "Scrypt"
          ],
          [
           "Scrypt"
          ],
          [
           "Scrypt"
          ],
          [
           "Scrypt"
          ],
          [
           "Scrypt"
          ],
          [
           "NeoScrypt"
          ],
          [
           "Scrypt"
          ],
          [
           "Scrypt"
          ],
          [
           "Scrypt"
          ],
          [
           "Scrypt"
          ],
          [
           "SHA-256"
          ],
          [
           "Scrypt"
          ],
          [
           "Scrypt"
          ],
          [
           "Scrypt"
          ],
          [
           "Scrypt"
          ],
          [
           "HybridScryptHash256"
          ],
          [
           "Scrypt"
          ],
          [
           "Scrypt"
          ],
          [
           "SHA-256"
          ],
          [
           "Scrypt"
          ],
          [
           "Scrypt"
          ],
          [
           "Scrypt"
          ],
          [
           "Scrypt"
          ],
          [
           "SHA-256"
          ],
          [
           "SHA-256"
          ],
          [
           "SHA-256"
          ],
          [
           "SHA-256"
          ],
          [
           "SHA-256"
          ],
          [
           "X11"
          ],
          [
           "Scrypt"
          ],
          [
           "Lyra2REv2"
          ],
          [
           "Scrypt"
          ],
          [
           "SHA-256"
          ],
          [
           "CryptoNight"
          ],
          [
           "CryptoNight"
          ],
          [
           "Shabal256"
          ],
          [
           "Scrypt"
          ],
          [
           "Scrypt"
          ],
          [
           "Scrypt"
          ],
          [
           "Scrypt"
          ],
          [
           "Scrypt"
          ],
          [
           "Scrypt"
          ],
          [
           "Stanford Folding"
          ],
          [
           "Multiple"
          ],
          [
           "QuBit"
          ],
          [
           "Scrypt"
          ],
          [
           "Scrypt"
          ],
          [
           "M7 POW"
          ],
          [
           "Scrypt"
          ],
          [
           "SHA-256"
          ],
          [
           "Scrypt"
          ],
          [
           "X11"
          ],
          [
           "Lyra2RE"
          ],
          [
           "SHA-256"
          ],
          [
           "X11"
          ],
          [
           "Scrypt"
          ],
          [
           "Scrypt"
          ],
          [
           "Ethash"
          ],
          [
           "Blake2b"
          ],
          [
           "X11"
          ],
          [
           "SHA-256"
          ],
          [
           "Scrypt"
          ],
          [
           "1GB AES Pattern Search"
          ],
          [
           "Scrypt"
          ],
          [
           "SHA-256"
          ],
          [
           "X11"
          ],
          [
           "Dagger"
          ],
          [
           "Scrypt"
          ],
          [
           "X11GOST"
          ],
          [
           "Scrypt"
          ],
          [
           "X11"
          ],
          [
           "Scrypt"
          ],
          [
           "X11"
          ],
          [
           "Equihash"
          ],
          [
           "CryptoNight"
          ],
          [
           "SHA-256"
          ],
          [
           "Multiple"
          ],
          [
           "Scrypt"
          ],
          [
           "SHA-256"
          ],
          [
           "Scrypt"
          ],
          [
           "Lyra2Z"
          ],
          [
           "Ethash"
          ],
          [
           "Equihash"
          ],
          [
           "Scrypt"
          ],
          [
           "X11"
          ],
          [
           "X11"
          ],
          [
           "CryptoNight"
          ],
          [
           "Scrypt"
          ],
          [
           "CryptoNight"
          ],
          [
           "Lyra2RE"
          ],
          [
           "X11"
          ],
          [
           "CryptoNight-V7"
          ],
          [
           "Scrypt"
          ],
          [
           "X11"
          ],
          [
           "Equihash"
          ],
          [
           "Scrypt"
          ],
          [
           "Lyra2RE"
          ],
          [
           "Dagger-Hashimoto"
          ],
          [
           "Scrypt"
          ],
          [
           "NIST5"
          ],
          [
           "Scrypt"
          ],
          [
           "SHA-256"
          ],
          [
           "Scrypt"
          ],
          [
           "CryptoNight-V7"
          ],
          [
           "Argon2d"
          ],
          [
           "Blake2b"
          ],
          [
           "Cloverhash"
          ],
          [
           "CryptoNight"
          ],
          [
           "X11"
          ],
          [
           "Scrypt"
          ],
          [
           "Scrypt"
          ],
          [
           "X11"
          ],
          [
           "X11"
          ],
          [
           "CryptoNight"
          ],
          [
           "Time Travel"
          ],
          [
           "Scrypt"
          ],
          [
           "Keccak"
          ],
          [
           "X11"
          ],
          [
           "SHA-256"
          ],
          [
           "Scrypt"
          ],
          [
           "Scrypt"
          ],
          [
           "Scrypt"
          ],
          [
           "Scrypt"
          ],
          [
           "Scrypt"
          ],
          [
           "Scrypt"
          ],
          [
           "CryptoNight"
          ],
          [
           "Equihash"
          ],
          [
           "X11"
          ],
          [
           "NeoScrypt"
          ],
          [
           "Equihash"
          ],
          [
           "Dagger"
          ],
          [
           "Scrypt"
          ],
          [
           "X11"
          ],
          [
           "NeoScrypt"
          ],
          [
           "Ethash"
          ],
          [
           "NeoScrypt"
          ],
          [
           "Multiple"
          ],
          [
           "CryptoNight"
          ],
          [
           "CryptoNight"
          ],
          [
           "Ethash"
          ],
          [
           "X11"
          ],
          [
           "CryptoNight-V7"
          ],
          [
           "Scrypt"
          ],
          [
           "BLAKE256"
          ],
          [
           "X11"
          ],
          [
           "NeoScrypt"
          ],
          [
           "NeoScrypt"
          ],
          [
           "Scrypt"
          ],
          [
           "X11"
          ],
          [
           "SHA-256"
          ],
          [
           "C11"
          ],
          [
           "CryptoNight"
          ],
          [
           "SkunkHash"
          ],
          [
           "CryptoNight"
          ],
          [
           "Scrypt"
          ],
          [
           "Dagger"
          ],
          [
           "Lyra2REv2"
          ],
          [
           "Scrypt"
          ],
          [
           "Scrypt"
          ],
          [
           "X11"
          ],
          [
           "Ethash"
          ],
          [
           "CryptoNight"
          ],
          [
           "Scrypt"
          ],
          [
           "IMesh"
          ],
          [
           "Equihash"
          ],
          [
           "Lyra2Z"
          ],
          [
           "X11"
          ],
          [
           "CryptoNight"
          ],
          [
           "NIST5"
          ],
          [
           "Lyra2RE"
          ],
          [
           "Tribus"
          ],
          [
           "Lyra2Z"
          ],
          [
           "CryptoNight"
          ],
          [
           "CryptoNight Heavy"
          ],
          [
           "CryptoNight"
          ],
          [
           "Jump Consistent Hash"
          ],
          [
           "CryptoNight"
          ],
          [
           "X16R"
          ],
          [
           "HMQ1725"
          ],
          [
           "X11"
          ],
          [
           "Scrypt"
          ],
          [
           "CryptoNight-V7"
          ],
          [
           "Cryptonight-GPU"
          ],
          [
           "XEVAN"
          ],
          [
           "CryptoNight Heavy"
          ],
          [
           "SHA-256"
          ],
          [
           "X11"
          ],
          [
           "X16R"
          ],
          [
           "Equihash"
          ],
          [
           "Lyra2Z"
          ],
          [
           "SHA-256"
          ],
          [
           "CryptoNight"
          ],
          [
           "Blake"
          ],
          [
           "Blake"
          ],
          [
           "Equihash"
          ],
          [
           "Exosis"
          ],
          [
           "Scrypt"
          ],
          [
           "Equihash"
          ],
          [
           "Equihash"
          ],
          [
           "QuBit"
          ],
          [
           "SHA-256"
          ],
          [
           "X13"
          ],
          [
           "SHA-256"
          ],
          [
           "Scrypt"
          ],
          [
           "NeoScrypt"
          ],
          [
           "Blake"
          ],
          [
           "Scrypt"
          ],
          [
           "SHA-256"
          ],
          [
           "Scrypt"
          ],
          [
           "Groestl"
          ],
          [
           "Scrypt"
          ],
          [
           "Scrypt"
          ],
          [
           "Multiple"
          ],
          [
           "Equihash+Scrypt"
          ],
          [
           "Ethash"
          ],
          [
           "CryptoNight"
          ],
          [
           "Equihash"
          ]
         ],
         "hovertemplate": "<b>%{hovertext}</b><br><br>Class=%{marker.color}<br>PC 1=%{x}<br>PC 2=%{y}<br>PC 3=%{z}<br>Algorithm=%{customdata[0]}<extra></extra>",
         "hovertext": [
          "Bitcoin",
          "Ethereum",
          "Litecoin",
          "Monero",
          "Ethereum Classic",
          "ZCash",
          "DigiByte",
          "ProsperCoin",
          "Spreadcoin",
          "Argentum",
          "MyriadCoin",
          "MoonCoin",
          "ZetaCoin",
          "SexCoin",
          "Quatloo",
          "QuarkCoin",
          "Riecoin",
          "Digitalcoin ",
          "Catcoin",
          "CannaCoin",
          "CryptCoin",
          "Verge",
          "DevCoin",
          "EarthCoin",
          "E-Gulden",
          "Einsteinium",
          "Emerald",
          "Franko",
          "FeatherCoin",
          "GrandCoin",
          "GlobalCoin",
          "GoldCoin",
          "Infinite Coin",
          "IXcoin",
          "KrugerCoin",
          "LuckyCoin",
          "Litebar ",
          "MegaCoin",
          "MediterraneanCoin",
          "MinCoin",
          "NobleCoin",
          "Namecoin",
          "NyanCoin",
          "RonPaulCoin",
          "StableCoin",
          "SmartCoin",
          "SysCoin",
          "TigerCoin",
          "TerraCoin",
          "UnbreakableCoin",
          "Unobtanium",
          "UroCoin",
          "ViaCoin",
          "Vertcoin",
          "WorldCoin",
          "JouleCoin",
          "ByteCoin",
          "DigitalNote ",
          "BurstCoin",
          "MonaCoin",
          "Gulden",
          "PesetaCoin",
          "Wild Beast Coin",
          "Flo",
          "ArtByte",
          "Folding Coin",
          "Unitus",
          "CypherPunkCoin",
          "OmniCron",
          "GreenCoin",
          "Cryptonite",
          "MasterCoin",
          "SoonCoin",
          "1Credit",
          "MarsCoin ",
          "Crypto",
          "Anarchists Prime",
          "BowsCoin",
          "Song Coin",
          "BitZeny",
          "Expanse",
          "Siacoin",
          "MindCoin",
          "I0coin",
          "Revolution VR",
          "HOdlcoin",
          "Gamecredits",
          "CarpeDiemCoin",
          "Adzcoin",
          "SoilCoin",
          "YoCoin",
          "SibCoin",
          "Francs",
          "BolivarCoin",
          "Omni",
          "PizzaCoin",
          "Komodo",
          "Karbo",
          "ZayedCoin",
          "Circuits of Value",
          "DopeCoin",
          "DollarCoin",
          "Shilling",
          "ZCoin",
          "Elementrem",
          "ZClassic",
          "KiloCoin",
          "ArtexCoin",
          "Kurrent",
          "Cannabis Industry Coin",
          "OsmiumCoin",
          "Bikercoins",
          "HexxCoin",
          "PacCoin",
          "Citadel",
          "BeaverCoin",
          "VaultCoin",
          "Zero",
          "Canada eCoin",
          "Zoin",
          "DubaiCoin",
          "EB3coin",
          "Coinonat",
          "BenjiRolls",
          "ILCoin",
          "EquiTrader",
          "Quantum Resistant Ledger",
          "Dynamic",
          "Nano",
          "ChanCoin",
          "Dinastycoin",
          "DigitalPrice",
          "Unify",
          "SocialCoin",
          "ArcticCoin",
          "DAS",
          "LeviarCoin",
          "Bitcore",
          "gCn Coin",
          "SmartCash",
          "Onix",
          "Bitcoin Cash",
          "Sojourn Coin",
          "NewYorkCoin",
          "FrazCoin",
          "Kronecoin",
          "AdCoin",
          "Linx",
          "Sumokoin",
          "BitcoinZ",
          "Elements",
          "VIVO Coin",
          "Bitcoin Gold",
          "Pirl",
          "eBoost",
          "Pura",
          "Innova",
          "Ellaism",
          "GoByte",
          "SHIELD",
          "UltraNote",
          "BitCoal",
          "DaxxCoin",
          "AC3",
          "Lethean",
          "PopularCoin",
          "Photon",
          "Sucre",
          "SparksPay",
          "GunCoin",
          "IrishCoin",
          "Pioneer Coin",
          "UnitedBitcoin",
          "Interzone",
          "TurtleCoin",
          "MUNcoin",
          "Niobio Cash",
          "ShareChain",
          "Travelflex",
          "KREDS",
          "BitFlip",
          "LottoCoin",
          "Crypto Improvement Fund",
          "Callisto Network",
          "BitTube",
          "Poseidon",
          "Aidos Kuneen",
          "Bitrolium",
          "Alpenschillling",
          "FuturoCoin",
          "Monero Classic",
          "Jumpcoin",
          "Infinex",
          "KEYCO",
          "GINcoin",
          "PlatinCoin",
          "Loki",
          "Newton Coin",
          "MassGrid",
          "PluraCoin",
          "Motion",
          "PlusOneCoin",
          "Axe",
          "HexCoin",
          "Webchain",
          "Ryo",
          "Urals Coin",
          "Qwertycoin",
          "Project Pai",
          "Azart",
          "Xchange",
          "CrypticCoin",
          "Actinium",
          "Bitcoin SV",
          "FREDEnergy",
          "Universal Molecule",
          "Lithium",
          "PirateCash",
          "Exosis",
          "Block-Logic",
          "Beam",
          "Bithereum",
          "SLICE",
          "BLAST",
          "Bitcoin Rhodium",
          "GlobalToken",
          "SolarCoin",
          "UFO Coin",
          "BlakeCoin",
          "Crypto Escudo",
          "Crown Coin",
          "SmileyCoin",
          "Groestlcoin",
          "Bata",
          "Pakcoin",
          "JoinCoin",
          "Vollar",
          "Reality Clash",
          "Beldex",
          "Horizen"
         ],
         "legendgroup": "0",
         "marker": {
          "color": [
           0,
           0,
           0,
           0,
           0,
           0,
           0,
           0,
           0,
           0,
           0,
           0,
           0,
           0,
           0,
           0,
           0,
           0,
           0,
           0,
           0,
           0,
           0,
           0,
           0,
           0,
           0,
           0,
           0,
           0,
           0,
           0,
           0,
           0,
           0,
           0,
           0,
           0,
           0,
           0,
           0,
           0,
           0,
           0,
           0,
           0,
           0,
           0,
           0,
           0,
           0,
           0,
           0,
           0,
           0,
           0,
           0,
           0,
           0,
           0,
           0,
           0,
           0,
           0,
           0,
           0,
           0,
           0,
           0,
           0,
           0,
           0,
           0,
           0,
           0,
           0,
           0,
           0,
           0,
           0,
           0,
           0,
           0,
           0,
           0,
           0,
           0,
           0,
           0,
           0,
           0,
           0,
           0,
           0,
           0,
           0,
           0,
           0,
           0,
           0,
           0,
           0,
           0,
           0,
           0,
           0,
           0,
           0,
           0,
           0,
           0,
           0,
           0,
           0,
           0,
           0,
           0,
           0,
           0,
           0,
           0,
           0,
           0,
           0,
           0,
           0,
           0,
           0,
           0,
           0,
           0,
           0,
           0,
           0,
           0,
           0,
           0,
           0,
           0,
           0,
           0,
           0,
           0,
           0,
           0,
           0,
           0,
           0,
           0,
           0,
           0,
           0,
           0,
           0,
           0,
           0,
           0,
           0,
           0,
           0,
           0,
           0,
           0,
           0,
           0,
           0,
           0,
           0,
           0,
           0,
           0,
           0,
           0,
           0,
           0,
           0,
           0,
           0,
           0,
           0,
           0,
           0,
           0,
           0,
           0,
           0,
           0,
           0,
           0,
           0,
           0,
           0,
           0,
           0,
           0,
           0,
           0,
           0,
           0,
           0,
           0,
           0,
           0,
           0,
           0,
           0,
           0,
           0,
           0,
           0,
           0,
           0,
           0,
           0,
           0,
           0,
           0,
           0,
           0,
           0,
           0,
           0,
           0,
           0,
           0,
           0,
           0,
           0,
           0,
           0,
           0,
           0,
           0,
           0,
           0,
           0,
           0,
           0,
           0,
           0
          ],
          "coloraxis": "coloraxis",
          "symbol": "diamond"
         },
         "mode": "markers",
         "name": "0",
         "scene": "scene",
         "showlegend": true,
         "type": "scatter3d",
         "x": [
          -0.1447962775911434,
          -0.13793640035844565,
          -0.16425762008426478,
          -0.13979382737099108,
          -0.13638110151188604,
          -0.15830842335885986,
          0.17692039019435638,
          -0.16540185405980987,
          -0.23034585848721603,
          -0.16501905609126538,
          -0.07604380828623744,
          2.55179630892569,
          -0.14188631909594532,
          -0.16227924498760077,
          -0.16482341864805183,
          -0.22145922226445167,
          -0.18979273820780557,
          -0.1648721237109168,
          -0.1653841515154166,
          -0.1654704567110464,
          -0.23043504324657235,
          0.20062576327250478,
          0.2323887312745794,
          0.0828242050762124,
          -0.1652171982991897,
          -0.16083019319561193,
          -0.16515659532251528,
          -0.16552735938366958,
          -0.17329788394377513,
          -0.14478597048524694,
          -0.16432457784879356,
          -0.16460153278735437,
          1.5803171248643455,
          -0.14475771550320568,
          -0.16189565329716865,
          -0.1652435934208295,
          -0.1655977855309264,
          -0.16485833260225902,
          -0.13162134095801933,
          -0.16547925900648056,
          -0.030617988488650483,
          -0.1448351884626276,
          -0.1591542766964351,
          -0.1654587324801171,
          -0.1635563550806574,
          -0.16494637335455714,
          -0.13200969966738668,
          -0.14429989679123822,
          -0.14458659457589743,
          -0.14456959454597554,
          -0.1451592854696877,
          -0.23060863652730595,
          -0.16517572368623143,
          -0.19803292000422748,
          -0.16228394445782895,
          -0.14436707307608657,
          3.8489305356245422,
          0.45385986044103177,
          -0.06396548464379856,
          -0.16404529267232135,
          -0.14867086787321354,
          -0.16276635720789853,
          -0.16559999041776768,
          -0.16263163836881106,
          -0.14887936377088323,
          -0.15634821858654624,
          -0.1099909059869835,
          -0.19677150443182057,
          -0.1654732927421754,
          -0.03863254117735373,
          -0.11972595316698957,
          -0.16560886799605828,
          -0.14486291676104046,
          0.48542811977396094,
          -0.22999689565465894,
          -0.15609523395643377,
          -0.1446032271112153,
          -0.23028129431820382,
          -0.16373589293310978,
          -0.16292955053702837,
          -0.13900196043218246,
          0.3562819255381861,
          -0.23031663031209193,
          -0.1447588358657019,
          -0.16157381016565447,
          -0.1354761981706694,
          -0.16417473375803832,
          0.2729918489046821,
          -0.22947881294129577,
          -0.15994222010344336,
          -0.16442168867563098,
          -0.16268166764588796,
          -0.1653991443663082,
          -0.23027993541610442,
          -0.16560892638842983,
          -0.2304296408319102,
          -0.29378799420222385,
          0.29903547583562473,
          -0.14501846445799563,
          -0.09009821870545694,
          -0.16278058029855855,
          -0.14497716706609504,
          -0.16527291154854493,
          -0.16222323067248298,
          -0.1387445705254053,
          -0.15833000213840012,
          -0.09246092051100598,
          -0.21703653850123897,
          -0.22826156123768013,
          0.29902985377516667,
          -0.16559069580427657,
          0.2991603397598989,
          -0.15663474224526105,
          0.4835857377819907,
          -0.1385606509349442,
          -0.16555903885409803,
          -0.22317620670234994,
          -0.15834235649774028,
          -0.16369557484135916,
          -0.15635361694303918,
          -0.17769769326121457,
          -0.13653273923292158,
          -0.19944776052717791,
          -0.16512217926869235,
          -0.11140231630122081,
          -0.16494454600830433,
          -0.13841866757283727,
          -0.17419633617810318,
          -0.043312288037340586,
          -0.18218268573284072,
          0.3350886256223405,
          -0.22948718586160963,
          -0.16526326113650805,
          -0.1650270406839656,
          -0.229881181515915,
          -0.23045762598374006,
          0.2994241539161733,
          -0.13976367325010985,
          3.2381241565746994,
          -0.1051562080173418,
          -0.22134552541779645,
          -0.14479544328798463,
          -0.09131051490877796,
          1.578321339090051,
          -0.16536093519177936,
          -0.1648135261869491,
          -0.1645150250605643,
          -0.1645019791223745,
          0.2996074511424446,
          0.053615544984803094,
          -0.1849246751858238,
          -0.17797843078752026,
          -0.15818867887398816,
          -0.15870346782184946,
          -0.1636937871665782,
          -0.22600982413575868,
          -0.17782410998684442,
          -0.1371125768475086,
          -0.1779241423946513,
          -0.10023977999184894,
          1.1355189247430582,
          0.299012650941844,
          -0.06213134505707126,
          -0.22575178525169085,
          -0.1275496944329244,
          -0.08189511890596637,
          1.0835449628941194,
          -0.23043167030014672,
          -0.1779759958765805,
          -0.17102602191948355,
          -0.16461324654658518,
          -0.23035720866252093,
          -0.1447748774523501,
          -0.2009319655906202,
          8.023506188917196,
          -0.16200840732237484,
          0.3028803367320966,
          0.027093291159337632,
          -0.15820758251858288,
          -0.18361617658717896,
          -0.16518596419420456,
          0.1413532187627344,
          -0.22450832289462527,
          -0.09023205726093465,
          0.30692210657928715,
          -0.1654225620280156,
          -0.1397782885616921,
          -0.1571815385652228,
          -0.1600105696172656,
          -0.22952788618392803,
          0.2991948488073915,
          -0.1995071261294856,
          -0.1564802489906884,
          -0.17398818976089478,
          -0.16230746162015317,
          0.3031163126697555,
          0.5837212985337679,
          2.1045435401526444,
          -0.12007580187217809,
          0.3127760614766116,
          -0.1971102988123468,
          -0.13490301735844767,
          -0.23041386166202046,
          -0.165447100023498,
          -0.12742953209235922,
          -0.17031484547822087,
          -0.0771395575870482,
          3.101878476517951,
          -0.10469354425345706,
          -0.23038527657426422,
          -0.1965390073800365,
          -0.053118504232589174,
          -0.16170625446124956,
          -0.14479548078700283,
          0.3788166675985156,
          -0.1593572723166001,
          -0.1597486301476605,
          -0.2851275003108583,
          -0.12462308385945949,
          -0.16434132319915137,
          -0.156252132419762,
          -0.1580217900449153,
          -0.195983839656027,
          -0.14407288883024885,
          -0.11875296836186332,
          -0.14294279465598225,
          0.5292719522897237,
          -0.1032725950665494,
          -0.11029933116868121,
          -0.149029683615724,
          -0.14458596614003402,
          0.5489804591420433,
          -0.18935450754525765,
          -0.1655238082526611,
          -0.1634830755408719,
          -0.11072449102401839,
          -0.11419898109072674,
          -0.13877767100119281,
          0.32073176307782664,
          -0.15830947843794319
         ],
         "y": [
          -1.3378881295285208,
          -2.0642643308765574,
          -1.0751832619903274,
          -2.223059133897691,
          -2.064370269196466,
          -2.097385214614564,
          -1.8524499796179505,
          -1.075171499382569,
          -0.9706172910736592,
          -1.0751912910259993,
          -1.8461810622334187,
          -1.272617323133704,
          -1.3379097818999313,
          -1.0752448783653379,
          -1.0752115489176788,
          -0.4184051567306284,
          -1.1502465093495802,
          -1.075175498255078,
          -1.0751709764161013,
          -1.0751678412038452,
          -0.9706184792375891,
          -1.84853478391352,
          -1.3419186636401295,
          -1.077587267282767,
          -1.0751660443039814,
          -1.0752380835835327,
          -1.0751722098471448,
          -1.0751681449919859,
          -1.6755956650413233,
          -1.0755747502034547,
          -1.0751751143970691,
          -1.0751849203938717,
          -1.0891119188788094,
          -1.3378869903318842,
          -1.075244699605685,
          -1.0751661008047069,
          -1.075163075491576,
          -1.0751706312135119,
          -2.1581560311330588,
          -1.0751658302012113,
          -1.0820234543584375,
          -1.3378892790288663,
          -1.0752154846146695,
          -1.0751731796781179,
          -1.0752826066002943,
          -1.0751798861026018,
          -1.3381374570979179,
          -1.337892278943305,
          -1.3378971235751396,
          -1.3379241052737612,
          -1.337883845802029,
          -0.9706105888147911,
          -1.0751662655875396,
          -1.2708609799497794,
          -1.0752561704571175,
          -1.337892808279504,
          -2.348996287946597,
          -2.323107916319524,
          -0.40762736386933085,
          -1.075192264707801,
          -1.0758771242870269,
          -1.0751987938458698,
          -1.0751640649554204,
          -1.0751901952542458,
          -1.0753914662846193,
          -2.223051696583152,
          -1.8457374017116037,
          -1.5857798670782115,
          -1.0751608596942441,
          -1.0786439151804044,
          -2.232665794585378,
          -1.0751628745304995,
          -1.33789009817497,
          -1.1224695652180103,
          -0.9706163844458052,
          -2.3108110213667983,
          -1.3379061204788716,
          -0.9706161069874615,
          -1.0752591536356972,
          -1.0752640896147794,
          -2.0643080372606417,
          -2.2503801190360453,
          -0.9706135345750602,
          -1.3378870234294997,
          -1.075195108060317,
          -2.227145703120517,
          -1.0751808133723069,
          -1.3411721349447607,
          -0.9706379656099728,
          -2.3022494484933174,
          -1.0752491168763414,
          -2.0670663013772725,
          -1.0751706960722958,
          -0.9706189598862516,
          -1.07516287406404,
          -0.970623382465896,
          -1.62875616393028,
          -2.3204563442552213,
          -1.337886546536618,
          -1.8460176472968033,
          -1.0752235257122231,
          -1.3378859791307616,
          -1.0751741995256465,
          -2.2119937123878914,
          -2.064307159183681,
          -2.097385852092312,
          -1.0802341067808219,
          -0.9705712739183404,
          -0.9707061552637901,
          -2.3204644662105802,
          -1.0751638527823346,
          -2.320463504452404,
          -2.310786609385284,
          -1.0218380261506081,
          -2.223156506798926,
          -1.0751633845961084,
          -0.9711142816827589,
          -2.0973833240200155,
          -1.0751782302896582,
          -2.3107862602847735,
          -2.223181470557843,
          -1.0771965062523439,
          -0.6530931276873705,
          -1.0751737392995846,
          -1.3386945726775321,
          -1.075194875944592,
          -2.223094451476982,
          -2.1361840790007616,
          -2.2624309968246044,
          -2.1715620893849734,
          -2.3208305554277184,
          -0.970649785135051,
          -1.0751661587638002,
          -1.0751994827750055,
          -0.9706324940748118,
          -0.9706197973088787,
          -2.3204766854499086,
          -2.1618365657142933,
          -1.119261914753301,
          -1.258958580919671,
          -0.9711325259961623,
          -1.3378881048816291,
          -1.0805617520492483,
          -1.0236434470678086,
          -1.0751695673013923,
          -1.075199684502507,
          -1.0752024383908803,
          -1.075202052989321,
          -2.3204965042710284,
          -2.1062978707920426,
          -0.970562868136712,
          -1.675510449605199,
          -2.0973816771371903,
          -2.3023042061324386,
          -1.0751781774783813,
          -0.9707278725343877,
          -1.675518909373317,
          -2.0644425066121115,
          -1.6755123174759106,
          -1.8459266872504656,
          -2.3572149872093986,
          -2.3204588266975996,
          -2.0692575152069805,
          -0.9708649017460023,
          -2.2234203050035966,
          -1.0763056689783947,
          -1.2604113237381682,
          -0.9706196814638975,
          -1.6755060381083764,
          -1.6756471647386544,
          -1.0751793026485432,
          -0.9706197961616781,
          -1.33788689412862,
          -1.2704969452944053,
          -2.8155145423217136,
          -2.06802128033423,
          -2.3205785428606096,
          -1.0767022504339254,
          -2.302248832293449,
          -1.2711699152269234,
          -1.0751788635454997,
          -1.0794072364049592,
          -0.9707920044870404,
          -2.067556250214951,
          -2.320939386565212,
          -1.0751721111349106,
          -2.2434568202761858,
          -2.097387364098199,
          -2.212129846684196,
          -0.9706509874991477,
          -2.320457711468745,
          -0.6530751711548524,
          -2.3107938200508884,
          -2.2853466748406865,
          -2.211988317185529,
          -2.320762512920855,
          -2.1934286202976523,
          -2.4001909989464623,
          -2.1505609610641656,
          -2.3207664497236755,
          -1.2813563090530795,
          -2.339881435418976,
          -0.9706200232762157,
          -1.075173635426897,
          -2.2239595758026485,
          -2.2140869119341975,
          -0.9835487180108698,
          -2.2523489554376095,
          -1.338207078597616,
          -0.9706220718622565,
          -1.2813957916231091,
          -2.0997593003154926,
          -2.212023716065827,
          -1.3378881059894208,
          -2.323936172634355,
          -2.2169051644867617,
          -2.2168589437568804,
          -0.13125057450747182,
          -2.218780080023276,
          -1.0752117721276577,
          -2.097499352379807,
          -2.09738389708374,
          -1.5858289240616577,
          -1.3378978594791375,
          -0.33772449423615186,
          -1.3379396934972068,
          -1.125586226970828,
          -1.67617701393572,
          -2.2204426972270315,
          -1.0753959070156536,
          -1.3378971050099622,
          -1.0902151547388783,
          -1.1502487516687059,
          -1.0751635299656166,
          -1.0752312600484677,
          -1.8457610983241146,
          -2.239718811549992,
          -2.064306894764829,
          -2.3208208886667583,
          -2.097385245783586
         ],
         "z": [
          0.19645861509379736,
          0.29774446225773044,
          0.0158918025243669,
          0.3612541692166588,
          0.2977086764358228,
          0.32368915634950657,
          0.2303938379009489,
          0.015918454821494548,
          -0.03215781626677262,
          0.015909616214220358,
          0.2362680595955765,
          -0.046540808413615804,
          0.19639079377656068,
          0.01584592333940861,
          0.015905148806918828,
          -0.03189356819195102,
          0.024063229700279472,
          0.01590610887477019,
          0.01591803902306781,
          0.01592003827550548,
          -0.03215572858626891,
          0.22982127273610872,
          0.18767370950989473,
          0.010135932982718915,
          0.015914117615889865,
          0.01581206459952724,
          0.015912733200196774,
          0.015921368052383544,
          0.19149657286522934,
          0.015439193863009636,
          0.01589332555697221,
          0.015899838659504006,
          -0.024763701243587,
          0.19645770934516196,
          0.015836968231462512,
          0.015914734037851205,
          0.015922987148703174,
          0.01590576306991902,
          0.20476274191185215,
          0.01592023388286884,
          0.012805792407298617,
          0.19645952903468947,
          0.01577283259343594,
          0.015919790785249344,
          0.015875920178037174,
          0.015907863620230174,
          0.19616135950906255,
          0.19644704836850313,
          0.19645376455962463,
          0.19645350009510837,
          0.1964670678186435,
          -0.03215171508521871,
          0.015913150554172455,
          0.05775980787614558,
          0.015846088437582916,
          0.19644861907016922,
          0.19337876925966063,
          0.2725033421516525,
          -1.1135313240530882,
          0.0158868903042309,
          0.01553136294631254,
          0.015857067977783985,
          0.015923043471871536,
          0.015853881034518444,
          0.015533847305709277,
          0.22495070717555532,
          0.23705831458217486,
          0.2710225228277872,
          0.015920070226791545,
          0.012976297490962855,
          0.2374021559883001,
          0.01592324486224127,
          0.19646018031862936,
          0.0009580850574635382,
          -0.032165966599608506,
          0.22959856023574565,
          0.19645419695294367,
          -0.0321593292056127,
          0.015879996095792284,
          0.01586119775524114,
          0.2977695501847812,
          0.3520704285820347,
          -0.03215851697287602,
          0.19645773566030358,
          0.015829212114216402,
          0.3153067644610995,
          0.01588985568535467,
          0.186722243235679,
          -0.03217795439716179,
          0.2823637430935469,
          0.01589595547615527,
          0.2710501572914638,
          0.015918387627808298,
          -0.032159346930617706,
          0.015923246223013564,
          -0.03215583064081298,
          0.5154793185662214,
          0.2761044196624468,
          0.19646379386488322,
          0.23659533183840925,
          0.015857521321209753,
          0.196462827070832,
          0.01591545814622043,
          0.20359753356064805,
          0.2977635375907891,
          0.3236896631931776,
          0.014240621700201407,
          -0.03246872321826828,
          -0.03220603433144674,
          0.27610459074440613,
          0.01592282546559482,
          0.27610154007472304,
          0.2296110342856125,
          -0.04857193124457209,
          0.3612258607192333,
          0.01592208419639589,
          -0.0323227402013632,
          0.32368993918014327,
          0.015878657943796084,
          0.22960447022828542,
          0.22297183311103153,
          0.015254493773416282,
          0.002901827830758827,
          0.01591193732508809,
          0.19568305181654033,
          0.015907894502851842,
          0.3612222419461042,
          0.08986789566996572,
          0.36145732889310844,
          0.1352436347779225,
          0.27526466211544176,
          -0.03217770096162898,
          0.015915193428250433,
          0.01590984278747912,
          -0.03216858869771175,
          -0.0321551949681629,
          0.2760954464909907,
          0.23011483348487377,
          -0.06331419473964008,
          0.09106896658696834,
          -0.032365384529178844,
          0.19645859549763842,
          0.014215375025430861,
          -0.025038294861856693,
          0.01591749016842023,
          0.015904859680320665,
          0.01589790523979927,
          0.015897598816018897,
          0.27609126498895176,
          0.31878591201868883,
          -0.03321835587894042,
          0.19160541342394985,
          0.32368634378384853,
          0.28233509537239426,
          0.015878615954783477,
          -0.03225849038227796,
          0.19160185259606974,
          0.2977261057494367,
          0.19160415532647823,
          0.23683162138862598,
          0.2567586112512583,
          0.27610496464552947,
          0.29599943098564685,
          -0.03226384156663218,
          0.36097012468886797,
          0.013974710305405829,
          -0.028222289974026385,
          -0.03215580142340105,
          0.19160533494316132,
          0.19144379314518972,
          0.01590008453524303,
          -0.03215753902844585,
          0.196458109486821,
          0.1671212340960514,
          0.09821979410158689,
          0.15262824636048644,
          0.27601526806560545,
          0.011432525190471627,
          0.2823232481986532,
          0.05742479155442281,
          0.015913451403959004,
          0.008778611144808494,
          -0.03229322549733158,
          0.2966470433548022,
          0.27592269076539994,
          0.015918941211496354,
          0.4553520232900914,
          0.32366286187561455,
          0.20354655098509852,
          -0.03217674499001203,
          0.27610070610574206,
          0.002903125516894328,
          0.22960746330415135,
          0.29301584803031794,
          0.20359947330636843,
          0.27601066218640935,
          0.21301240471771826,
          0.23434937882959692,
          0.24471833878476779,
          0.2757851927209092,
          0.056644029493412816,
          0.45781184113109025,
          -0.032156215455873105,
          0.015919521483150068,
          0.36096996533003944,
          0.28909717518487643,
          -0.021748893524530775,
          0.15451978958798884,
          0.19552405647851048,
          -0.03215687267116315,
          0.05663088746021165,
          0.3212453413350124,
          0.20358561291229435,
          0.19645859637841775,
          0.2742591485504802,
          0.23897575850012534,
          0.2389846672630426,
          0.11038899350106156,
          0.39037274847454867,
          0.015893896284884253,
          0.32364171602932623,
          0.323682458966924,
          0.2710043769344219,
          0.1964417766695247,
          -0.12524935789091432,
          0.1964156019668348,
          -5.007723780488854e-05,
          0.1898648154309604,
          0.23784794733475467,
          0.015537378027260105,
          0.19645374979888525,
          -0.0006836622871204218,
          0.02405301102522566,
          0.015921262517029182,
          0.015873957703324122,
          0.23707555500669641,
          0.3190940917286901,
          0.2977643089623107,
          0.2755997488103119,
          0.32368918113126766
         ]
        },
        {
         "customdata": [
          [
           "SHA-256 + Hive"
          ],
          [
           "Proof-of-Authority"
          ],
          [
           "Leased POS"
          ]
         ],
         "hovertemplate": "<b>%{hovertext}</b><br><br>Class=%{marker.color}<br>PC 1=%{x}<br>PC 2=%{y}<br>PC 3=%{z}<br>Algorithm=%{customdata[0]}<extra></extra>",
         "hovertext": [
          "LitecoinCash",
          "Poa Network",
          "Waves"
         ],
         "legendgroup": "3",
         "marker": {
          "color": [
           3,
           3,
           3
          ],
          "coloraxis": "coloraxis",
          "symbol": "square"
         },
         "mode": "markers",
         "name": "3",
         "scene": "scene",
         "showlegend": true,
         "type": "scatter3d",
         "x": [
          -0.38971405533597103,
          -0.38374117240957845,
          -0.41703642151537457
         ],
         "y": [
          3.510471025592608,
          2.1174949147024424,
          2.8391321215404
         ],
         "z": [
          24.35047484566473,
          12.330452186647205,
          15.348846167013317
         ]
        },
        {
         "customdata": [
          [
           "TRC10"
          ]
         ],
         "hovertemplate": "<b>%{hovertext}</b><br><br>Class=%{marker.color}<br>PC 1=%{x}<br>PC 2=%{y}<br>PC 3=%{z}<br>Algorithm=%{customdata[0]}<extra></extra>",
         "hovertext": [
          "BitTorrent"
         ],
         "legendgroup": "2",
         "marker": {
          "color": [
           2
          ],
          "coloraxis": "coloraxis",
          "symbol": "x"
         },
         "mode": "markers",
         "name": "2",
         "scene": "scene",
         "showlegend": true,
         "type": "scatter3d",
         "x": [
          34.025060147157966
         ],
         "y": [
          1.6551177206214696
         ],
         "z": [
          -0.48413982532979893
         ]
        }
       ],
       "layout": {
        "coloraxis": {
         "colorbar": {
          "title": {
           "text": "Class"
          }
         },
         "colorscale": [
          [
           0,
           "#0d0887"
          ],
          [
           0.1111111111111111,
           "#46039f"
          ],
          [
           0.2222222222222222,
           "#7201a8"
          ],
          [
           0.3333333333333333,
           "#9c179e"
          ],
          [
           0.4444444444444444,
           "#bd3786"
          ],
          [
           0.5555555555555556,
           "#d8576b"
          ],
          [
           0.6666666666666666,
           "#ed7953"
          ],
          [
           0.7777777777777778,
           "#fb9f3a"
          ],
          [
           0.8888888888888888,
           "#fdca26"
          ],
          [
           1,
           "#f0f921"
          ]
         ]
        },
        "legend": {
         "title": {
          "text": "Class"
         },
         "tracegroupgap": 0,
         "x": 0,
         "y": 1
        },
        "margin": {
         "t": 60
        },
        "scene": {
         "domain": {
          "x": [
           0,
           1
          ],
          "y": [
           0,
           1
          ]
         },
         "xaxis": {
          "title": {
           "text": "PC 1"
          }
         },
         "yaxis": {
          "title": {
           "text": "PC 2"
          }
         },
         "zaxis": {
          "title": {
           "text": "PC 3"
          }
         }
        },
        "template": {
         "data": {
          "bar": [
           {
            "error_x": {
             "color": "#2a3f5f"
            },
            "error_y": {
             "color": "#2a3f5f"
            },
            "marker": {
             "line": {
              "color": "#E5ECF6",
              "width": 0.5
             },
             "pattern": {
              "fillmode": "overlay",
              "size": 10,
              "solidity": 0.2
             }
            },
            "type": "bar"
           }
          ],
          "barpolar": [
           {
            "marker": {
             "line": {
              "color": "#E5ECF6",
              "width": 0.5
             },
             "pattern": {
              "fillmode": "overlay",
              "size": 10,
              "solidity": 0.2
             }
            },
            "type": "barpolar"
           }
          ],
          "carpet": [
           {
            "aaxis": {
             "endlinecolor": "#2a3f5f",
             "gridcolor": "white",
             "linecolor": "white",
             "minorgridcolor": "white",
             "startlinecolor": "#2a3f5f"
            },
            "baxis": {
             "endlinecolor": "#2a3f5f",
             "gridcolor": "white",
             "linecolor": "white",
             "minorgridcolor": "white",
             "startlinecolor": "#2a3f5f"
            },
            "type": "carpet"
           }
          ],
          "choropleth": [
           {
            "colorbar": {
             "outlinewidth": 0,
             "ticks": ""
            },
            "type": "choropleth"
           }
          ],
          "contour": [
           {
            "colorbar": {
             "outlinewidth": 0,
             "ticks": ""
            },
            "colorscale": [
             [
              0,
              "#0d0887"
             ],
             [
              0.1111111111111111,
              "#46039f"
             ],
             [
              0.2222222222222222,
              "#7201a8"
             ],
             [
              0.3333333333333333,
              "#9c179e"
             ],
             [
              0.4444444444444444,
              "#bd3786"
             ],
             [
              0.5555555555555556,
              "#d8576b"
             ],
             [
              0.6666666666666666,
              "#ed7953"
             ],
             [
              0.7777777777777778,
              "#fb9f3a"
             ],
             [
              0.8888888888888888,
              "#fdca26"
             ],
             [
              1,
              "#f0f921"
             ]
            ],
            "type": "contour"
           }
          ],
          "contourcarpet": [
           {
            "colorbar": {
             "outlinewidth": 0,
             "ticks": ""
            },
            "type": "contourcarpet"
           }
          ],
          "heatmap": [
           {
            "colorbar": {
             "outlinewidth": 0,
             "ticks": ""
            },
            "colorscale": [
             [
              0,
              "#0d0887"
             ],
             [
              0.1111111111111111,
              "#46039f"
             ],
             [
              0.2222222222222222,
              "#7201a8"
             ],
             [
              0.3333333333333333,
              "#9c179e"
             ],
             [
              0.4444444444444444,
              "#bd3786"
             ],
             [
              0.5555555555555556,
              "#d8576b"
             ],
             [
              0.6666666666666666,
              "#ed7953"
             ],
             [
              0.7777777777777778,
              "#fb9f3a"
             ],
             [
              0.8888888888888888,
              "#fdca26"
             ],
             [
              1,
              "#f0f921"
             ]
            ],
            "type": "heatmap"
           }
          ],
          "heatmapgl": [
           {
            "colorbar": {
             "outlinewidth": 0,
             "ticks": ""
            },
            "colorscale": [
             [
              0,
              "#0d0887"
             ],
             [
              0.1111111111111111,
              "#46039f"
             ],
             [
              0.2222222222222222,
              "#7201a8"
             ],
             [
              0.3333333333333333,
              "#9c179e"
             ],
             [
              0.4444444444444444,
              "#bd3786"
             ],
             [
              0.5555555555555556,
              "#d8576b"
             ],
             [
              0.6666666666666666,
              "#ed7953"
             ],
             [
              0.7777777777777778,
              "#fb9f3a"
             ],
             [
              0.8888888888888888,
              "#fdca26"
             ],
             [
              1,
              "#f0f921"
             ]
            ],
            "type": "heatmapgl"
           }
          ],
          "histogram": [
           {
            "marker": {
             "pattern": {
              "fillmode": "overlay",
              "size": 10,
              "solidity": 0.2
             }
            },
            "type": "histogram"
           }
          ],
          "histogram2d": [
           {
            "colorbar": {
             "outlinewidth": 0,
             "ticks": ""
            },
            "colorscale": [
             [
              0,
              "#0d0887"
             ],
             [
              0.1111111111111111,
              "#46039f"
             ],
             [
              0.2222222222222222,
              "#7201a8"
             ],
             [
              0.3333333333333333,
              "#9c179e"
             ],
             [
              0.4444444444444444,
              "#bd3786"
             ],
             [
              0.5555555555555556,
              "#d8576b"
             ],
             [
              0.6666666666666666,
              "#ed7953"
             ],
             [
              0.7777777777777778,
              "#fb9f3a"
             ],
             [
              0.8888888888888888,
              "#fdca26"
             ],
             [
              1,
              "#f0f921"
             ]
            ],
            "type": "histogram2d"
           }
          ],
          "histogram2dcontour": [
           {
            "colorbar": {
             "outlinewidth": 0,
             "ticks": ""
            },
            "colorscale": [
             [
              0,
              "#0d0887"
             ],
             [
              0.1111111111111111,
              "#46039f"
             ],
             [
              0.2222222222222222,
              "#7201a8"
             ],
             [
              0.3333333333333333,
              "#9c179e"
             ],
             [
              0.4444444444444444,
              "#bd3786"
             ],
             [
              0.5555555555555556,
              "#d8576b"
             ],
             [
              0.6666666666666666,
              "#ed7953"
             ],
             [
              0.7777777777777778,
              "#fb9f3a"
             ],
             [
              0.8888888888888888,
              "#fdca26"
             ],
             [
              1,
              "#f0f921"
             ]
            ],
            "type": "histogram2dcontour"
           }
          ],
          "mesh3d": [
           {
            "colorbar": {
             "outlinewidth": 0,
             "ticks": ""
            },
            "type": "mesh3d"
           }
          ],
          "parcoords": [
           {
            "line": {
             "colorbar": {
              "outlinewidth": 0,
              "ticks": ""
             }
            },
            "type": "parcoords"
           }
          ],
          "pie": [
           {
            "automargin": true,
            "type": "pie"
           }
          ],
          "scatter": [
           {
            "fillpattern": {
             "fillmode": "overlay",
             "size": 10,
             "solidity": 0.2
            },
            "type": "scatter"
           }
          ],
          "scatter3d": [
           {
            "line": {
             "colorbar": {
              "outlinewidth": 0,
              "ticks": ""
             }
            },
            "marker": {
             "colorbar": {
              "outlinewidth": 0,
              "ticks": ""
             }
            },
            "type": "scatter3d"
           }
          ],
          "scattercarpet": [
           {
            "marker": {
             "colorbar": {
              "outlinewidth": 0,
              "ticks": ""
             }
            },
            "type": "scattercarpet"
           }
          ],
          "scattergeo": [
           {
            "marker": {
             "colorbar": {
              "outlinewidth": 0,
              "ticks": ""
             }
            },
            "type": "scattergeo"
           }
          ],
          "scattergl": [
           {
            "marker": {
             "colorbar": {
              "outlinewidth": 0,
              "ticks": ""
             }
            },
            "type": "scattergl"
           }
          ],
          "scattermapbox": [
           {
            "marker": {
             "colorbar": {
              "outlinewidth": 0,
              "ticks": ""
             }
            },
            "type": "scattermapbox"
           }
          ],
          "scatterpolar": [
           {
            "marker": {
             "colorbar": {
              "outlinewidth": 0,
              "ticks": ""
             }
            },
            "type": "scatterpolar"
           }
          ],
          "scatterpolargl": [
           {
            "marker": {
             "colorbar": {
              "outlinewidth": 0,
              "ticks": ""
             }
            },
            "type": "scatterpolargl"
           }
          ],
          "scatterternary": [
           {
            "marker": {
             "colorbar": {
              "outlinewidth": 0,
              "ticks": ""
             }
            },
            "type": "scatterternary"
           }
          ],
          "surface": [
           {
            "colorbar": {
             "outlinewidth": 0,
             "ticks": ""
            },
            "colorscale": [
             [
              0,
              "#0d0887"
             ],
             [
              0.1111111111111111,
              "#46039f"
             ],
             [
              0.2222222222222222,
              "#7201a8"
             ],
             [
              0.3333333333333333,
              "#9c179e"
             ],
             [
              0.4444444444444444,
              "#bd3786"
             ],
             [
              0.5555555555555556,
              "#d8576b"
             ],
             [
              0.6666666666666666,
              "#ed7953"
             ],
             [
              0.7777777777777778,
              "#fb9f3a"
             ],
             [
              0.8888888888888888,
              "#fdca26"
             ],
             [
              1,
              "#f0f921"
             ]
            ],
            "type": "surface"
           }
          ],
          "table": [
           {
            "cells": {
             "fill": {
              "color": "#EBF0F8"
             },
             "line": {
              "color": "white"
             }
            },
            "header": {
             "fill": {
              "color": "#C8D4E3"
             },
             "line": {
              "color": "white"
             }
            },
            "type": "table"
           }
          ]
         },
         "layout": {
          "annotationdefaults": {
           "arrowcolor": "#2a3f5f",
           "arrowhead": 0,
           "arrowwidth": 1
          },
          "autotypenumbers": "strict",
          "coloraxis": {
           "colorbar": {
            "outlinewidth": 0,
            "ticks": ""
           }
          },
          "colorscale": {
           "diverging": [
            [
             0,
             "#8e0152"
            ],
            [
             0.1,
             "#c51b7d"
            ],
            [
             0.2,
             "#de77ae"
            ],
            [
             0.3,
             "#f1b6da"
            ],
            [
             0.4,
             "#fde0ef"
            ],
            [
             0.5,
             "#f7f7f7"
            ],
            [
             0.6,
             "#e6f5d0"
            ],
            [
             0.7,
             "#b8e186"
            ],
            [
             0.8,
             "#7fbc41"
            ],
            [
             0.9,
             "#4d9221"
            ],
            [
             1,
             "#276419"
            ]
           ],
           "sequential": [
            [
             0,
             "#0d0887"
            ],
            [
             0.1111111111111111,
             "#46039f"
            ],
            [
             0.2222222222222222,
             "#7201a8"
            ],
            [
             0.3333333333333333,
             "#9c179e"
            ],
            [
             0.4444444444444444,
             "#bd3786"
            ],
            [
             0.5555555555555556,
             "#d8576b"
            ],
            [
             0.6666666666666666,
             "#ed7953"
            ],
            [
             0.7777777777777778,
             "#fb9f3a"
            ],
            [
             0.8888888888888888,
             "#fdca26"
            ],
            [
             1,
             "#f0f921"
            ]
           ],
           "sequentialminus": [
            [
             0,
             "#0d0887"
            ],
            [
             0.1111111111111111,
             "#46039f"
            ],
            [
             0.2222222222222222,
             "#7201a8"
            ],
            [
             0.3333333333333333,
             "#9c179e"
            ],
            [
             0.4444444444444444,
             "#bd3786"
            ],
            [
             0.5555555555555556,
             "#d8576b"
            ],
            [
             0.6666666666666666,
             "#ed7953"
            ],
            [
             0.7777777777777778,
             "#fb9f3a"
            ],
            [
             0.8888888888888888,
             "#fdca26"
            ],
            [
             1,
             "#f0f921"
            ]
           ]
          },
          "colorway": [
           "#636efa",
           "#EF553B",
           "#00cc96",
           "#ab63fa",
           "#FFA15A",
           "#19d3f3",
           "#FF6692",
           "#B6E880",
           "#FF97FF",
           "#FECB52"
          ],
          "font": {
           "color": "#2a3f5f"
          },
          "geo": {
           "bgcolor": "white",
           "lakecolor": "white",
           "landcolor": "#E5ECF6",
           "showlakes": true,
           "showland": true,
           "subunitcolor": "white"
          },
          "hoverlabel": {
           "align": "left"
          },
          "hovermode": "closest",
          "mapbox": {
           "style": "light"
          },
          "paper_bgcolor": "white",
          "plot_bgcolor": "#E5ECF6",
          "polar": {
           "angularaxis": {
            "gridcolor": "white",
            "linecolor": "white",
            "ticks": ""
           },
           "bgcolor": "#E5ECF6",
           "radialaxis": {
            "gridcolor": "white",
            "linecolor": "white",
            "ticks": ""
           }
          },
          "scene": {
           "xaxis": {
            "backgroundcolor": "#E5ECF6",
            "gridcolor": "white",
            "gridwidth": 2,
            "linecolor": "white",
            "showbackground": true,
            "ticks": "",
            "zerolinecolor": "white"
           },
           "yaxis": {
            "backgroundcolor": "#E5ECF6",
            "gridcolor": "white",
            "gridwidth": 2,
            "linecolor": "white",
            "showbackground": true,
            "ticks": "",
            "zerolinecolor": "white"
           },
           "zaxis": {
            "backgroundcolor": "#E5ECF6",
            "gridcolor": "white",
            "gridwidth": 2,
            "linecolor": "white",
            "showbackground": true,
            "ticks": "",
            "zerolinecolor": "white"
           }
          },
          "shapedefaults": {
           "line": {
            "color": "#2a3f5f"
           }
          },
          "ternary": {
           "aaxis": {
            "gridcolor": "white",
            "linecolor": "white",
            "ticks": ""
           },
           "baxis": {
            "gridcolor": "white",
            "linecolor": "white",
            "ticks": ""
           },
           "bgcolor": "#E5ECF6",
           "caxis": {
            "gridcolor": "white",
            "linecolor": "white",
            "ticks": ""
           }
          },
          "title": {
           "x": 0.05
          },
          "xaxis": {
           "automargin": true,
           "gridcolor": "white",
           "linecolor": "white",
           "ticks": "",
           "title": {
            "standoff": 15
           },
           "zerolinecolor": "white",
           "zerolinewidth": 2
          },
          "yaxis": {
           "automargin": true,
           "gridcolor": "white",
           "linecolor": "white",
           "ticks": "",
           "title": {
            "standoff": 15
           },
           "zerolinecolor": "white",
           "zerolinewidth": 2
          }
         }
        },
        "width": 800
       }
      },
      "text/html": [
       "<div>                            <div id=\"27e837a1-4569-4a64-a9b5-7cea43f0799a\" class=\"plotly-graph-div\" style=\"height:525px; width:800px;\"></div>            <script type=\"text/javascript\">                require([\"plotly\"], function(Plotly) {                    window.PLOTLYENV=window.PLOTLYENV || {};                                    if (document.getElementById(\"27e837a1-4569-4a64-a9b5-7cea43f0799a\")) {                    Plotly.newPlot(                        \"27e837a1-4569-4a64-a9b5-7cea43f0799a\",                        [{\"customdata\":[[\"Scrypt\"],[\"Scrypt\"],[\"X13\"],[\"X11\"],[\"SHA-512\"],[\"SHA-256\"],[\"SHA-256\"],[\"X15\"],[\"Scrypt\"],[\"Scrypt\"],[\"Scrypt\"],[\"Scrypt\"],[\"Scrypt\"],[\"Scrypt\"],[\"Groestl\"],[\"PoS\"],[\"Scrypt\"],[\"Scrypt\"],[\"X11\"],[\"X11\"],[\"SHA3\"],[\"Scrypt\"],[\"SHA-256\"],[\"Scrypt\"],[\"X13\"],[\"X13\"],[\"NeoScrypt\"],[\"Scrypt\"],[\"Scrypt\"],[\"Scrypt\"],[\"X11\"],[\"X11\"],[\"Multiple\"],[\"PHI1612\"],[\"X11\"],[\"Scrypt\"],[\"Scrypt\"],[\"Scrypt\"],[\"X11\"],[\"Multiple\"],[\"X13\"],[\"Scrypt\"],[\"Counterparty\"],[\"SHA-256\"],[\"Groestl\"],[\"Scrypt\"],[\"X13\"],[\"Scrypt\"],[\"Scrypt\"],[\"X13\"],[\"X11\"],[\"Scrypt\"],[\"X11\"],[\"SHA3\"],[\"QUAIT\"],[\"X11\"],[\"Scrypt\"],[\"X13\"],[\"SHA-256\"],[\"X15\"],[\"BLAKE256\"],[\"SHA-256\"],[\"X11\"],[\"SHA-256\"],[\"NIST5\"],[\"Scrypt\"],[\"Scrypt\"],[\"X11\"],[\"Scrypt\"],[\"SHA-256\"],[\"Scrypt\"],[\"PoS\"],[\"X11\"],[\"SHA-256\"],[\"SHA-256\"],[\"NIST5\"],[\"X11\"],[\"POS 3.0\"],[\"Scrypt\"],[\"Scrypt\"],[\"Scrypt\"],[\"X13\"],[\"X11\"],[\"X11\"],[\"Scrypt\"],[\"SHA-256\"],[\"X11\"],[\"Scrypt\"],[\"Scrypt\"],[\"Scrypt\"],[\"Scrypt\"],[\"SHA-256D\"],[\"PoS\"],[\"Scrypt\"],[\"X11\"],[\"PoS\"],[\"X13\"],[\"X14\"],[\"PoS\"],[\"SHA-256D\"],[\"DPoS\"],[\"X11\"],[\"X13\"],[\"X11\"],[\"PoS\"],[\"Scrypt\"],[\"Scrypt\"],[\"PoS\"],[\"X11\"],[\"SHA-256\"],[\"Scrypt\"],[\"X11\"],[\"Scrypt\"],[\"Scrypt\"],[\"X11\"],[\"Scrypt\"],[\"Scrypt\"],[\"Scrypt\"],[\"Scrypt\"],[\"Quark\"],[\"QuBit\"],[\"Scrypt\"],[\"SHA-256\"],[\"X11\"],[\"Scrypt\"],[\"Scrypt\"],[\"Scrypt\"],[\"Scrypt\"],[\"X13\"],[\"Scrypt\"],[\"Scrypt\"],[\"X11\"],[\"Blake2S\"],[\"X11\"],[\"PoS\"],[\"X11\"],[\"PoS\"],[\"X11\"],[\"Scrypt\"],[\"Scrypt\"],[\"Scrypt\"],[\"SHA-256\"],[\"X11\"],[\"Scrypt\"],[\"PoS\"],[\"Scrypt\"],[\"X15\"],[\"SHA-256\"],[\"POS 3.0\"],[\"536\"],[\"NIST5\"],[\"NIST5\"],[\"Skein\"],[\"X13\"],[\"Scrypt\"],[\"X13\"],[\"SkunkHash v2 Raptor\"],[\"Skein\"],[\"X11\"],[\"Scrypt\"],[\"VeChainThor Authority\"],[\"PoS\"],[\"Scrypt\"],[\"Scrypt\"],[\"SHA-512\"],[\"Ouroboros\"],[\"X11\"],[\"NeoScrypt\"],[\"Scrypt\"],[\"Lyra2REv2\"],[\"Scrypt\"],[\"SHA-256\"],[\"NIST5\"],[\"PHI1612\"],[\"Scrypt\"],[\"Quark\"],[\"POS 2.0\"],[\"Scrypt\"],[\"SHA-256\"],[\"X11\"],[\"DPoS\"],[\"NIST5\"],[\"X13\"],[\"Scrypt\"],[\"NIST5\"],[\"Quark\"],[\"Scrypt\"],[\"Scrypt\"],[\"X11\"],[\"Quark\"],[\"Scrypt\"],[\"Scrypt\"],[\"X11\"],[\"POS 3.0\"],[\"Ethash\"],[\"Scrypt\"],[\"Scrypt\"],[\"X13\"],[\"Proof-of-BibleHash\"],[\"C11\"],[\"X11\"],[\"XEVAN\"],[\"Scrypt\"],[\"VBFT\"],[\"NIST5\"],[\"Scrypt\"],[\"Scrypt\"],[\"Scrypt\"],[\"Green Protocol\"],[\"PoS\"],[\"Scrypt\"],[\"Semux BFT consensus\"],[\"Quark\"],[\"PoS\"],[\"X16R\"],[\"Scrypt\"],[\"XEVAN\"],[\"Scrypt\"],[\"Scrypt\"],[\"Scrypt\"],[\"SHA-256D\"],[\"Scrypt\"],[\"X15\"],[\"Scrypt\"],[\"Quark\"],[\"SHA-256\"],[\"DPoS\"],[\"X16R\"],[\"Quark\"],[\"Quark\"],[\"Scrypt\"],[\"Lyra2REv2\"],[\"Quark\"],[\"Scrypt\"],[\"X11\"],[\"X11\"],[\"Scrypt\"],[\"PoS\"],[\"Keccak\"],[\"X11\"],[\"Scrypt\"],[\"SHA-512\"],[\"ECC 256K1\"],[\"XEVAN\"],[\"XEVAN\"],[\"X11\"],[\"Quark\"],[\"Scrypt\"],[\"Quark\"],[\"Quark\"],[\"Scrypt\"],[\"X11\"],[\"Scrypt\"],[\"XEVAN\"],[\"SHA-256D\"],[\"X11\"],[\"X11\"],[\"DPoS\"],[\"Scrypt\"],[\"X11\"],[\"Scrypt\"],[\"Scrypt\"],[\"SHA-256\"],[\"Scrypt\"],[\"X11\"],[\"Scrypt\"],[\"SHA-256\"],[\"X11\"],[\"Scrypt\"],[\"Scrypt\"],[\"X11\"],[\"Scrypt\"],[\"PoS\"],[\"X11\"],[\"SHA-256\"],[\"DPoS\"],[\"Scrypt\"],[\"Scrypt\"],[\"NeoScrypt\"],[\"X13\"],[\"DPoS\"],[\"DPoS\"],[\"SHA-256\"],[\"PoS\"],[\"PoS\"],[\"SHA-256\"],[\"Scrypt\"],[\"Scrypt\"]],\"hovertemplate\":\"<b>%{hovertext}</b><br><br>Class=%{marker.color}<br>PC 1=%{x}<br>PC 2=%{y}<br>PC 3=%{z}<br>Algorithm=%{customdata[0]}<extra></extra>\",\"hovertext\":[\"42 Coin\",\"404Coin\",\"EliteCoin\",\"Dash\",\"Bitshares\",\"BitcoinDark\",\"PayCoin\",\"KoboCoin\",\"Aurora Coin\",\"BlueCoin\",\"EnergyCoin\",\"BitBar\",\"CryptoBullion\",\"CasinoCoin\",\"Diamond\",\"Exclusive Coin\",\"FlutterCoin\",\"HoboNickels\",\"HyperStake\",\"IOCoin\",\"MaxCoin\",\"MintCoin\",\"MazaCoin\",\"Nautilus Coin\",\"NavCoin\",\"OpalCoin\",\"Orbitcoin\",\"PotCoin\",\"PhoenixCoin\",\"Reddcoin\",\"SuperCoin\",\"SyncCoin\",\"TeslaCoin\",\"TittieCoin\",\"TorCoin\",\"UnitaryStatus Dollar\",\"UltraCoin\",\"VeriCoin\",\"X11 Coin\",\"Crypti\",\"StealthCoin\",\"ZCC Coin\",\"StorjCoin\",\"Neutron\",\"FairCoin\",\"RubyCoin\",\"Kore\",\"Dnotes\",\"8BIT Coin\",\"Sativa Coin\",\"Ucoin\",\"Vtorrent\",\"IslaCoin\",\"Nexus\",\"Droidz\",\"Squall Coin\",\"Diggits\",\"Paycon\",\"Emercoin\",\"EverGreenCoin\",\"Decred\",\"EDRCoin\",\"Hitcoin\",\"DubaiCoin\",\"PWR Coin\",\"BillaryCoin\",\"GPU Coin\",\"EuropeCoin\",\"ZeitCoin\",\"SwingCoin\",\"SafeExchangeCoin\",\"Nebuchadnezzar\",\"Ratecoin\",\"Revenu\",\"Clockcoin\",\"VIP Tokens\",\"BitSend\",\"Let it Ride\",\"PutinCoin\",\"iBankCoin\",\"Frankywillcoin\",\"MudraCoin\",\"Lutetium Coin\",\"GoldBlocks\",\"CarterCoin\",\"BitTokens\",\"MustangCoin\",\"ZoneCoin\",\"RootCoin\",\"BitCurrency\",\"Swiscoin\",\"BuzzCoin\",\"Opair\",\"PesoBit\",\"Halloween Coin\",\"CoffeeCoin\",\"RoyalCoin\",\"GanjaCoin V2\",\"TeamUP\",\"LanaCoin\",\"ARK\",\"InsaneCoin\",\"EmberCoin\",\"XenixCoin\",\"FreeCoin\",\"PLNCoin\",\"AquariusCoin\",\"Creatio\",\"Eternity\",\"Eurocoin\",\"BitcoinFast\",\"Stakenet\",\"BitConnect Coin\",\"MoneyCoin\",\"Enigma\",\"Russiacoin\",\"PandaCoin\",\"GameUnits\",\"GAKHcoin\",\"Allsafe\",\"LiteCreed\",\"Klingon Empire Darsek\",\"Internet of People\",\"KushCoin\",\"Printerium\",\"Impeach\",\"Zilbercoin\",\"FirstCoin\",\"FindCoin\",\"OpenChat\",\"RenosCoin\",\"VirtacoinPlus\",\"TajCoin\",\"Impact\",\"Atmos\",\"HappyCoin\",\"MacronCoin\",\"Condensate\",\"Independent Money System\",\"ArgusCoin\",\"LomoCoin\",\"ProCurrency\",\"GoldReserve\",\"GrowthCoin\",\"Phreak\",\"Degas Coin\",\"HTML5 Coin\",\"Ultimate Secure Cash\",\"QTUM\",\"Espers\",\"Denarius\",\"Virta Unique Coin\",\"Bitcoin Planet\",\"BritCoin\",\"Linda\",\"DeepOnion\",\"Signatum\",\"Cream\",\"Monoeci\",\"Draftcoin\",\"Vechain\",\"Stakecoin\",\"CoinonatX\",\"Ethereum Dark\",\"Obsidian\",\"Cardano\",\"Regalcoin\",\"TrezarCoin\",\"TerraNovaCoin\",\"Rupee\",\"WomenCoin\",\"Theresa May Coin\",\"NamoCoin\",\"LUXCoin\",\"Xios\",\"Bitcloud 2.0\",\"KekCoin\",\"BlackholeCoin\",\"Infinity Economics\",\"Magnet\",\"Lamden Tau\",\"Electra\",\"Bitcoin Diamond\",\"Cash & Back Coin\",\"Bulwark\",\"Kalkulus\",\"GermanCoin\",\"LiteCoin Ultra\",\"PhantomX\",\"Digiwage\",\"Trollcoin\",\"Litecoin Plus\",\"Monkey Project\",\"TokenPay\",\"1717 Masonic Commemorative Token\",\"My Big Coin\",\"Unified Society USDEX\",\"Tokyo Coin\",\"BiblePay\",\"Stipend\",\"Pushi\",\"Ellerium\",\"Velox\",\"Ontology\",\"Bitspace\",\"Briacoin\",\"Ignition\",\"MedicCoin\",\"Bitcoin Green\",\"Deviant Coin\",\"Abjcoin\",\"Semux\",\"Carebit\",\"Zealium\",\"Proton\",\"iDealCash\",\"Bitcoin Incognito\",\"HollyWoodCoin\",\"Swisscoin\",\"Xt3ch\",\"TheVig\",\"EmaratCoin\",\"Dekado\",\"Lynx\",\"Poseidon Quark\",\"BitcoinWSpectrum\",\"Muse\",\"Trivechain\",\"Dystem\",\"Giant\",\"Peony Coin\",\"Absolute Coin\",\"Vitae\",\"TPCash\",\"ARENON\",\"EUNO\",\"MMOCoin\",\"Ketan\",\"XDNA\",\"PAXEX\",\"ThunderStake\",\"Kcash\",\"Acute Angle Cloud\",\"Bettex coin\",\"BitMoney\",\"Junson Ming Chan Coin\",\"HerbCoin\",\"Oduwa\",\"Galilel\",\"Crypto Sports\",\"Credit\",\"Dash Platinum\",\"Nasdacoin\",\"Beetle Coin\",\"Titan Coin\",\"Award\",\"Insane Coin\",\"ALAX\",\"LiteDoge\",\"TruckCoin\",\"OrangeCoin\",\"BitstarCoin\",\"NeosCoin\",\"HyperCoin\",\"PinkCoin\",\"AudioCoin\",\"IncaKoin\",\"Piggy Coin\",\"Genstake\",\"XiaoMiCoin\",\"CapriCoin\",\" ClubCoin\",\"Radium\",\"Creditbit \",\"OKCash\",\"Lisk\",\"HiCoin\",\"WhiteCoin\",\"FriendshipCoin\",\"Triangles Coin\",\"EOS\",\"Oxycoin\",\"TigerCash\",\"Particl\",\"Nxt\",\"ZEPHYR\",\"Gapcoin\",\"BitcoinPlus\"],\"legendgroup\":\"1\",\"marker\":{\"color\":[1,1,1,1,1,1,1,1,1,1,1,1,1,1,1,1,1,1,1,1,1,1,1,1,1,1,1,1,1,1,1,1,1,1,1,1,1,1,1,1,1,1,1,1,1,1,1,1,1,1,1,1,1,1,1,1,1,1,1,1,1,1,1,1,1,1,1,1,1,1,1,1,1,1,1,1,1,1,1,1,1,1,1,1,1,1,1,1,1,1,1,1,1,1,1,1,1,1,1,1,1,1,1,1,1,1,1,1,1,1,1,1,1,1,1,1,1,1,1,1,1,1,1,1,1,1,1,1,1,1,1,1,1,1,1,1,1,1,1,1,1,1,1,1,1,1,1,1,1,1,1,1,1,1,1,1,1,1,1,1,1,1,1,1,1,1,1,1,1,1,1,1,1,1,1,1,1,1,1,1,1,1,1,1,1,1,1,1,1,1,1,1,1,1,1,1,1,1,1,1,1,1,1,1,1,1,1,1,1,1,1,1,1,1,1,1,1,1,1,1,1,1,1,1,1,1,1,1,1,1,1,1,1,1,1,1,1,1,1,1,1,1,1,1,1,1,1,1,1,1,1,1,1,1,1,1,1,1,1,1,1,1,1,1,1,1,1,1,1,1,1,1,1,1,1,1,1,1,1,1,1,1,1,1,1,1,1,1],\"coloraxis\":\"coloraxis\",\"symbol\":\"circle\"},\"mode\":\"markers\",\"name\":\"1\",\"scene\":\"scene\",\"showlegend\":true,\"x\":[-0.33335970086842076,-0.3167271750584089,2.2937156091878577,-0.3980964346936656,-0.24875265452848275,-0.31273099739525856,-0.2724165795877673,-0.24714268414863072,-0.3330198830320082,-0.3256108326060911,-0.3318589751025015,-0.33335564412597063,-0.33333995324824606,0.6404513163158703,-0.35865901077227164,-0.3851279508646479,-0.25712129714487386,-0.33142191618857486,-0.337641951365467,-0.39799132013363364,-0.4107497757366768,-0.03343340057486586,-0.27610225957013734,-0.29279680801769636,-0.285715077092957,-0.28633616731802697,-0.3458932442096183,-0.3276720218793432,-0.3317642754255086,0.0241378550809783,-0.3574928027224845,-0.3983622334720303,-0.236586341848723,-0.3387494690040419,-0.39827402769084486,-0.30863562035489295,-0.3320394324841429,-0.30358156867611824,-0.3982385695494327,-0.23705328280591795,-0.2861174247392516,-0.32447838286058706,-0.32626003638999646,-0.3119441095494829,-0.35808161561496726,-0.2927771099312743,-0.2864114133451955,-0.28744054099736827,-0.33334180164647853,-0.2863636856293282,-0.35793683878342303,-0.33307665224164595,-0.398343795580341,-0.4041763396254193,-0.403970888351221,-0.30645214017378936,-0.2911814784535431,-0.285886165828056,-0.30530068740007904,-0.24957987972535842,-0.08775116693008281,-0.31270196364510994,-0.07638040794591518,-0.3127655484806796,-0.24485662293336619,-0.3329527462828785,-0.29105070726943855,-0.3955179231864439,0.8583324083181256,-0.31256595823929406,-0.08902000297239951,-0.3848117855516022,-0.3961906384157428,-0.3113116836678564,-0.3089839816560658,-0.36599701103184973,-0.39708120303165995,-0.3537549630013441,-0.30929098692109197,-0.3329907744721764,-0.3314325607041255,-0.24479361851270953,-0.34544985645414455,-0.3978186261885245,-0.33219641228710145,-0.31274653028092575,-0.3983330053352552,-0.33317960631475024,-0.3333360451142682,-0.2910403977721675,-0.2437189741999019,0.048067193141699556,-0.3837707171586725,-0.3329508958323232,-0.3845196427303808,-0.3831005779607432,-0.24622173302563205,-0.3964040123226194,-0.38284985970602536,-0.2658984280835924,3.766966218914305,-0.3979262697049528,0.8437674004320973,-0.39828799586275004,-0.3842336432594929,-0.33287856494173357,-0.33303261206777385,-0.3848117855516022,-0.3978636423416151,-0.3126094506012917,-0.33287930177106484,-0.39123542277057805,-0.3330264294570673,-0.3286221385310767,-0.39831693711449556,-0.33223850375202757,0.3493312878357296,-0.3332253534435827,-0.333295801749403,-0.3536257945652435,-0.3636615161138337,-0.3295291451614553,-0.31272298639155477,-0.3982270487487315,-0.333074005896298,-0.33320072991640154,-0.2926837653379387,-0.28348794018240026,-0.24598999957538986,-0.31408829194084753,-0.29242537007159314,-0.3974940770673975,-0.42396764013063915,-0.39623471237480734,-0.38306145494006677,-0.39739214592004296,-0.3774713161468426,-0.3933402651940747,-0.3331441187417566,-0.3331433071311017,-0.3262769972086162,0.2593203476919886,-0.3978697890041596,-0.2753562865180942,-0.3848460139762449,-0.3323561920234606,0.8827923789240621,-0.2711092684320182,-0.3525354834661897,0.5692683333911075,-0.3675299316141741,-0.3660348078328469,-0.40635598139462253,-0.28604933779308755,0.13077179972134445,-0.28611998743191597,-0.35926412719143974,-0.4058617572552847,-0.39814169600439375,-0.292757849546214,4.411625984723982,-0.38471251578796595,-0.3327799598136885,-0.33327876175692767,-0.30671378861692605,0.6747260585234773,-0.39808262295126934,-0.34090131572330956,-0.3332344520251034,-0.3262767078448905,0.4345091790443672,-0.31107219812018905,-0.3523236805322964,-0.4145348152060506,-0.3331848779084376,-0.39232144537297725,-0.3513740550877858,-0.3330555128521133,-0.09920863040709385,-0.39687739915795767,3.771813651123482,0.1909686779277555,-0.2827967474892373,-0.3305202718545828,-0.32704280178449124,-0.3535119014859279,0.08036542830549544,-0.33219553766774584,-0.3974575339217233,-0.35267809877567036,-0.3197833495319269,-0.33330085353421374,-0.35790881833445914,-0.35403637601643223,-0.2667062196447626,-0.24853486968054914,-0.3288540249690699,-0.23780017834004993,-0.15426251537498842,-0.3687048697788646,-0.39815890350151817,-0.2461146575612926,-0.29191929888645785,-0.3163648821343169,-0.36712959634536346,-0.3333281594703543,-0.3333099025138267,-0.2863106734769162,-0.3542206065398956,-0.3843076916646598,-0.33302691268908885,3.9548566587148035,-0.39099186986697504,-0.38449602464277405,-0.324481275614214,-0.2799902414905831,-0.15435667414557494,-0.2924526057400385,-0.1367913223606709,-0.2927042023717059,-0.3310992067386066,-0.33250186699906326,-0.20867369611815892,2.243896375474434,-0.34922728692512883,-0.27123680794008526,1.0393786382546368,-0.3640700888867258,-0.35362522871004215,-0.3940026494722979,-0.1736427849853255,-0.366456193413256,-0.35234703112433025,-0.32621719630484924,-0.3574869713913559,-0.39763317673929427,-0.28995454248569413,-0.38359738373279395,-0.3329597846046797,-0.3573485787608495,-0.19305484361221065,-0.24033345132110942,-0.2686047204491146,-0.20585668329510692,0.7342364939335843,-0.14823954883805734,-0.39329852616634775,-0.3330308836306539,-0.3937538395919171,-0.3537419982926967,0.5718839575840332,-0.3579630361664222,-0.3325147058270655,-0.24058005201763633,-0.2858982176335699,-0.39520203321608716,-0.39786001354551315,3.78403354970503,0.10113235076078005,-0.3954041115563717,-0.33190124541798766,-0.33272482569527767,-0.2724491464469201,-0.3332422510944418,-0.3895027050232582,-0.24709548780283824,-0.09278643796386657,-0.38525848044113165,-0.3325218644116588,-0.3255984992160841,-0.394434722394563,-0.3309637962145022,-0.3850869249449568,-0.39971863444756606,-0.3112486965502124,3.767357344012974,-0.10032901194046598,-0.32816356143052633,-0.3455197486040421,-0.28651843024044116,3.7772074790410737,3.778449370428537,-0.2533799081809515,-0.38502290729954747,-0.4948744912217852,2.4916248446987037,-0.3314084687494124,-0.2930999778977756],\"y\":[1.1045786950549532,1.1046852764300157,1.6910237834219124,1.2091223915587364,1.3702886787770616,0.8418468364163821,0.6282897425099551,1.9231367401430421,1.104576605883608,1.1048076112328373,1.1046230293479844,1.1045784532987228,1.104578555206358,0.06489358557271495,1.0295192460621212,1.5884872793466491,0.42504493341995814,1.1045491495911615,0.9961693138404892,1.2091254968406084,2.068150636316138,0.8986841536540228,0.841195117388039,0.8910103682610936,1.84204144657832,1.842023098404526,0.5042426290215537,1.104442950275658,1.1045549473934047,1.1151398454985146,0.9955828823432042,1.2091304503777103,0.12039227300080425,1.636507442443165,1.2091258242574148,1.1041518736147167,1.104545372214543,0.4777250067401783,1.2091301264313536,0.1204508047692741,1.8420295604718546,1.1041178051002842,1.5850585329154474,0.84183681256571,1.0295394712838324,0.891022652539835,1.842012196365369,0.8908186744122444,1.1045792238620253,1.84201505285355,0.9955552994659632,1.1045725916577327,1.2091309957909813,2.2876790148701898,2.0059808111913093,0.4586153441220055,0.8909974644129061,1.8420002292537578,0.8413589926628852,1.9232988617770304,0.954761467753732,0.8418476941279867,1.1994398250154559,0.8418541332118428,1.5302971046525233,1.1045603403346458,0.8909137750127892,1.2089367452199984,0.8534257714145972,0.8418386932886445,0.07072087268874956,1.5884821542482683,1.2091403595425112,0.8417435890844092,0.8415937301142832,1.526653296195062,1.2090677618951768,1.5873175024931119,1.103843208521848,1.1045575293020276,1.104563300348718,1.6283507626548241,0.9954634712696219,1.209110347241457,1.1045479673441028,0.8418471008065438,1.2091291447726369,1.104568826939883,1.1045793939208175,0.8910739582845363,0.5022740713947871,1.9261903965706006,1.588473853282556,1.1045907719552415,1.2084544960324837,1.5885182413972372,1.6284514173891784,1.9498521108844191,1.5883368769361368,1.9259516822053553,2.0084378400826446,1.2091216324660305,1.8747937123142933,1.2091298572593052,1.5884775358344578,1.1045650342734987,1.1045579809490975,1.5884821542482683,1.2091017847713135,0.8418518736590163,1.1045690193711648,0.4818280088392518,1.1045682892466515,1.1042480548202205,1.2091281729364518,1.1045076677982881,0.8864749769588549,1.1045732615702564,1.1045781846052307,1.547800058724726,0.5939296663589161,1.1043302264935435,0.8418477963373323,1.209127679330248,1.1045726698357534,1.1045675278657485,0.8909856307691679,0.4951552044926894,1.62844956621693,1.1044247479343927,0.8910081443138409,1.2090837719916814,1.9557069476929387,1.2091137433858334,1.5884685590657581,1.2090867832295518,1.5884241664102472,1.2089171790781008,1.1045697218907466,1.1045644025037655,1.1040646706484576,0.5897627303831965,1.2091160684039106,0.8900907747823611,1.588473910467919,1.1045323982376443,1.8916768145214908,0.6281926906371861,1.587305431367851,1.8557330512349777,1.526665871703255,1.526630481781588,1.9917645704170375,1.8420098740634858,1.0821269714150064,1.8420158164462523,1.5565493362733558,1.991779170727967,1.2091300899559914,0.8910106325285542,2.1323911079330853,1.588454999238698,1.1045609229453326,1.1045780484834877,1.3711144513858073,1.5494791154828982,1.209119183279451,0.5041035223429118,1.1045710158683493,0.6953357210764819,1.109181465780875,0.8418394261232638,1.5262544125837527,1.850643633622469,1.104568671207087,1.7612780417785072,1.5841633256408663,1.1045769855908987,0.626906324511536,1.2090701663409071,2.008309819539509,1.5214743791592276,1.841975774751456,1.1045106923865973,1.3130941956806836,1.547799807036429,1.0806378723667855,1.104504597532284,1.2091210145863918,1.5477521130543723,1.1043288313011062,1.1045775405029885,0.9955554039819158,1.5873153367402277,-0.09812773571852043,0.43567024949125743,1.1045440047163093,1.6281234055380638,1.3032271270358977,0.9092461709540749,1.2091183763301363,1.1962647255315164,0.8909583095492645,1.6112854810474944,1.5266487679271563,1.1045774570950888,1.1045765499182765,0.8908520528245774,1.4770915281236372,1.5884478643937616,1.104566828449411,2.009662525898103,1.7613173199404724,1.5884480867698805,0.6848062005554755,1.1024508226430274,0.44577333211275355,0.8910134342226348,1.103008434365732,0.8909929828898548,1.9293819982296379,1.1045432832021882,1.7097063056065185,0.43436209498292677,1.5474707282897397,0.6282611202189836,1.7757367481509632,0.8983644452039278,1.5477957358761807,1.761369302495534,0.8823334618549098,0.9088830591793751,1.547776358632251,1.1040664372796662,0.99554327526612,1.2091158257670993,0.8909179886772159,1.588380610405373,0.9223600602970439,0.9955148169075125,1.0957048696278398,1.1457285096914456,1.9982383748060022,0.9827063258070985,0.2571629082572223,1.00176461716053,1.761354773054538,1.1045732204877836,1.7613666103316385,1.5477978047631373,1.077221385933542,0.9955547425242293,1.104542903919054,1.1961099934276915,1.9271733424302842,1.2089200398142186,1.2091235897976373,2.0083091879202852,1.0921002787579341,1.2092178395878905,1.1044771284376012,1.1045582091668391,0.6282826327066193,1.1045821647726306,1.209030547825689,1.0995328635392267,0.848222904695405,1.2087942997907652,1.1045925974381745,1.1045186712529145,1.209096038915215,1.1045337528839745,1.5884819819820453,0.579185276296305,0.841830595723426,2.0084241395430205,0.8894689326787434,1.104515220571954,0.5042128722153645,1.8420176272235815,2.008830793778697,2.0088674815868273,0.6281379015313657,1.5884841377959433,1.6778643271921427,0.8607075984127225,1.104455522946088,0.8910123911518194],\"z\":[-0.4051399966131229,-0.4055287747143073,-0.6058022409602507,-0.4532210544763243,-0.20611799182678028,-0.22460030148810609,-0.016823056745052335,-0.5493538222496345,-0.4051479187760398,-0.40532200249677786,-0.40517524575026626,-0.40514009012416174,-0.40514045689832,-0.5645889368221904,-0.39697409257369637,-0.013304822946999889,-0.11271172325867707,-0.4051850856272277,-0.24591690515580739,-0.4532235234134324,-0.45202439955465823,-0.20346049766217877,-0.22545213363727973,-0.19736849694810593,-0.5463311302197162,-0.5463165420151785,-0.22945405669416621,-0.4052720988974598,-0.4051771223342238,-0.4135369206954333,-0.24545064716596313,-0.45321488943642824,0.023752955610236073,-0.3170831695717062,-0.45321692574024386,-0.40571504011474124,-0.4051706523322073,-0.0007539368573079206,-0.4532177745502908,0.023763568323272796,-0.5463216798540161,-0.4053450533021443,-0.12256723735101806,-0.22461862073797798,-0.39698767000715746,-0.1973690170285045,-0.5463147320530617,-0.1974925885592262,-0.40514041703127335,-0.5463158601810053,-0.24544014665542804,-0.40514657391158476,-0.45321532251028485,-0.2862051218552143,-0.63227603777739,-0.3775521264619245,-0.19740614049232927,-0.5463269342651068,-0.22477135487489266,-0.5492977258265722,-0.42603346429283084,-0.22460098343457488,-0.4606834120775344,-0.22459953075492156,-0.4210351582123752,-0.40514940616086087,-0.1974087825296897,-0.45328033424587466,-0.2240550705926015,-0.2246041140693595,-0.547589380529157,-0.013312178092030098,-0.4532656298770123,-0.22463292619330513,-0.22468652685312065,-0.41818948615355184,-0.45324448515427546,-0.1856609513301272,-0.4056982275285131,-0.405148504673234,-0.4051849065730534,-0.3385674003300533,-0.24573118141657005,-0.4532274803084102,-0.405167000663583,-0.2245999401989962,-0.4532155653074832,-0.4051441521718854,-0.4051405522410479,-0.19740980902808575,-0.24599916408687736,-0.45427804002891115,-0.013336439163932906,-0.4051495986505323,-0.4535347026798649,-0.013352300074295087,-0.3385345574679531,-0.5577510396772856,-0.013357262868123363,-0.44694792838570196,0.41327809997694537,-0.45322502293587236,-0.572857466535387,-0.4532166194648683,-0.013325651085667672,-0.40515116081357927,-0.4051475302685046,-0.013312178092030098,-0.4532263874838772,-0.22460316348299306,-0.4051511631641498,-0.3539902346391177,-0.405147725161429,-0.40524896406345384,-0.4532159356223335,-0.40516582041163923,-0.21233552686603577,-0.4051431060465119,-0.4051414857143979,-0.24506924999279772,-0.1500606557431351,-0.40522819481479844,-0.22460049319928482,-0.4532180314766243,-0.4051466360691036,-0.40514365270776787,-0.19737101435859558,-0.2278964106942684,-0.3385399577705142,-0.40558909638218194,-0.19737715656217952,-0.4532349259255581,-0.66118147288843,-0.45326447047673124,-0.013352969591734595,-0.45323732009047457,-0.013483243146538277,-0.4533310716115819,-0.4051449849534757,-0.405144977802651,-0.4053028073402289,-0.029046451832761985,-0.4532263140755443,-0.19777110189129582,-0.013311338650311503,-0.4051631945238966,-0.5755757050035364,-0.016853097353858953,-0.18568935858063354,-0.39436100886767395,-0.4181537646821611,-0.41818849193274893,-0.54623238432507,-0.5463231726370306,-0.4158641330803993,-0.5463215526059882,-0.19104620400264083,-0.5462439926913607,-0.4532200357031704,-0.19736940765726668,0.8279163603135274,-0.013314362139448688,-0.40515344239622375,-0.40514188281337027,-0.20476904865197226,-0.40980689111750396,-0.4532213611461523,-0.22956990149044554,-0.40514288263995474,-0.1555074022242069,-0.42308704096069344,-0.22463898670228283,-0.41850670761320596,-0.5240352527876933,-0.405144028352376,-0.4528838937159132,-0.19102918003241268,-0.40514708892729656,-0.020859485638495805,-0.4532492543706995,0.4131655737887225,-0.43116540180534874,-0.5463989309899722,-0.4052059441617306,-0.21038048004007273,-0.24507190737907883,-0.4146801851988201,-0.40516680831215546,-0.4532359616652766,-0.24509113696302207,-0.4054556853514037,-0.4051413646300261,-0.24544080125317513,-0.18565437164437415,0.08448982625130226,-0.15999765908553545,-0.4052450030073991,-0.33872953372778797,-0.5753894297393042,-0.2539414997534693,-0.4532195765604876,-0.4427839093790587,-0.19738872536383728,-0.23508508900855252,-0.4181630258513248,-0.4051407268147993,-0.40514114853880673,-0.19751912695545942,-0.1642102007711314,-0.013323776999067808,-0.40514770671476147,0.46455312477916155,-0.4529151228653146,-0.013319381808696502,-0.15664338700957003,-0.40637536775890776,-0.3671177120163948,-0.19737654674815275,-0.4097208144310533,-0.19737057336298355,-0.44544276686029227,-0.4051598474144021,-0.34153412077575623,-0.2910015171133846,-0.2451703092707537,-0.016850455890855147,0.14298067004366297,-0.3644375752795499,-0.24506924199418487,-0.45284509686444496,-0.20010735688319525,-0.3632877488471998,-0.2450989840647627,-0.40530421194745125,-0.24545058897929162,-0.4532318361562205,-0.19743439111931765,-0.013340027868902952,-0.32860019279146063,-0.24545367988281075,-0.4083716171719566,-0.28090522096951104,6.07777040434173,-0.23500534066083537,-0.32844748766596865,-0.2503656001707366,-0.4528614620268885,-0.40514764537922887,-0.4528508916585295,-0.24506652637629778,-0.4261370055484834,-0.24543953239419425,-0.40515954585523817,-0.4429123453001132,-0.4464870640218923,-0.4532876261517619,-0.45322657916452774,0.41288032619750137,-0.4152211835565327,-0.4532843699853348,-0.4051735432540908,-0.40515471608564185,-0.016822261652647285,-0.40514275528062343,-0.4534212084555377,-0.40712891909042426,-0.22976577641547596,-0.45351912293646746,-0.4051596225426939,-0.4053208728872539,-0.4533064010218305,-0.40519570404702243,-0.013305754632086896,-0.6501876745959676,-0.22463482335533794,0.41326903710606305,-0.20185373574733737,-0.40526097937601585,-0.2294626292671145,-0.5463122605869127,0.4130371091132286,0.41300793949367104,-0.01726668733799374,-0.013307259580550112,0.5825949509420694,0.2526248158779561,-0.4051849402099852,-0.19736142993805847],\"type\":\"scatter3d\"},{\"customdata\":[[\"SHA-256\"],[\"Ethash\"],[\"Scrypt\"],[\"CryptoNight-V7\"],[\"Ethash\"],[\"Equihash\"],[\"Multiple\"],[\"Scrypt\"],[\"X11\"],[\"Scrypt\"],[\"Multiple\"],[\"Scrypt\"],[\"SHA-256\"],[\"Scrypt\"],[\"Scrypt\"],[\"Quark\"],[\"Groestl\"],[\"Scrypt\"],[\"Scrypt\"],[\"Scrypt\"],[\"X11\"],[\"Multiple\"],[\"SHA-256\"],[\"Scrypt\"],[\"Scrypt\"],[\"Scrypt\"],[\"Scrypt\"],[\"Scrypt\"],[\"NeoScrypt\"],[\"Scrypt\"],[\"Scrypt\"],[\"Scrypt\"],[\"Scrypt\"],[\"SHA-256\"],[\"Scrypt\"],[\"Scrypt\"],[\"Scrypt\"],[\"Scrypt\"],[\"HybridScryptHash256\"],[\"Scrypt\"],[\"Scrypt\"],[\"SHA-256\"],[\"Scrypt\"],[\"Scrypt\"],[\"Scrypt\"],[\"Scrypt\"],[\"SHA-256\"],[\"SHA-256\"],[\"SHA-256\"],[\"SHA-256\"],[\"SHA-256\"],[\"X11\"],[\"Scrypt\"],[\"Lyra2REv2\"],[\"Scrypt\"],[\"SHA-256\"],[\"CryptoNight\"],[\"CryptoNight\"],[\"Shabal256\"],[\"Scrypt\"],[\"Scrypt\"],[\"Scrypt\"],[\"Scrypt\"],[\"Scrypt\"],[\"Scrypt\"],[\"Stanford Folding\"],[\"Multiple\"],[\"QuBit\"],[\"Scrypt\"],[\"Scrypt\"],[\"M7 POW\"],[\"Scrypt\"],[\"SHA-256\"],[\"Scrypt\"],[\"X11\"],[\"Lyra2RE\"],[\"SHA-256\"],[\"X11\"],[\"Scrypt\"],[\"Scrypt\"],[\"Ethash\"],[\"Blake2b\"],[\"X11\"],[\"SHA-256\"],[\"Scrypt\"],[\"1GB AES Pattern Search\"],[\"Scrypt\"],[\"SHA-256\"],[\"X11\"],[\"Dagger\"],[\"Scrypt\"],[\"X11GOST\"],[\"Scrypt\"],[\"X11\"],[\"Scrypt\"],[\"X11\"],[\"Equihash\"],[\"CryptoNight\"],[\"SHA-256\"],[\"Multiple\"],[\"Scrypt\"],[\"SHA-256\"],[\"Scrypt\"],[\"Lyra2Z\"],[\"Ethash\"],[\"Equihash\"],[\"Scrypt\"],[\"X11\"],[\"X11\"],[\"CryptoNight\"],[\"Scrypt\"],[\"CryptoNight\"],[\"Lyra2RE\"],[\"X11\"],[\"CryptoNight-V7\"],[\"Scrypt\"],[\"X11\"],[\"Equihash\"],[\"Scrypt\"],[\"Lyra2RE\"],[\"Dagger-Hashimoto\"],[\"Scrypt\"],[\"NIST5\"],[\"Scrypt\"],[\"SHA-256\"],[\"Scrypt\"],[\"CryptoNight-V7\"],[\"Argon2d\"],[\"Blake2b\"],[\"Cloverhash\"],[\"CryptoNight\"],[\"X11\"],[\"Scrypt\"],[\"Scrypt\"],[\"X11\"],[\"X11\"],[\"CryptoNight\"],[\"Time Travel\"],[\"Scrypt\"],[\"Keccak\"],[\"X11\"],[\"SHA-256\"],[\"Scrypt\"],[\"Scrypt\"],[\"Scrypt\"],[\"Scrypt\"],[\"Scrypt\"],[\"Scrypt\"],[\"CryptoNight\"],[\"Equihash\"],[\"X11\"],[\"NeoScrypt\"],[\"Equihash\"],[\"Dagger\"],[\"Scrypt\"],[\"X11\"],[\"NeoScrypt\"],[\"Ethash\"],[\"NeoScrypt\"],[\"Multiple\"],[\"CryptoNight\"],[\"CryptoNight\"],[\"Ethash\"],[\"X11\"],[\"CryptoNight-V7\"],[\"Scrypt\"],[\"BLAKE256\"],[\"X11\"],[\"NeoScrypt\"],[\"NeoScrypt\"],[\"Scrypt\"],[\"X11\"],[\"SHA-256\"],[\"C11\"],[\"CryptoNight\"],[\"SkunkHash\"],[\"CryptoNight\"],[\"Scrypt\"],[\"Dagger\"],[\"Lyra2REv2\"],[\"Scrypt\"],[\"Scrypt\"],[\"X11\"],[\"Ethash\"],[\"CryptoNight\"],[\"Scrypt\"],[\"IMesh\"],[\"Equihash\"],[\"Lyra2Z\"],[\"X11\"],[\"CryptoNight\"],[\"NIST5\"],[\"Lyra2RE\"],[\"Tribus\"],[\"Lyra2Z\"],[\"CryptoNight\"],[\"CryptoNight Heavy\"],[\"CryptoNight\"],[\"Jump Consistent Hash\"],[\"CryptoNight\"],[\"X16R\"],[\"HMQ1725\"],[\"X11\"],[\"Scrypt\"],[\"CryptoNight-V7\"],[\"Cryptonight-GPU\"],[\"XEVAN\"],[\"CryptoNight Heavy\"],[\"SHA-256\"],[\"X11\"],[\"X16R\"],[\"Equihash\"],[\"Lyra2Z\"],[\"SHA-256\"],[\"CryptoNight\"],[\"Blake\"],[\"Blake\"],[\"Equihash\"],[\"Exosis\"],[\"Scrypt\"],[\"Equihash\"],[\"Equihash\"],[\"QuBit\"],[\"SHA-256\"],[\"X13\"],[\"SHA-256\"],[\"Scrypt\"],[\"NeoScrypt\"],[\"Blake\"],[\"Scrypt\"],[\"SHA-256\"],[\"Scrypt\"],[\"Groestl\"],[\"Scrypt\"],[\"Scrypt\"],[\"Multiple\"],[\"Equihash+Scrypt\"],[\"Ethash\"],[\"CryptoNight\"],[\"Equihash\"]],\"hovertemplate\":\"<b>%{hovertext}</b><br><br>Class=%{marker.color}<br>PC 1=%{x}<br>PC 2=%{y}<br>PC 3=%{z}<br>Algorithm=%{customdata[0]}<extra></extra>\",\"hovertext\":[\"Bitcoin\",\"Ethereum\",\"Litecoin\",\"Monero\",\"Ethereum Classic\",\"ZCash\",\"DigiByte\",\"ProsperCoin\",\"Spreadcoin\",\"Argentum\",\"MyriadCoin\",\"MoonCoin\",\"ZetaCoin\",\"SexCoin\",\"Quatloo\",\"QuarkCoin\",\"Riecoin\",\"Digitalcoin \",\"Catcoin\",\"CannaCoin\",\"CryptCoin\",\"Verge\",\"DevCoin\",\"EarthCoin\",\"E-Gulden\",\"Einsteinium\",\"Emerald\",\"Franko\",\"FeatherCoin\",\"GrandCoin\",\"GlobalCoin\",\"GoldCoin\",\"Infinite Coin\",\"IXcoin\",\"KrugerCoin\",\"LuckyCoin\",\"Litebar \",\"MegaCoin\",\"MediterraneanCoin\",\"MinCoin\",\"NobleCoin\",\"Namecoin\",\"NyanCoin\",\"RonPaulCoin\",\"StableCoin\",\"SmartCoin\",\"SysCoin\",\"TigerCoin\",\"TerraCoin\",\"UnbreakableCoin\",\"Unobtanium\",\"UroCoin\",\"ViaCoin\",\"Vertcoin\",\"WorldCoin\",\"JouleCoin\",\"ByteCoin\",\"DigitalNote \",\"BurstCoin\",\"MonaCoin\",\"Gulden\",\"PesetaCoin\",\"Wild Beast Coin\",\"Flo\",\"ArtByte\",\"Folding Coin\",\"Unitus\",\"CypherPunkCoin\",\"OmniCron\",\"GreenCoin\",\"Cryptonite\",\"MasterCoin\",\"SoonCoin\",\"1Credit\",\"MarsCoin \",\"Crypto\",\"Anarchists Prime\",\"BowsCoin\",\"Song Coin\",\"BitZeny\",\"Expanse\",\"Siacoin\",\"MindCoin\",\"I0coin\",\"Revolution VR\",\"HOdlcoin\",\"Gamecredits\",\"CarpeDiemCoin\",\"Adzcoin\",\"SoilCoin\",\"YoCoin\",\"SibCoin\",\"Francs\",\"BolivarCoin\",\"Omni\",\"PizzaCoin\",\"Komodo\",\"Karbo\",\"ZayedCoin\",\"Circuits of Value\",\"DopeCoin\",\"DollarCoin\",\"Shilling\",\"ZCoin\",\"Elementrem\",\"ZClassic\",\"KiloCoin\",\"ArtexCoin\",\"Kurrent\",\"Cannabis Industry Coin\",\"OsmiumCoin\",\"Bikercoins\",\"HexxCoin\",\"PacCoin\",\"Citadel\",\"BeaverCoin\",\"VaultCoin\",\"Zero\",\"Canada eCoin\",\"Zoin\",\"DubaiCoin\",\"EB3coin\",\"Coinonat\",\"BenjiRolls\",\"ILCoin\",\"EquiTrader\",\"Quantum Resistant Ledger\",\"Dynamic\",\"Nano\",\"ChanCoin\",\"Dinastycoin\",\"DigitalPrice\",\"Unify\",\"SocialCoin\",\"ArcticCoin\",\"DAS\",\"LeviarCoin\",\"Bitcore\",\"gCn Coin\",\"SmartCash\",\"Onix\",\"Bitcoin Cash\",\"Sojourn Coin\",\"NewYorkCoin\",\"FrazCoin\",\"Kronecoin\",\"AdCoin\",\"Linx\",\"Sumokoin\",\"BitcoinZ\",\"Elements\",\"VIVO Coin\",\"Bitcoin Gold\",\"Pirl\",\"eBoost\",\"Pura\",\"Innova\",\"Ellaism\",\"GoByte\",\"SHIELD\",\"UltraNote\",\"BitCoal\",\"DaxxCoin\",\"AC3\",\"Lethean\",\"PopularCoin\",\"Photon\",\"Sucre\",\"SparksPay\",\"GunCoin\",\"IrishCoin\",\"Pioneer Coin\",\"UnitedBitcoin\",\"Interzone\",\"TurtleCoin\",\"MUNcoin\",\"Niobio Cash\",\"ShareChain\",\"Travelflex\",\"KREDS\",\"BitFlip\",\"LottoCoin\",\"Crypto Improvement Fund\",\"Callisto Network\",\"BitTube\",\"Poseidon\",\"Aidos Kuneen\",\"Bitrolium\",\"Alpenschillling\",\"FuturoCoin\",\"Monero Classic\",\"Jumpcoin\",\"Infinex\",\"KEYCO\",\"GINcoin\",\"PlatinCoin\",\"Loki\",\"Newton Coin\",\"MassGrid\",\"PluraCoin\",\"Motion\",\"PlusOneCoin\",\"Axe\",\"HexCoin\",\"Webchain\",\"Ryo\",\"Urals Coin\",\"Qwertycoin\",\"Project Pai\",\"Azart\",\"Xchange\",\"CrypticCoin\",\"Actinium\",\"Bitcoin SV\",\"FREDEnergy\",\"Universal Molecule\",\"Lithium\",\"PirateCash\",\"Exosis\",\"Block-Logic\",\"Beam\",\"Bithereum\",\"SLICE\",\"BLAST\",\"Bitcoin Rhodium\",\"GlobalToken\",\"SolarCoin\",\"UFO Coin\",\"BlakeCoin\",\"Crypto Escudo\",\"Crown Coin\",\"SmileyCoin\",\"Groestlcoin\",\"Bata\",\"Pakcoin\",\"JoinCoin\",\"Vollar\",\"Reality Clash\",\"Beldex\",\"Horizen\"],\"legendgroup\":\"0\",\"marker\":{\"color\":[0,0,0,0,0,0,0,0,0,0,0,0,0,0,0,0,0,0,0,0,0,0,0,0,0,0,0,0,0,0,0,0,0,0,0,0,0,0,0,0,0,0,0,0,0,0,0,0,0,0,0,0,0,0,0,0,0,0,0,0,0,0,0,0,0,0,0,0,0,0,0,0,0,0,0,0,0,0,0,0,0,0,0,0,0,0,0,0,0,0,0,0,0,0,0,0,0,0,0,0,0,0,0,0,0,0,0,0,0,0,0,0,0,0,0,0,0,0,0,0,0,0,0,0,0,0,0,0,0,0,0,0,0,0,0,0,0,0,0,0,0,0,0,0,0,0,0,0,0,0,0,0,0,0,0,0,0,0,0,0,0,0,0,0,0,0,0,0,0,0,0,0,0,0,0,0,0,0,0,0,0,0,0,0,0,0,0,0,0,0,0,0,0,0,0,0,0,0,0,0,0,0,0,0,0,0,0,0,0,0,0,0,0,0,0,0,0,0,0,0,0,0,0,0,0,0,0,0,0,0,0,0,0,0,0,0,0,0,0,0],\"coloraxis\":\"coloraxis\",\"symbol\":\"diamond\"},\"mode\":\"markers\",\"name\":\"0\",\"scene\":\"scene\",\"showlegend\":true,\"x\":[-0.1447962775911434,-0.13793640035844565,-0.16425762008426478,-0.13979382737099108,-0.13638110151188604,-0.15830842335885986,0.17692039019435638,-0.16540185405980987,-0.23034585848721603,-0.16501905609126538,-0.07604380828623744,2.55179630892569,-0.14188631909594532,-0.16227924498760077,-0.16482341864805183,-0.22145922226445167,-0.18979273820780557,-0.1648721237109168,-0.1653841515154166,-0.1654704567110464,-0.23043504324657235,0.20062576327250478,0.2323887312745794,0.0828242050762124,-0.1652171982991897,-0.16083019319561193,-0.16515659532251528,-0.16552735938366958,-0.17329788394377513,-0.14478597048524694,-0.16432457784879356,-0.16460153278735437,1.5803171248643455,-0.14475771550320568,-0.16189565329716865,-0.1652435934208295,-0.1655977855309264,-0.16485833260225902,-0.13162134095801933,-0.16547925900648056,-0.030617988488650483,-0.1448351884626276,-0.1591542766964351,-0.1654587324801171,-0.1635563550806574,-0.16494637335455714,-0.13200969966738668,-0.14429989679123822,-0.14458659457589743,-0.14456959454597554,-0.1451592854696877,-0.23060863652730595,-0.16517572368623143,-0.19803292000422748,-0.16228394445782895,-0.14436707307608657,3.8489305356245422,0.45385986044103177,-0.06396548464379856,-0.16404529267232135,-0.14867086787321354,-0.16276635720789853,-0.16559999041776768,-0.16263163836881106,-0.14887936377088323,-0.15634821858654624,-0.1099909059869835,-0.19677150443182057,-0.1654732927421754,-0.03863254117735373,-0.11972595316698957,-0.16560886799605828,-0.14486291676104046,0.48542811977396094,-0.22999689565465894,-0.15609523395643377,-0.1446032271112153,-0.23028129431820382,-0.16373589293310978,-0.16292955053702837,-0.13900196043218246,0.3562819255381861,-0.23031663031209193,-0.1447588358657019,-0.16157381016565447,-0.1354761981706694,-0.16417473375803832,0.2729918489046821,-0.22947881294129577,-0.15994222010344336,-0.16442168867563098,-0.16268166764588796,-0.1653991443663082,-0.23027993541610442,-0.16560892638842983,-0.2304296408319102,-0.29378799420222385,0.29903547583562473,-0.14501846445799563,-0.09009821870545694,-0.16278058029855855,-0.14497716706609504,-0.16527291154854493,-0.16222323067248298,-0.1387445705254053,-0.15833000213840012,-0.09246092051100598,-0.21703653850123897,-0.22826156123768013,0.29902985377516667,-0.16559069580427657,0.2991603397598989,-0.15663474224526105,0.4835857377819907,-0.1385606509349442,-0.16555903885409803,-0.22317620670234994,-0.15834235649774028,-0.16369557484135916,-0.15635361694303918,-0.17769769326121457,-0.13653273923292158,-0.19944776052717791,-0.16512217926869235,-0.11140231630122081,-0.16494454600830433,-0.13841866757283727,-0.17419633617810318,-0.043312288037340586,-0.18218268573284072,0.3350886256223405,-0.22948718586160963,-0.16526326113650805,-0.1650270406839656,-0.229881181515915,-0.23045762598374006,0.2994241539161733,-0.13976367325010985,3.2381241565746994,-0.1051562080173418,-0.22134552541779645,-0.14479544328798463,-0.09131051490877796,1.578321339090051,-0.16536093519177936,-0.1648135261869491,-0.1645150250605643,-0.1645019791223745,0.2996074511424446,0.053615544984803094,-0.1849246751858238,-0.17797843078752026,-0.15818867887398816,-0.15870346782184946,-0.1636937871665782,-0.22600982413575868,-0.17782410998684442,-0.1371125768475086,-0.1779241423946513,-0.10023977999184894,1.1355189247430582,0.299012650941844,-0.06213134505707126,-0.22575178525169085,-0.1275496944329244,-0.08189511890596637,1.0835449628941194,-0.23043167030014672,-0.1779759958765805,-0.17102602191948355,-0.16461324654658518,-0.23035720866252093,-0.1447748774523501,-0.2009319655906202,8.023506188917196,-0.16200840732237484,0.3028803367320966,0.027093291159337632,-0.15820758251858288,-0.18361617658717896,-0.16518596419420456,0.1413532187627344,-0.22450832289462527,-0.09023205726093465,0.30692210657928715,-0.1654225620280156,-0.1397782885616921,-0.1571815385652228,-0.1600105696172656,-0.22952788618392803,0.2991948488073915,-0.1995071261294856,-0.1564802489906884,-0.17398818976089478,-0.16230746162015317,0.3031163126697555,0.5837212985337679,2.1045435401526444,-0.12007580187217809,0.3127760614766116,-0.1971102988123468,-0.13490301735844767,-0.23041386166202046,-0.165447100023498,-0.12742953209235922,-0.17031484547822087,-0.0771395575870482,3.101878476517951,-0.10469354425345706,-0.23038527657426422,-0.1965390073800365,-0.053118504232589174,-0.16170625446124956,-0.14479548078700283,0.3788166675985156,-0.1593572723166001,-0.1597486301476605,-0.2851275003108583,-0.12462308385945949,-0.16434132319915137,-0.156252132419762,-0.1580217900449153,-0.195983839656027,-0.14407288883024885,-0.11875296836186332,-0.14294279465598225,0.5292719522897237,-0.1032725950665494,-0.11029933116868121,-0.149029683615724,-0.14458596614003402,0.5489804591420433,-0.18935450754525765,-0.1655238082526611,-0.1634830755408719,-0.11072449102401839,-0.11419898109072674,-0.13877767100119281,0.32073176307782664,-0.15830947843794319],\"y\":[-1.3378881295285208,-2.0642643308765574,-1.0751832619903274,-2.223059133897691,-2.064370269196466,-2.097385214614564,-1.8524499796179505,-1.075171499382569,-0.9706172910736592,-1.0751912910259993,-1.8461810622334187,-1.272617323133704,-1.3379097818999313,-1.0752448783653379,-1.0752115489176788,-0.4184051567306284,-1.1502465093495802,-1.075175498255078,-1.0751709764161013,-1.0751678412038452,-0.9706184792375891,-1.84853478391352,-1.3419186636401295,-1.077587267282767,-1.0751660443039814,-1.0752380835835327,-1.0751722098471448,-1.0751681449919859,-1.6755956650413233,-1.0755747502034547,-1.0751751143970691,-1.0751849203938717,-1.0891119188788094,-1.3378869903318842,-1.075244699605685,-1.0751661008047069,-1.075163075491576,-1.0751706312135119,-2.1581560311330588,-1.0751658302012113,-1.0820234543584375,-1.3378892790288663,-1.0752154846146695,-1.0751731796781179,-1.0752826066002943,-1.0751798861026018,-1.3381374570979179,-1.337892278943305,-1.3378971235751396,-1.3379241052737612,-1.337883845802029,-0.9706105888147911,-1.0751662655875396,-1.2708609799497794,-1.0752561704571175,-1.337892808279504,-2.348996287946597,-2.323107916319524,-0.40762736386933085,-1.075192264707801,-1.0758771242870269,-1.0751987938458698,-1.0751640649554204,-1.0751901952542458,-1.0753914662846193,-2.223051696583152,-1.8457374017116037,-1.5857798670782115,-1.0751608596942441,-1.0786439151804044,-2.232665794585378,-1.0751628745304995,-1.33789009817497,-1.1224695652180103,-0.9706163844458052,-2.3108110213667983,-1.3379061204788716,-0.9706161069874615,-1.0752591536356972,-1.0752640896147794,-2.0643080372606417,-2.2503801190360453,-0.9706135345750602,-1.3378870234294997,-1.075195108060317,-2.227145703120517,-1.0751808133723069,-1.3411721349447607,-0.9706379656099728,-2.3022494484933174,-1.0752491168763414,-2.0670663013772725,-1.0751706960722958,-0.9706189598862516,-1.07516287406404,-0.970623382465896,-1.62875616393028,-2.3204563442552213,-1.337886546536618,-1.8460176472968033,-1.0752235257122231,-1.3378859791307616,-1.0751741995256465,-2.2119937123878914,-2.064307159183681,-2.097385852092312,-1.0802341067808219,-0.9705712739183404,-0.9707061552637901,-2.3204644662105802,-1.0751638527823346,-2.320463504452404,-2.310786609385284,-1.0218380261506081,-2.223156506798926,-1.0751633845961084,-0.9711142816827589,-2.0973833240200155,-1.0751782302896582,-2.3107862602847735,-2.223181470557843,-1.0771965062523439,-0.6530931276873705,-1.0751737392995846,-1.3386945726775321,-1.075194875944592,-2.223094451476982,-2.1361840790007616,-2.2624309968246044,-2.1715620893849734,-2.3208305554277184,-0.970649785135051,-1.0751661587638002,-1.0751994827750055,-0.9706324940748118,-0.9706197973088787,-2.3204766854499086,-2.1618365657142933,-1.119261914753301,-1.258958580919671,-0.9711325259961623,-1.3378881048816291,-1.0805617520492483,-1.0236434470678086,-1.0751695673013923,-1.075199684502507,-1.0752024383908803,-1.075202052989321,-2.3204965042710284,-2.1062978707920426,-0.970562868136712,-1.675510449605199,-2.0973816771371903,-2.3023042061324386,-1.0751781774783813,-0.9707278725343877,-1.675518909373317,-2.0644425066121115,-1.6755123174759106,-1.8459266872504656,-2.3572149872093986,-2.3204588266975996,-2.0692575152069805,-0.9708649017460023,-2.2234203050035966,-1.0763056689783947,-1.2604113237381682,-0.9706196814638975,-1.6755060381083764,-1.6756471647386544,-1.0751793026485432,-0.9706197961616781,-1.33788689412862,-1.2704969452944053,-2.8155145423217136,-2.06802128033423,-2.3205785428606096,-1.0767022504339254,-2.302248832293449,-1.2711699152269234,-1.0751788635454997,-1.0794072364049592,-0.9707920044870404,-2.067556250214951,-2.320939386565212,-1.0751721111349106,-2.2434568202761858,-2.097387364098199,-2.212129846684196,-0.9706509874991477,-2.320457711468745,-0.6530751711548524,-2.3107938200508884,-2.2853466748406865,-2.211988317185529,-2.320762512920855,-2.1934286202976523,-2.4001909989464623,-2.1505609610641656,-2.3207664497236755,-1.2813563090530795,-2.339881435418976,-0.9706200232762157,-1.075173635426897,-2.2239595758026485,-2.2140869119341975,-0.9835487180108698,-2.2523489554376095,-1.338207078597616,-0.9706220718622565,-1.2813957916231091,-2.0997593003154926,-2.212023716065827,-1.3378881059894208,-2.323936172634355,-2.2169051644867617,-2.2168589437568804,-0.13125057450747182,-2.218780080023276,-1.0752117721276577,-2.097499352379807,-2.09738389708374,-1.5858289240616577,-1.3378978594791375,-0.33772449423615186,-1.3379396934972068,-1.125586226970828,-1.67617701393572,-2.2204426972270315,-1.0753959070156536,-1.3378971050099622,-1.0902151547388783,-1.1502487516687059,-1.0751635299656166,-1.0752312600484677,-1.8457610983241146,-2.239718811549992,-2.064306894764829,-2.3208208886667583,-2.097385245783586],\"z\":[0.19645861509379736,0.29774446225773044,0.0158918025243669,0.3612541692166588,0.2977086764358228,0.32368915634950657,0.2303938379009489,0.015918454821494548,-0.03215781626677262,0.015909616214220358,0.2362680595955765,-0.046540808413615804,0.19639079377656068,0.01584592333940861,0.015905148806918828,-0.03189356819195102,0.024063229700279472,0.01590610887477019,0.01591803902306781,0.01592003827550548,-0.03215572858626891,0.22982127273610872,0.18767370950989473,0.010135932982718915,0.015914117615889865,0.01581206459952724,0.015912733200196774,0.015921368052383544,0.19149657286522934,0.015439193863009636,0.01589332555697221,0.015899838659504006,-0.024763701243587,0.19645770934516196,0.015836968231462512,0.015914734037851205,0.015922987148703174,0.01590576306991902,0.20476274191185215,0.01592023388286884,0.012805792407298617,0.19645952903468947,0.01577283259343594,0.015919790785249344,0.015875920178037174,0.015907863620230174,0.19616135950906255,0.19644704836850313,0.19645376455962463,0.19645350009510837,0.1964670678186435,-0.03215171508521871,0.015913150554172455,0.05775980787614558,0.015846088437582916,0.19644861907016922,0.19337876925966063,0.2725033421516525,-1.1135313240530882,0.0158868903042309,0.01553136294631254,0.015857067977783985,0.015923043471871536,0.015853881034518444,0.015533847305709277,0.22495070717555532,0.23705831458217486,0.2710225228277872,0.015920070226791545,0.012976297490962855,0.2374021559883001,0.01592324486224127,0.19646018031862936,0.0009580850574635382,-0.032165966599608506,0.22959856023574565,0.19645419695294367,-0.0321593292056127,0.015879996095792284,0.01586119775524114,0.2977695501847812,0.3520704285820347,-0.03215851697287602,0.19645773566030358,0.015829212114216402,0.3153067644610995,0.01588985568535467,0.186722243235679,-0.03217795439716179,0.2823637430935469,0.01589595547615527,0.2710501572914638,0.015918387627808298,-0.032159346930617706,0.015923246223013564,-0.03215583064081298,0.5154793185662214,0.2761044196624468,0.19646379386488322,0.23659533183840925,0.015857521321209753,0.196462827070832,0.01591545814622043,0.20359753356064805,0.2977635375907891,0.3236896631931776,0.014240621700201407,-0.03246872321826828,-0.03220603433144674,0.27610459074440613,0.01592282546559482,0.27610154007472304,0.2296110342856125,-0.04857193124457209,0.3612258607192333,0.01592208419639589,-0.0323227402013632,0.32368993918014327,0.015878657943796084,0.22960447022828542,0.22297183311103153,0.015254493773416282,0.002901827830758827,0.01591193732508809,0.19568305181654033,0.015907894502851842,0.3612222419461042,0.08986789566996572,0.36145732889310844,0.1352436347779225,0.27526466211544176,-0.03217770096162898,0.015915193428250433,0.01590984278747912,-0.03216858869771175,-0.0321551949681629,0.2760954464909907,0.23011483348487377,-0.06331419473964008,0.09106896658696834,-0.032365384529178844,0.19645859549763842,0.014215375025430861,-0.025038294861856693,0.01591749016842023,0.015904859680320665,0.01589790523979927,0.015897598816018897,0.27609126498895176,0.31878591201868883,-0.03321835587894042,0.19160541342394985,0.32368634378384853,0.28233509537239426,0.015878615954783477,-0.03225849038227796,0.19160185259606974,0.2977261057494367,0.19160415532647823,0.23683162138862598,0.2567586112512583,0.27610496464552947,0.29599943098564685,-0.03226384156663218,0.36097012468886797,0.013974710305405829,-0.028222289974026385,-0.03215580142340105,0.19160533494316132,0.19144379314518972,0.01590008453524303,-0.03215753902844585,0.196458109486821,0.1671212340960514,0.09821979410158689,0.15262824636048644,0.27601526806560545,0.011432525190471627,0.2823232481986532,0.05742479155442281,0.015913451403959004,0.008778611144808494,-0.03229322549733158,0.2966470433548022,0.27592269076539994,0.015918941211496354,0.4553520232900914,0.32366286187561455,0.20354655098509852,-0.03217674499001203,0.27610070610574206,0.002903125516894328,0.22960746330415135,0.29301584803031794,0.20359947330636843,0.27601066218640935,0.21301240471771826,0.23434937882959692,0.24471833878476779,0.2757851927209092,0.056644029493412816,0.45781184113109025,-0.032156215455873105,0.015919521483150068,0.36096996533003944,0.28909717518487643,-0.021748893524530775,0.15451978958798884,0.19552405647851048,-0.03215687267116315,0.05663088746021165,0.3212453413350124,0.20358561291229435,0.19645859637841775,0.2742591485504802,0.23897575850012534,0.2389846672630426,0.11038899350106156,0.39037274847454867,0.015893896284884253,0.32364171602932623,0.323682458966924,0.2710043769344219,0.1964417766695247,-0.12524935789091432,0.1964156019668348,-5.007723780488854e-05,0.1898648154309604,0.23784794733475467,0.015537378027260105,0.19645374979888525,-0.0006836622871204218,0.02405301102522566,0.015921262517029182,0.015873957703324122,0.23707555500669641,0.3190940917286901,0.2977643089623107,0.2755997488103119,0.32368918113126766],\"type\":\"scatter3d\"},{\"customdata\":[[\"SHA-256 + Hive\"],[\"Proof-of-Authority\"],[\"Leased POS\"]],\"hovertemplate\":\"<b>%{hovertext}</b><br><br>Class=%{marker.color}<br>PC 1=%{x}<br>PC 2=%{y}<br>PC 3=%{z}<br>Algorithm=%{customdata[0]}<extra></extra>\",\"hovertext\":[\"LitecoinCash\",\"Poa Network\",\"Waves\"],\"legendgroup\":\"3\",\"marker\":{\"color\":[3,3,3],\"coloraxis\":\"coloraxis\",\"symbol\":\"square\"},\"mode\":\"markers\",\"name\":\"3\",\"scene\":\"scene\",\"showlegend\":true,\"x\":[-0.38971405533597103,-0.38374117240957845,-0.41703642151537457],\"y\":[3.510471025592608,2.1174949147024424,2.8391321215404],\"z\":[24.35047484566473,12.330452186647205,15.348846167013317],\"type\":\"scatter3d\"},{\"customdata\":[[\"TRC10\"]],\"hovertemplate\":\"<b>%{hovertext}</b><br><br>Class=%{marker.color}<br>PC 1=%{x}<br>PC 2=%{y}<br>PC 3=%{z}<br>Algorithm=%{customdata[0]}<extra></extra>\",\"hovertext\":[\"BitTorrent\"],\"legendgroup\":\"2\",\"marker\":{\"color\":[2],\"coloraxis\":\"coloraxis\",\"symbol\":\"x\"},\"mode\":\"markers\",\"name\":\"2\",\"scene\":\"scene\",\"showlegend\":true,\"x\":[34.025060147157966],\"y\":[1.6551177206214696],\"z\":[-0.48413982532979893],\"type\":\"scatter3d\"}],                        {\"template\":{\"data\":{\"histogram2dcontour\":[{\"type\":\"histogram2dcontour\",\"colorbar\":{\"outlinewidth\":0,\"ticks\":\"\"},\"colorscale\":[[0.0,\"#0d0887\"],[0.1111111111111111,\"#46039f\"],[0.2222222222222222,\"#7201a8\"],[0.3333333333333333,\"#9c179e\"],[0.4444444444444444,\"#bd3786\"],[0.5555555555555556,\"#d8576b\"],[0.6666666666666666,\"#ed7953\"],[0.7777777777777778,\"#fb9f3a\"],[0.8888888888888888,\"#fdca26\"],[1.0,\"#f0f921\"]]}],\"choropleth\":[{\"type\":\"choropleth\",\"colorbar\":{\"outlinewidth\":0,\"ticks\":\"\"}}],\"histogram2d\":[{\"type\":\"histogram2d\",\"colorbar\":{\"outlinewidth\":0,\"ticks\":\"\"},\"colorscale\":[[0.0,\"#0d0887\"],[0.1111111111111111,\"#46039f\"],[0.2222222222222222,\"#7201a8\"],[0.3333333333333333,\"#9c179e\"],[0.4444444444444444,\"#bd3786\"],[0.5555555555555556,\"#d8576b\"],[0.6666666666666666,\"#ed7953\"],[0.7777777777777778,\"#fb9f3a\"],[0.8888888888888888,\"#fdca26\"],[1.0,\"#f0f921\"]]}],\"heatmap\":[{\"type\":\"heatmap\",\"colorbar\":{\"outlinewidth\":0,\"ticks\":\"\"},\"colorscale\":[[0.0,\"#0d0887\"],[0.1111111111111111,\"#46039f\"],[0.2222222222222222,\"#7201a8\"],[0.3333333333333333,\"#9c179e\"],[0.4444444444444444,\"#bd3786\"],[0.5555555555555556,\"#d8576b\"],[0.6666666666666666,\"#ed7953\"],[0.7777777777777778,\"#fb9f3a\"],[0.8888888888888888,\"#fdca26\"],[1.0,\"#f0f921\"]]}],\"heatmapgl\":[{\"type\":\"heatmapgl\",\"colorbar\":{\"outlinewidth\":0,\"ticks\":\"\"},\"colorscale\":[[0.0,\"#0d0887\"],[0.1111111111111111,\"#46039f\"],[0.2222222222222222,\"#7201a8\"],[0.3333333333333333,\"#9c179e\"],[0.4444444444444444,\"#bd3786\"],[0.5555555555555556,\"#d8576b\"],[0.6666666666666666,\"#ed7953\"],[0.7777777777777778,\"#fb9f3a\"],[0.8888888888888888,\"#fdca26\"],[1.0,\"#f0f921\"]]}],\"contourcarpet\":[{\"type\":\"contourcarpet\",\"colorbar\":{\"outlinewidth\":0,\"ticks\":\"\"}}],\"contour\":[{\"type\":\"contour\",\"colorbar\":{\"outlinewidth\":0,\"ticks\":\"\"},\"colorscale\":[[0.0,\"#0d0887\"],[0.1111111111111111,\"#46039f\"],[0.2222222222222222,\"#7201a8\"],[0.3333333333333333,\"#9c179e\"],[0.4444444444444444,\"#bd3786\"],[0.5555555555555556,\"#d8576b\"],[0.6666666666666666,\"#ed7953\"],[0.7777777777777778,\"#fb9f3a\"],[0.8888888888888888,\"#fdca26\"],[1.0,\"#f0f921\"]]}],\"surface\":[{\"type\":\"surface\",\"colorbar\":{\"outlinewidth\":0,\"ticks\":\"\"},\"colorscale\":[[0.0,\"#0d0887\"],[0.1111111111111111,\"#46039f\"],[0.2222222222222222,\"#7201a8\"],[0.3333333333333333,\"#9c179e\"],[0.4444444444444444,\"#bd3786\"],[0.5555555555555556,\"#d8576b\"],[0.6666666666666666,\"#ed7953\"],[0.7777777777777778,\"#fb9f3a\"],[0.8888888888888888,\"#fdca26\"],[1.0,\"#f0f921\"]]}],\"mesh3d\":[{\"type\":\"mesh3d\",\"colorbar\":{\"outlinewidth\":0,\"ticks\":\"\"}}],\"scatter\":[{\"fillpattern\":{\"fillmode\":\"overlay\",\"size\":10,\"solidity\":0.2},\"type\":\"scatter\"}],\"parcoords\":[{\"type\":\"parcoords\",\"line\":{\"colorbar\":{\"outlinewidth\":0,\"ticks\":\"\"}}}],\"scatterpolargl\":[{\"type\":\"scatterpolargl\",\"marker\":{\"colorbar\":{\"outlinewidth\":0,\"ticks\":\"\"}}}],\"bar\":[{\"error_x\":{\"color\":\"#2a3f5f\"},\"error_y\":{\"color\":\"#2a3f5f\"},\"marker\":{\"line\":{\"color\":\"#E5ECF6\",\"width\":0.5},\"pattern\":{\"fillmode\":\"overlay\",\"size\":10,\"solidity\":0.2}},\"type\":\"bar\"}],\"scattergeo\":[{\"type\":\"scattergeo\",\"marker\":{\"colorbar\":{\"outlinewidth\":0,\"ticks\":\"\"}}}],\"scatterpolar\":[{\"type\":\"scatterpolar\",\"marker\":{\"colorbar\":{\"outlinewidth\":0,\"ticks\":\"\"}}}],\"histogram\":[{\"marker\":{\"pattern\":{\"fillmode\":\"overlay\",\"size\":10,\"solidity\":0.2}},\"type\":\"histogram\"}],\"scattergl\":[{\"type\":\"scattergl\",\"marker\":{\"colorbar\":{\"outlinewidth\":0,\"ticks\":\"\"}}}],\"scatter3d\":[{\"type\":\"scatter3d\",\"line\":{\"colorbar\":{\"outlinewidth\":0,\"ticks\":\"\"}},\"marker\":{\"colorbar\":{\"outlinewidth\":0,\"ticks\":\"\"}}}],\"scattermapbox\":[{\"type\":\"scattermapbox\",\"marker\":{\"colorbar\":{\"outlinewidth\":0,\"ticks\":\"\"}}}],\"scatterternary\":[{\"type\":\"scatterternary\",\"marker\":{\"colorbar\":{\"outlinewidth\":0,\"ticks\":\"\"}}}],\"scattercarpet\":[{\"type\":\"scattercarpet\",\"marker\":{\"colorbar\":{\"outlinewidth\":0,\"ticks\":\"\"}}}],\"carpet\":[{\"aaxis\":{\"endlinecolor\":\"#2a3f5f\",\"gridcolor\":\"white\",\"linecolor\":\"white\",\"minorgridcolor\":\"white\",\"startlinecolor\":\"#2a3f5f\"},\"baxis\":{\"endlinecolor\":\"#2a3f5f\",\"gridcolor\":\"white\",\"linecolor\":\"white\",\"minorgridcolor\":\"white\",\"startlinecolor\":\"#2a3f5f\"},\"type\":\"carpet\"}],\"table\":[{\"cells\":{\"fill\":{\"color\":\"#EBF0F8\"},\"line\":{\"color\":\"white\"}},\"header\":{\"fill\":{\"color\":\"#C8D4E3\"},\"line\":{\"color\":\"white\"}},\"type\":\"table\"}],\"barpolar\":[{\"marker\":{\"line\":{\"color\":\"#E5ECF6\",\"width\":0.5},\"pattern\":{\"fillmode\":\"overlay\",\"size\":10,\"solidity\":0.2}},\"type\":\"barpolar\"}],\"pie\":[{\"automargin\":true,\"type\":\"pie\"}]},\"layout\":{\"autotypenumbers\":\"strict\",\"colorway\":[\"#636efa\",\"#EF553B\",\"#00cc96\",\"#ab63fa\",\"#FFA15A\",\"#19d3f3\",\"#FF6692\",\"#B6E880\",\"#FF97FF\",\"#FECB52\"],\"font\":{\"color\":\"#2a3f5f\"},\"hovermode\":\"closest\",\"hoverlabel\":{\"align\":\"left\"},\"paper_bgcolor\":\"white\",\"plot_bgcolor\":\"#E5ECF6\",\"polar\":{\"bgcolor\":\"#E5ECF6\",\"angularaxis\":{\"gridcolor\":\"white\",\"linecolor\":\"white\",\"ticks\":\"\"},\"radialaxis\":{\"gridcolor\":\"white\",\"linecolor\":\"white\",\"ticks\":\"\"}},\"ternary\":{\"bgcolor\":\"#E5ECF6\",\"aaxis\":{\"gridcolor\":\"white\",\"linecolor\":\"white\",\"ticks\":\"\"},\"baxis\":{\"gridcolor\":\"white\",\"linecolor\":\"white\",\"ticks\":\"\"},\"caxis\":{\"gridcolor\":\"white\",\"linecolor\":\"white\",\"ticks\":\"\"}},\"coloraxis\":{\"colorbar\":{\"outlinewidth\":0,\"ticks\":\"\"}},\"colorscale\":{\"sequential\":[[0.0,\"#0d0887\"],[0.1111111111111111,\"#46039f\"],[0.2222222222222222,\"#7201a8\"],[0.3333333333333333,\"#9c179e\"],[0.4444444444444444,\"#bd3786\"],[0.5555555555555556,\"#d8576b\"],[0.6666666666666666,\"#ed7953\"],[0.7777777777777778,\"#fb9f3a\"],[0.8888888888888888,\"#fdca26\"],[1.0,\"#f0f921\"]],\"sequentialminus\":[[0.0,\"#0d0887\"],[0.1111111111111111,\"#46039f\"],[0.2222222222222222,\"#7201a8\"],[0.3333333333333333,\"#9c179e\"],[0.4444444444444444,\"#bd3786\"],[0.5555555555555556,\"#d8576b\"],[0.6666666666666666,\"#ed7953\"],[0.7777777777777778,\"#fb9f3a\"],[0.8888888888888888,\"#fdca26\"],[1.0,\"#f0f921\"]],\"diverging\":[[0,\"#8e0152\"],[0.1,\"#c51b7d\"],[0.2,\"#de77ae\"],[0.3,\"#f1b6da\"],[0.4,\"#fde0ef\"],[0.5,\"#f7f7f7\"],[0.6,\"#e6f5d0\"],[0.7,\"#b8e186\"],[0.8,\"#7fbc41\"],[0.9,\"#4d9221\"],[1,\"#276419\"]]},\"xaxis\":{\"gridcolor\":\"white\",\"linecolor\":\"white\",\"ticks\":\"\",\"title\":{\"standoff\":15},\"zerolinecolor\":\"white\",\"automargin\":true,\"zerolinewidth\":2},\"yaxis\":{\"gridcolor\":\"white\",\"linecolor\":\"white\",\"ticks\":\"\",\"title\":{\"standoff\":15},\"zerolinecolor\":\"white\",\"automargin\":true,\"zerolinewidth\":2},\"scene\":{\"xaxis\":{\"backgroundcolor\":\"#E5ECF6\",\"gridcolor\":\"white\",\"linecolor\":\"white\",\"showbackground\":true,\"ticks\":\"\",\"zerolinecolor\":\"white\",\"gridwidth\":2},\"yaxis\":{\"backgroundcolor\":\"#E5ECF6\",\"gridcolor\":\"white\",\"linecolor\":\"white\",\"showbackground\":true,\"ticks\":\"\",\"zerolinecolor\":\"white\",\"gridwidth\":2},\"zaxis\":{\"backgroundcolor\":\"#E5ECF6\",\"gridcolor\":\"white\",\"linecolor\":\"white\",\"showbackground\":true,\"ticks\":\"\",\"zerolinecolor\":\"white\",\"gridwidth\":2}},\"shapedefaults\":{\"line\":{\"color\":\"#2a3f5f\"}},\"annotationdefaults\":{\"arrowcolor\":\"#2a3f5f\",\"arrowhead\":0,\"arrowwidth\":1},\"geo\":{\"bgcolor\":\"white\",\"landcolor\":\"#E5ECF6\",\"subunitcolor\":\"white\",\"showland\":true,\"showlakes\":true,\"lakecolor\":\"white\"},\"title\":{\"x\":0.05},\"mapbox\":{\"style\":\"light\"}}},\"scene\":{\"domain\":{\"x\":[0.0,1.0],\"y\":[0.0,1.0]},\"xaxis\":{\"title\":{\"text\":\"PC 1\"}},\"yaxis\":{\"title\":{\"text\":\"PC 2\"}},\"zaxis\":{\"title\":{\"text\":\"PC 3\"}}},\"coloraxis\":{\"colorbar\":{\"title\":{\"text\":\"Class\"}},\"colorscale\":[[0.0,\"#0d0887\"],[0.1111111111111111,\"#46039f\"],[0.2222222222222222,\"#7201a8\"],[0.3333333333333333,\"#9c179e\"],[0.4444444444444444,\"#bd3786\"],[0.5555555555555556,\"#d8576b\"],[0.6666666666666666,\"#ed7953\"],[0.7777777777777778,\"#fb9f3a\"],[0.8888888888888888,\"#fdca26\"],[1.0,\"#f0f921\"]]},\"legend\":{\"title\":{\"text\":\"Class\"},\"tracegroupgap\":0,\"x\":0,\"y\":1},\"margin\":{\"t\":60},\"width\":800},                        {\"responsive\": true}                    ).then(function(){\n",
       "                            \n",
       "var gd = document.getElementById('27e837a1-4569-4a64-a9b5-7cea43f0799a');\n",
       "var x = new MutationObserver(function (mutations, observer) {{\n",
       "        var display = window.getComputedStyle(gd).display;\n",
       "        if (!display || display === 'none') {{\n",
       "            console.log([gd, 'removed!']);\n",
       "            Plotly.purge(gd);\n",
       "            observer.disconnect();\n",
       "        }}\n",
       "}});\n",
       "\n",
       "// Listen for the removal of the full notebook cells\n",
       "var notebookContainer = gd.closest('#notebook-container');\n",
       "if (notebookContainer) {{\n",
       "    x.observe(notebookContainer, {childList: true});\n",
       "}}\n",
       "\n",
       "// Listen for the clearing of the current output cell\n",
       "var outputEl = gd.closest('.output');\n",
       "if (outputEl) {{\n",
       "    x.observe(outputEl, {childList: true});\n",
       "}}\n",
       "\n",
       "                        })                };                });            </script>        </div>"
      ]
     },
     "metadata": {},
     "output_type": "display_data"
    }
   ],
   "source": [
    "# Creating a 3D-Scatter with the PCA data and the clusters\n",
    "fig = px.scatter_3d(\n",
    "    clustered_df,\n",
    "    x=\"PC 1\",\n",
    "    y=\"PC 2\",\n",
    "    z=\"PC 3\",\n",
    "    color=\"Class\",\n",
    "    symbol=\"Class\",\n",
    "    width=800,\n",
    "    hover_name=\"CoinName\",\n",
    "    hover_data=[\"Algorithm\"],\n",
    ")\n",
    "fig.update_layout(legend=dict(x=0, y=1))\n",
    "fig.show()"
   ]
  },
  {
   "cell_type": "code",
   "execution_count": 229,
   "metadata": {},
   "outputs": [
    {
     "data": {},
     "metadata": {},
     "output_type": "display_data"
    },
    {
     "data": {
      "application/vnd.holoviews_exec.v0+json": "",
      "text/html": [
       "<div id='2669'>\n",
       "\n",
       "\n",
       "\n",
       "\n",
       "\n",
       "  <div class=\"bk-root\" id=\"50828def-1f59-4744-81d6-4f1b0fe189b5\" data-root-id=\"2669\"></div>\n",
       "</div>\n",
       "<script type=\"application/javascript\">(function(root) {\n",
       "  function embed_document(root) {\n",
       "    var docs_json = {\"97dc02ca-bcf8-4a61-8639-6ea0390c9a9c\":{\"defs\":[{\"extends\":null,\"module\":null,\"name\":\"ReactiveHTML1\",\"overrides\":[],\"properties\":[]},{\"extends\":null,\"module\":null,\"name\":\"FlexBox1\",\"overrides\":[],\"properties\":[{\"default\":\"flex-start\",\"kind\":null,\"name\":\"align_content\"},{\"default\":\"flex-start\",\"kind\":null,\"name\":\"align_items\"},{\"default\":\"row\",\"kind\":null,\"name\":\"flex_direction\"},{\"default\":\"wrap\",\"kind\":null,\"name\":\"flex_wrap\"},{\"default\":\"flex-start\",\"kind\":null,\"name\":\"justify_content\"}]},{\"extends\":null,\"module\":null,\"name\":\"TemplateActions1\",\"overrides\":[],\"properties\":[{\"default\":0,\"kind\":null,\"name\":\"open_modal\"},{\"default\":0,\"kind\":null,\"name\":\"close_modal\"}]},{\"extends\":null,\"module\":null,\"name\":\"MaterialTemplateActions1\",\"overrides\":[],\"properties\":[{\"default\":0,\"kind\":null,\"name\":\"open_modal\"},{\"default\":0,\"kind\":null,\"name\":\"close_modal\"}]}],\"roots\":{\"references\":[{\"attributes\":{},\"id\":\"2684\",\"type\":\"StringEditor\"},{\"attributes\":{},\"id\":\"2673\",\"type\":\"StringFormatter\"},{\"attributes\":{},\"id\":\"2679\",\"type\":\"StringEditor\"},{\"attributes\":{\"format\":\"0,0.0[00000]\"},\"id\":\"2693\",\"type\":\"NumberFormatter\"},{\"attributes\":{\"editor\":{\"id\":\"2684\"},\"field\":\"ProofType\",\"formatter\":{\"id\":\"2683\"},\"title\":\"ProofType\"},\"id\":\"2685\",\"type\":\"TableColumn\"},{\"attributes\":{},\"id\":\"2694\",\"type\":\"NumberEditor\"},{\"attributes\":{},\"id\":\"2689\",\"type\":\"StringEditor\"},{\"attributes\":{\"data\":{\"Algorithm\":[\"Scrypt\",\"Scrypt\",\"X13\",\"SHA-256\",\"Ethash\",\"Scrypt\",\"X11\",\"CryptoNight-V7\",\"Ethash\",\"Equihash\",\"SHA-512\",\"Multiple\",\"SHA-256\",\"SHA-256\",\"Scrypt\",\"X15\",\"X11\",\"Scrypt\",\"Scrypt\",\"Scrypt\",\"Multiple\",\"Scrypt\",\"SHA-256\",\"Scrypt\",\"Scrypt\",\"Scrypt\",\"Quark\",\"Groestl\",\"Scrypt\",\"Scrypt\",\"Scrypt\",\"Scrypt\",\"Scrypt\",\"X11\",\"Scrypt\",\"Groestl\",\"Multiple\",\"SHA-256\",\"Scrypt\",\"Scrypt\",\"Scrypt\",\"Scrypt\",\"PoS\",\"Scrypt\",\"Scrypt\",\"NeoScrypt\",\"Scrypt\",\"Scrypt\",\"Scrypt\",\"Scrypt\",\"X11\",\"Scrypt\",\"X11\",\"SHA-256\",\"Scrypt\",\"Scrypt\",\"Scrypt\",\"SHA3\",\"Scrypt\",\"HybridScryptHash256\",\"Scrypt\",\"Scrypt\",\"SHA-256\",\"Scrypt\",\"X13\",\"Scrypt\",\"SHA-256\",\"Scrypt\",\"X13\",\"NeoScrypt\",\"Scrypt\",\"Scrypt\",\"Scrypt\",\"Scrypt\",\"Scrypt\",\"Scrypt\",\"X11\",\"X11\",\"SHA-256\",\"Multiple\",\"SHA-256\",\"PHI1612\",\"X11\",\"SHA-256\",\"SHA-256\",\"SHA-256\",\"X11\",\"Scrypt\",\"Scrypt\",\"Scrypt\",\"Scrypt\",\"Lyra2REv2\",\"Scrypt\",\"X11\",\"Multiple\",\"SHA-256\",\"X13\",\"Scrypt\",\"CryptoNight\",\"CryptoNight\",\"Shabal256\",\"Counterparty\",\"Scrypt\",\"SHA-256\",\"Groestl\",\"Scrypt\",\"Scrypt\",\"Scrypt\",\"X13\",\"Scrypt\",\"Scrypt\",\"Scrypt\",\"Scrypt\",\"X13\",\"Scrypt\",\"Stanford Folding\",\"X11\",\"Multiple\",\"QuBit\",\"Scrypt\",\"Scrypt\",\"Scrypt\",\"M7 POW\",\"Scrypt\",\"SHA-256\",\"Scrypt\",\"X11\",\"SHA3\",\"X11\",\"Lyra2RE\",\"SHA-256\",\"QUAIT\",\"X11\",\"X11\",\"Scrypt\",\"Scrypt\",\"Scrypt\",\"Ethash\",\"X13\",\"Blake2b\",\"SHA-256\",\"X15\",\"X11\",\"SHA-256\",\"BLAKE256\",\"Scrypt\",\"1GB AES Pattern Search\",\"SHA-256\",\"X11\",\"Scrypt\",\"SHA-256\",\"SHA-256\",\"NIST5\",\"Scrypt\",\"Scrypt\",\"X11\",\"Dagger\",\"Scrypt\",\"X11GOST\",\"X11\",\"Scrypt\",\"SHA-256\",\"Scrypt\",\"PoS\",\"Scrypt\",\"X11\",\"X11\",\"SHA-256\",\"SHA-256\",\"NIST5\",\"X11\",\"Scrypt\",\"POS 3.0\",\"Scrypt\",\"Scrypt\",\"Scrypt\",\"X13\",\"X11\",\"X11\",\"Equihash\",\"X11\",\"Scrypt\",\"CryptoNight\",\"SHA-256\",\"SHA-256\",\"X11\",\"Scrypt\",\"Multiple\",\"Scrypt\",\"Scrypt\",\"Scrypt\",\"SHA-256\",\"Scrypt\",\"Scrypt\",\"SHA-256D\",\"PoS\",\"Scrypt\",\"X11\",\"Lyra2Z\",\"PoS\",\"X13\",\"X14\",\"PoS\",\"SHA-256D\",\"Ethash\",\"Equihash\",\"DPoS\",\"X11\",\"Scrypt\",\"X11\",\"X13\",\"X11\",\"PoS\",\"Scrypt\",\"Scrypt\",\"X11\",\"PoS\",\"X11\",\"SHA-256\",\"Scrypt\",\"X11\",\"Scrypt\",\"Scrypt\",\"X11\",\"CryptoNight\",\"Scrypt\",\"Scrypt\",\"Scrypt\",\"Scrypt\",\"Quark\",\"QuBit\",\"Scrypt\",\"CryptoNight\",\"Lyra2RE\",\"Scrypt\",\"SHA-256\",\"X11\",\"Scrypt\",\"X11\",\"Scrypt\",\"CryptoNight-V7\",\"Scrypt\",\"Scrypt\",\"Scrypt\",\"X13\",\"X11\",\"Equihash\",\"Scrypt\",\"Scrypt\",\"Lyra2RE\",\"Scrypt\",\"Dagger-Hashimoto\",\"X11\",\"Blake2S\",\"X11\",\"Scrypt\",\"PoS\",\"X11\",\"NIST5\",\"PoS\",\"X11\",\"Scrypt\",\"Scrypt\",\"Scrypt\",\"SHA-256\",\"X11\",\"Scrypt\",\"Scrypt\",\"SHA-256\",\"PoS\",\"Scrypt\",\"X15\",\"SHA-256\",\"Scrypt\",\"POS 3.0\",\"CryptoNight-V7\",\"536\",\"Argon2d\",\"Blake2b\",\"Cloverhash\",\"CryptoNight\",\"NIST5\",\"X11\",\"NIST5\",\"Skein\",\"Scrypt\",\"X13\",\"Scrypt\",\"X11\",\"X11\",\"Scrypt\",\"CryptoNight\",\"X13\",\"Time Travel\",\"Scrypt\",\"Keccak\",\"SkunkHash v2 Raptor\",\"X11\",\"Skein\",\"SHA-256\",\"X11\",\"Scrypt\",\"VeChainThor Authority\",\"Scrypt\",\"PoS\",\"Scrypt\",\"Scrypt\",\"Scrypt\",\"Scrypt\",\"Scrypt\",\"Scrypt\",\"Scrypt\",\"CryptoNight\",\"SHA-512\",\"Ouroboros\",\"X11\",\"Equihash\",\"NeoScrypt\",\"X11\",\"Scrypt\",\"NeoScrypt\",\"Lyra2REv2\",\"Equihash\",\"Scrypt\",\"SHA-256\",\"NIST5\",\"PHI1612\",\"Dagger\",\"Scrypt\",\"Quark\",\"Scrypt\",\"POS 2.0\",\"Scrypt\",\"SHA-256\",\"X11\",\"NeoScrypt\",\"Ethash\",\"NeoScrypt\",\"X11\",\"DPoS\",\"NIST5\",\"X13\",\"Multiple\",\"Scrypt\",\"CryptoNight\",\"CryptoNight\",\"Ethash\",\"NIST5\",\"Quark\",\"X11\",\"CryptoNight-V7\",\"Scrypt\",\"Scrypt\",\"Scrypt\",\"X11\",\"BLAKE256\",\"X11\",\"NeoScrypt\",\"Quark\",\"NeoScrypt\",\"Scrypt\",\"Scrypt\",\"Scrypt\",\"X11\",\"X11\",\"SHA-256\",\"C11\",\"POS 3.0\",\"Ethash\",\"Scrypt\",\"CryptoNight\",\"SkunkHash\",\"Scrypt\",\"CryptoNight\",\"Scrypt\",\"Dagger\",\"Lyra2REv2\",\"X13\",\"Proof-of-BibleHash\",\"SHA-256 + Hive\",\"Scrypt\",\"Scrypt\",\"X11\",\"C11\",\"Proof-of-Authority\",\"X11\",\"XEVAN\",\"Scrypt\",\"VBFT\",\"Ethash\",\"CryptoNight\",\"Scrypt\",\"IMesh\",\"NIST5\",\"Scrypt\",\"Scrypt\",\"Equihash\",\"Scrypt\",\"Lyra2Z\",\"Green Protocol\",\"PoS\",\"Scrypt\",\"Semux BFT consensus\",\"X11\",\"Quark\",\"PoS\",\"CryptoNight\",\"X16R\",\"Scrypt\",\"NIST5\",\"Lyra2RE\",\"XEVAN\",\"Tribus\",\"Scrypt\",\"Lyra2Z\",\"CryptoNight\",\"CryptoNight Heavy\",\"CryptoNight\",\"Scrypt\",\"Scrypt\",\"Jump Consistent Hash\",\"SHA-256D\",\"CryptoNight\",\"Scrypt\",\"X15\",\"Scrypt\",\"Quark\",\"SHA-256\",\"DPoS\",\"X16R\",\"HMQ1725\",\"X11\",\"X16R\",\"Quark\",\"Quark\",\"Scrypt\",\"Lyra2REv2\",\"Quark\",\"Scrypt\",\"Scrypt\",\"CryptoNight-V7\",\"Cryptonight-GPU\",\"XEVAN\",\"CryptoNight Heavy\",\"X11\",\"X11\",\"Scrypt\",\"PoS\",\"SHA-256\",\"Keccak\",\"X11\",\"X11\",\"Scrypt\",\"SHA-512\",\"X16R\",\"ECC 256K1\",\"Equihash\",\"XEVAN\",\"Lyra2Z\",\"SHA-256\",\"XEVAN\",\"X11\",\"CryptoNight\",\"Quark\",\"Blake\",\"Blake\",\"Equihash\",\"Exosis\",\"Scrypt\",\"Scrypt\",\"Equihash\",\"Quark\",\"Equihash\",\"Quark\",\"Scrypt\",\"QuBit\",\"X11\",\"Scrypt\",\"XEVAN\",\"SHA-256D\",\"X11\",\"SHA-256\",\"X13\",\"SHA-256\",\"X11\",\"DPoS\",\"Scrypt\",\"Scrypt\",\"X11\",\"NeoScrypt\",\"Scrypt\",\"Blake\",\"Scrypt\",\"SHA-256\",\"Scrypt\",\"X11\",\"Scrypt\",\"Scrypt\",\"SHA-256\",\"X11\",\"SHA-256\",\"Scrypt\",\"Scrypt\",\"Scrypt\",\"Groestl\",\"X11\",\"Scrypt\",\"PoS\",\"Scrypt\",\"Scrypt\",\"X11\",\"SHA-256\",\"DPoS\",\"Scrypt\",\"Scrypt\",\"NeoScrypt\",\"Multiple\",\"X13\",\"Equihash+Scrypt\",\"DPoS\",\"Ethash\",\"DPoS\",\"SHA-256\",\"Leased POS\",\"PoS\",\"TRC10\",\"PoS\",\"SHA-256\",\"Scrypt\",\"CryptoNight\",\"Equihash\",\"Scrypt\"],\"Class\":{\"__ndarray__\":\"AQAAAAEAAAABAAAAAAAAAAAAAAAAAAAAAQAAAAAAAAAAAAAAAAAAAAEAAAAAAAAAAQAAAAEAAAAAAAAAAQAAAAAAAAAAAAAAAQAAAAEAAAAAAAAAAAAAAAAAAAAAAAAAAAAAAAEAAAAAAAAAAAAAAAAAAAABAAAAAAAAAAEAAAAAAAAAAAAAAAEAAAABAAAAAAAAAAAAAAAAAAAAAAAAAAAAAAAAAAAAAQAAAAEAAAAAAAAAAAAAAAAAAAAAAAAAAAAAAAEAAAABAAAAAAAAAAEAAAAAAAAAAAAAAAAAAAAAAAAAAQAAAAAAAAAAAAAAAQAAAAAAAAABAAAAAQAAAAEAAAAAAAAAAAAAAAAAAAABAAAAAQAAAAEAAAABAAAAAQAAAAAAAAAAAAAAAAAAAAEAAAABAAAAAAAAAAEAAAAAAAAAAQAAAAEAAAAAAAAAAAAAAAAAAAAAAAAAAQAAAAEAAAAAAAAAAQAAAAAAAAAAAAAAAQAAAAEAAAAAAAAAAQAAAAEAAAAAAAAAAAAAAAAAAAABAAAAAAAAAAEAAAABAAAAAAAAAAEAAAAAAAAAAQAAAAAAAAABAAAAAAAAAAEAAAABAAAAAAAAAAAAAAABAAAAAAAAAAAAAAAAAAAAAQAAAAAAAAAAAAAAAAAAAAAAAAAAAAAAAQAAAAEAAAAAAAAAAAAAAAAAAAABAAAAAAAAAAEAAAAAAAAAAAAAAAEAAAAAAAAAAQAAAAAAAAABAAAAAQAAAAAAAAAAAAAAAQAAAAAAAAAAAAAAAQAAAAEAAAAAAAAAAQAAAAAAAAABAAAAAQAAAAEAAAAAAAAAAAAAAAAAAAAAAAAAAQAAAAEAAAABAAAAAQAAAAEAAAAAAAAAAAAAAAEAAAABAAAAAQAAAAEAAAABAAAAAAAAAAEAAAABAAAAAQAAAAEAAAABAAAAAAAAAAEAAAAAAAAAAQAAAAEAAAAAAAAAAQAAAAAAAAABAAAAAQAAAAAAAAABAAAAAAAAAAEAAAAAAAAAAQAAAAAAAAABAAAAAQAAAAEAAAABAAAAAAAAAAEAAAABAAAAAQAAAAEAAAABAAAAAAAAAAAAAAABAAAAAQAAAAAAAAAAAAAAAQAAAAEAAAABAAAAAQAAAAEAAAAAAAAAAQAAAAEAAAABAAAAAQAAAAEAAAABAAAAAQAAAAEAAAAAAAAAAQAAAAEAAAABAAAAAQAAAAEAAAABAAAAAAAAAAAAAAAAAAAAAQAAAAEAAAABAAAAAQAAAAAAAAABAAAAAAAAAAEAAAABAAAAAAAAAAEAAAAAAAAAAAAAAAEAAAAAAAAAAAAAAAEAAAAAAAAAAQAAAAEAAAABAAAAAAAAAAEAAAABAAAAAAAAAAEAAAABAAAAAQAAAAEAAAABAAAAAQAAAAEAAAAAAAAAAQAAAAAAAAABAAAAAQAAAAEAAAABAAAAAAAAAAEAAAAAAAAAAQAAAAAAAAAAAAAAAAAAAAAAAAABAAAAAAAAAAEAAAABAAAAAAAAAAEAAAAAAAAAAAAAAAAAAAABAAAAAAAAAAEAAAAAAAAAAAAAAAAAAAABAAAAAAAAAAEAAAAAAAAAAQAAAAEAAAABAAAAAAAAAAEAAAAAAAAAAAAAAAAAAAAAAAAAAAAAAAEAAAABAAAAAAAAAAEAAAABAAAAAQAAAAAAAAABAAAAAAAAAAEAAAAAAAAAAQAAAAAAAAABAAAAAQAAAAEAAAABAAAAAAAAAAEAAAABAAAAAAAAAAEAAAABAAAAAQAAAAAAAAAAAAAAAAAAAAAAAAABAAAAAQAAAAEAAAABAAAAAAAAAAEAAAAAAAAAAAAAAAAAAAABAAAAAQAAAAAAAAAAAAAAAQAAAAEAAAAAAAAAAQAAAAAAAAAAAAAAAAAAAAEAAAAAAAAAAAAAAAEAAAABAAAAAQAAAAAAAAAAAAAAAAAAAAEAAAABAAAAAQAAAAAAAAAAAAAAAQAAAAAAAAAAAAAAAAAAAAAAAAABAAAAAQAAAAMAAAAAAAAAAAAAAAAAAAABAAAAAwAAAAEAAAABAAAAAQAAAAEAAAAAAAAAAAAAAAAAAAAAAAAAAQAAAAEAAAABAAAAAAAAAAEAAAAAAAAAAQAAAAEAAAABAAAAAQAAAAAAAAABAAAAAQAAAAAAAAABAAAAAQAAAAAAAAAAAAAAAQAAAAAAAAABAAAAAAAAAAAAAAAAAAAAAAAAAAEAAAABAAAAAAAAAAEAAAAAAAAAAQAAAAEAAAABAAAAAQAAAAEAAAABAAAAAAAAAAAAAAAAAAAAAQAAAAEAAAABAAAAAQAAAAEAAAABAAAAAAAAAAEAAAAAAAAAAAAAAAAAAAAAAAAAAQAAAAEAAAABAAAAAQAAAAAAAAABAAAAAQAAAAAAAAABAAAAAQAAAAAAAAABAAAAAAAAAAEAAAAAAAAAAAAAAAEAAAABAAAAAAAAAAEAAAAAAAAAAAAAAAAAAAAAAAAAAAAAAAEAAAAAAAAAAQAAAAAAAAABAAAAAQAAAAAAAAABAAAAAQAAAAEAAAABAAAAAQAAAAAAAAAAAAAAAAAAAAEAAAABAAAAAQAAAAAAAAABAAAAAAAAAAEAAAAAAAAAAQAAAAEAAAABAAAAAQAAAAAAAAABAAAAAQAAAAEAAAAAAAAAAQAAAAAAAAABAAAAAAAAAAEAAAABAAAAAQAAAAAAAAAAAAAAAQAAAAEAAAABAAAAAQAAAAEAAAABAAAAAAAAAAEAAAAAAAAAAQAAAAAAAAABAAAAAQAAAAMAAAABAAAAAgAAAAEAAAABAAAAAQAAAAAAAAAAAAAAAQAAAA==\",\"dtype\":\"int32\",\"order\":\"little\",\"shape\":[532]},\"CoinName\":[\"42 Coin\",\"404Coin\",\"EliteCoin\",\"Bitcoin\",\"Ethereum\",\"Litecoin\",\"Dash\",\"Monero\",\"Ethereum Classic\",\"ZCash\",\"Bitshares\",\"DigiByte\",\"BitcoinDark\",\"PayCoin\",\"ProsperCoin\",\"KoboCoin\",\"Spreadcoin\",\"Argentum\",\"Aurora Coin\",\"BlueCoin\",\"MyriadCoin\",\"MoonCoin\",\"ZetaCoin\",\"SexCoin\",\"Quatloo\",\"EnergyCoin\",\"QuarkCoin\",\"Riecoin\",\"Digitalcoin \",\"BitBar\",\"Catcoin\",\"CryptoBullion\",\"CannaCoin\",\"CryptCoin\",\"CasinoCoin\",\"Diamond\",\"Verge\",\"DevCoin\",\"EarthCoin\",\"E-Gulden\",\"Einsteinium\",\"Emerald\",\"Exclusive Coin\",\"FlutterCoin\",\"Franko\",\"FeatherCoin\",\"GrandCoin\",\"GlobalCoin\",\"GoldCoin\",\"HoboNickels\",\"HyperStake\",\"Infinite Coin\",\"IOCoin\",\"IXcoin\",\"KrugerCoin\",\"LuckyCoin\",\"Litebar \",\"MaxCoin\",\"MegaCoin\",\"MediterraneanCoin\",\"MintCoin\",\"MinCoin\",\"MazaCoin\",\"Nautilus Coin\",\"NavCoin\",\"NobleCoin\",\"Namecoin\",\"NyanCoin\",\"OpalCoin\",\"Orbitcoin\",\"PotCoin\",\"PhoenixCoin\",\"Reddcoin\",\"RonPaulCoin\",\"StableCoin\",\"SmartCoin\",\"SuperCoin\",\"SyncCoin\",\"SysCoin\",\"TeslaCoin\",\"TigerCoin\",\"TittieCoin\",\"TorCoin\",\"TerraCoin\",\"UnbreakableCoin\",\"Unobtanium\",\"UroCoin\",\"UnitaryStatus Dollar\",\"UltraCoin\",\"ViaCoin\",\"VeriCoin\",\"Vertcoin\",\"WorldCoin\",\"X11 Coin\",\"Crypti\",\"JouleCoin\",\"StealthCoin\",\"ZCC Coin\",\"ByteCoin\",\"DigitalNote \",\"BurstCoin\",\"StorjCoin\",\"MonaCoin\",\"Neutron\",\"FairCoin\",\"Gulden\",\"RubyCoin\",\"PesetaCoin\",\"Kore\",\"Wild Beast Coin\",\"Dnotes\",\"Flo\",\"8BIT Coin\",\"Sativa Coin\",\"ArtByte\",\"Folding Coin\",\"Ucoin\",\"Unitus\",\"CypherPunkCoin\",\"OmniCron\",\"Vtorrent\",\"GreenCoin\",\"Cryptonite\",\"MasterCoin\",\"SoonCoin\",\"1Credit\",\"IslaCoin\",\"Nexus\",\"MarsCoin \",\"Crypto\",\"Anarchists Prime\",\"Droidz\",\"BowsCoin\",\"Squall Coin\",\"Song Coin\",\"BitZeny\",\"Diggits\",\"Expanse\",\"Paycon\",\"Siacoin\",\"Emercoin\",\"EverGreenCoin\",\"MindCoin\",\"I0coin\",\"Decred\",\"Revolution VR\",\"HOdlcoin\",\"EDRCoin\",\"Hitcoin\",\"Gamecredits\",\"DubaiCoin\",\"CarpeDiemCoin\",\"PWR Coin\",\"BillaryCoin\",\"GPU Coin\",\"Adzcoin\",\"SoilCoin\",\"YoCoin\",\"SibCoin\",\"EuropeCoin\",\"ZeitCoin\",\"SwingCoin\",\"SafeExchangeCoin\",\"Nebuchadnezzar\",\"Francs\",\"BolivarCoin\",\"Ratecoin\",\"Revenu\",\"Clockcoin\",\"VIP Tokens\",\"BitSend\",\"Omni\",\"Let it Ride\",\"PutinCoin\",\"iBankCoin\",\"Frankywillcoin\",\"MudraCoin\",\"PizzaCoin\",\"Lutetium Coin\",\"Komodo\",\"GoldBlocks\",\"CarterCoin\",\"Karbo\",\"BitTokens\",\"ZayedCoin\",\"MustangCoin\",\"ZoneCoin\",\"Circuits of Value\",\"RootCoin\",\"DopeCoin\",\"BitCurrency\",\"DollarCoin\",\"Swiscoin\",\"Shilling\",\"BuzzCoin\",\"Opair\",\"PesoBit\",\"Halloween Coin\",\"ZCoin\",\"CoffeeCoin\",\"RoyalCoin\",\"GanjaCoin V2\",\"TeamUP\",\"LanaCoin\",\"Elementrem\",\"ZClassic\",\"ARK\",\"InsaneCoin\",\"KiloCoin\",\"ArtexCoin\",\"EmberCoin\",\"XenixCoin\",\"FreeCoin\",\"PLNCoin\",\"AquariusCoin\",\"Kurrent\",\"Creatio\",\"Eternity\",\"Eurocoin\",\"BitcoinFast\",\"Stakenet\",\"BitConnect Coin\",\"MoneyCoin\",\"Enigma\",\"Cannabis Industry Coin\",\"Russiacoin\",\"PandaCoin\",\"GameUnits\",\"GAKHcoin\",\"Allsafe\",\"LiteCreed\",\"OsmiumCoin\",\"Bikercoins\",\"HexxCoin\",\"Klingon Empire Darsek\",\"Internet of People\",\"KushCoin\",\"Printerium\",\"PacCoin\",\"Impeach\",\"Citadel\",\"Zilbercoin\",\"FirstCoin\",\"BeaverCoin\",\"FindCoin\",\"VaultCoin\",\"Zero\",\"OpenChat\",\"Canada eCoin\",\"Zoin\",\"RenosCoin\",\"DubaiCoin\",\"VirtacoinPlus\",\"TajCoin\",\"Impact\",\"EB3coin\",\"Atmos\",\"HappyCoin\",\"Coinonat\",\"MacronCoin\",\"Condensate\",\"Independent Money System\",\"ArgusCoin\",\"LomoCoin\",\"ProCurrency\",\"GoldReserve\",\"BenjiRolls\",\"GrowthCoin\",\"ILCoin\",\"Phreak\",\"Degas Coin\",\"HTML5 Coin\",\"Ultimate Secure Cash\",\"EquiTrader\",\"QTUM\",\"Quantum Resistant Ledger\",\"Espers\",\"Dynamic\",\"Nano\",\"ChanCoin\",\"Dinastycoin\",\"Denarius\",\"DigitalPrice\",\"Virta Unique Coin\",\"Bitcoin Planet\",\"Unify\",\"BritCoin\",\"SocialCoin\",\"ArcticCoin\",\"DAS\",\"Linda\",\"LeviarCoin\",\"DeepOnion\",\"Bitcore\",\"gCn Coin\",\"SmartCash\",\"Signatum\",\"Onix\",\"Cream\",\"Bitcoin Cash\",\"Monoeci\",\"Draftcoin\",\"Vechain\",\"Sojourn Coin\",\"Stakecoin\",\"NewYorkCoin\",\"FrazCoin\",\"Kronecoin\",\"AdCoin\",\"Linx\",\"CoinonatX\",\"Ethereum Dark\",\"Sumokoin\",\"Obsidian\",\"Cardano\",\"Regalcoin\",\"BitcoinZ\",\"TrezarCoin\",\"Elements\",\"TerraNovaCoin\",\"VIVO Coin\",\"Rupee\",\"Bitcoin Gold\",\"WomenCoin\",\"Theresa May Coin\",\"NamoCoin\",\"LUXCoin\",\"Pirl\",\"Xios\",\"Bitcloud 2.0\",\"eBoost\",\"KekCoin\",\"BlackholeCoin\",\"Infinity Economics\",\"Pura\",\"Innova\",\"Ellaism\",\"GoByte\",\"Magnet\",\"Lamden Tau\",\"Electra\",\"Bitcoin Diamond\",\"SHIELD\",\"Cash & Back Coin\",\"UltraNote\",\"BitCoal\",\"DaxxCoin\",\"Bulwark\",\"Kalkulus\",\"AC3\",\"Lethean\",\"GermanCoin\",\"LiteCoin Ultra\",\"PopularCoin\",\"PhantomX\",\"Photon\",\"Sucre\",\"SparksPay\",\"Digiwage\",\"GunCoin\",\"IrishCoin\",\"Trollcoin\",\"Litecoin Plus\",\"Monkey Project\",\"Pioneer Coin\",\"UnitedBitcoin\",\"Interzone\",\"TokenPay\",\"1717 Masonic Commemorative Token\",\"My Big Coin\",\"TurtleCoin\",\"MUNcoin\",\"Unified Society USDEX\",\"Niobio Cash\",\"ShareChain\",\"Travelflex\",\"KREDS\",\"Tokyo Coin\",\"BiblePay\",\"LitecoinCash\",\"BitFlip\",\"LottoCoin\",\"Crypto Improvement Fund\",\"Stipend\",\"Poa Network\",\"Pushi\",\"Ellerium\",\"Velox\",\"Ontology\",\"Callisto Network\",\"BitTube\",\"Poseidon\",\"Aidos Kuneen\",\"Bitspace\",\"Briacoin\",\"Ignition\",\"Bitrolium\",\"MedicCoin\",\"Alpenschillling\",\"Bitcoin Green\",\"Deviant Coin\",\"Abjcoin\",\"Semux\",\"FuturoCoin\",\"Carebit\",\"Zealium\",\"Monero Classic\",\"Proton\",\"iDealCash\",\"Jumpcoin\",\"Infinex\",\"Bitcoin Incognito\",\"KEYCO\",\"HollyWoodCoin\",\"GINcoin\",\"PlatinCoin\",\"Loki\",\"Newton Coin\",\"Swisscoin\",\"Xt3ch\",\"MassGrid\",\"TheVig\",\"PluraCoin\",\"EmaratCoin\",\"Dekado\",\"Lynx\",\"Poseidon Quark\",\"BitcoinWSpectrum\",\"Muse\",\"Motion\",\"PlusOneCoin\",\"Axe\",\"Trivechain\",\"Dystem\",\"Giant\",\"Peony Coin\",\"Absolute Coin\",\"Vitae\",\"HexCoin\",\"TPCash\",\"Webchain\",\"Ryo\",\"Urals Coin\",\"Qwertycoin\",\"ARENON\",\"EUNO\",\"MMOCoin\",\"Ketan\",\"Project Pai\",\"XDNA\",\"PAXEX\",\"Azart\",\"ThunderStake\",\"Kcash\",\"Xchange\",\"Acute Angle Cloud\",\"CrypticCoin\",\"Bettex coin\",\"Actinium\",\"Bitcoin SV\",\"BitMoney\",\"Junson Ming Chan Coin\",\"FREDEnergy\",\"HerbCoin\",\"Universal Molecule\",\"Lithium\",\"PirateCash\",\"Exosis\",\"Block-Logic\",\"Oduwa\",\"Beam\",\"Galilel\",\"Bithereum\",\"Crypto Sports\",\"Credit\",\"SLICE\",\"Dash Platinum\",\"Nasdacoin\",\"Beetle Coin\",\"Titan Coin\",\"Award\",\"BLAST\",\"Bitcoin Rhodium\",\"GlobalToken\",\"Insane Coin\",\"ALAX\",\"LiteDoge\",\"SolarCoin\",\"TruckCoin\",\"UFO Coin\",\"OrangeCoin\",\"BlakeCoin\",\"BitstarCoin\",\"NeosCoin\",\"HyperCoin\",\"PinkCoin\",\"Crypto Escudo\",\"AudioCoin\",\"IncaKoin\",\"Piggy Coin\",\"Crown Coin\",\"Genstake\",\"SmileyCoin\",\"XiaoMiCoin\",\"Groestlcoin\",\"CapriCoin\",\" ClubCoin\",\"Radium\",\"Bata\",\"Pakcoin\",\"Creditbit \",\"OKCash\",\"Lisk\",\"HiCoin\",\"WhiteCoin\",\"FriendshipCoin\",\"JoinCoin\",\"Triangles Coin\",\"Vollar\",\"EOS\",\"Reality Clash\",\"Oxycoin\",\"TigerCash\",\"Waves\",\"Particl\",\"BitTorrent\",\"Nxt\",\"ZEPHYR\",\"Gapcoin\",\"Beldex\",\"Horizen\",\"BitcoinPlus\"],\"ProofType\":[\"PoW/PoS\",\"PoW/PoS\",\"PoW/PoS\",\"PoW\",\"PoW\",\"PoW\",\"PoW/PoS\",\"PoW\",\"PoW\",\"PoW\",\"PoS\",\"PoW\",\"PoW/PoS\",\"PoS\",\"PoW\",\"PoW/PoS\",\"PoW\",\"PoW\",\"PoW/PoS\",\"PoW/PoS\",\"PoW\",\"PoW\",\"PoW\",\"PoW\",\"PoW\",\"PoW/PoS\",\"PoW\",\"PoW\",\"PoW\",\"PoW/PoS\",\"PoW\",\"PoW/PoS\",\"PoW\",\"PoW\",\"PoC\",\"PoW/PoS\",\"PoW\",\"PoW\",\"PoW\",\"PoW\",\"PoW\",\"PoW\",\"PoS\",\"PoS/PoW/PoT\",\"PoW\",\"PoW\",\"PoW\",\"PoW\",\"PoW\",\"PoW/PoS\",\"PoS\",\"PoW\",\"PoW/PoS\",\"PoW\",\"PoW\",\"PoW\",\"PoW\",\"PoW/PoS\",\"PoW\",\"PoW\",\"PoS\",\"PoW\",\"PoW/PoS\",\"PoS\",\"PoW/PoS\",\"PoW\",\"PoW\",\"PoW\",\"PoW/PoS\",\"PoW/PoS\",\"PoW/PoS\",\"PoW/PoS\",\"PoW/PoS\",\"PoW\",\"PoW\",\"PoW\",\"PoS\",\"PoW/PoS\",\"PoW\",\"PoS\",\"PoW\",\"PoS\",\"PoW/PoS\",\"PoW\",\"PoW\",\"PoW\",\"PoW\",\"PoW/PoS\",\"PoW/PoS\",\"PoW\",\"PoST\",\"PoW\",\"PoW\",\"PoW/PoS\",\"PoS\",\"PoW\",\"PoW/PoS\",\"PoW/PoS\",\"PoW\",\"PoW\",\"PoC\",\"PoS\",\"PoW\",\"PoW/PoS\",\"PoW/PoS\",\"PoW\",\"PoS\",\"PoW\",\"PoW/PoS\",\"PoW\",\"PoS\",\"PoW\",\"PoW/PoS\",\"PoW/PoS\",\"PoW\",\"PoW\",\"PoS\",\"PoW\",\"PoW\",\"PoW\",\"PoW/PoS\",\"PoW\",\"PoW\",\"PoW\",\"PoW\",\"PoW\",\"PoW/PoS\",\"PoW/nPoS\",\"PoW\",\"PoW\",\"PoW\",\"PoW/PoS\",\"PoW\",\"PoS/PoW\",\"PoW\",\"PoW\",\"PoS\",\"PoW\",\"PoW/PoS\",\"PoW\",\"PoW/PoS\",\"PoW/PoS\",\"PoW\",\"PoW\",\"PoW/PoS\",\"PoW\",\"PoW\",\"PoW/PoS\",\"PoW/PoS\",\"PoW\",\"PoW/PoS\",\"PoW\",\"PoW/PoS\",\"PoW/PoS\",\"PoS\",\"PoW\",\"PoW\",\"PoW\",\"PoW\",\"PoW/PoS\",\"PoS\",\"PoW/PoS\",\"PoC\",\"PoS\",\"PoW\",\"PoW\",\"PoW/PoS\",\"PoW/PoS\",\"PoW/PoS\",\"PoW/PoS\",\"PoW/PoS\",\"PoW\",\"PoS\",\"PoW/PoS\",\"PoW/PoS\",\"PoW/PoS\",\"PoS\",\"PoW\",\"PoS\",\"dPoW/PoW\",\"PoW/PoS\",\"PoW/PoS\",\"PoW\",\"PoW/PoS\",\"PoW\",\"PoW/PoS\",\"PoW/PoS\",\"PoW\",\"PoW/PoS\",\"PoW\",\"PoS\",\"PoW\",\"PoW/PoW\",\"PoW\",\"PoW/PoS\",\"PoS\",\"PoW/PoS\",\"PoW/PoS\",\"PoW\",\"PoS\",\"PoS\",\"PoW/PoS\",\"PoS\",\"PoW/PoS\",\"PoW\",\"PoW\",\"DPoS\",\"PoW/PoS\",\"PoW\",\"PoW\",\"PoW/PoS\",\"PoW/PoS\",\"PoS\",\"PoW/PoS\",\"PoW/PoS\",\"PoW\",\"PoS\",\"PoW/PoS\",\"PoW/PoS\",\"PoW/PoS\",\"TPoS\",\"PoW/PoS\",\"PoW/PoS\",\"PoW/PoS\",\"PoW\",\"PoW/PoS\",\"PoS\",\"PoW/PoS\",\"PoW/PoS\",\"PoS\",\"PoW/PoS\",\"PoW\",\"PoW\",\"PoW\",\"PoW/PoS\",\"PoW/PoS\",\"PoW/PoS\",\"PoW/PoS\",\"PoW\",\"PoW/PoS\",\"PoW\",\"PoS\",\"PoW/PoS \",\"PoW\",\"PoS\",\"PoW\",\"PoW\",\"PoW/PoS\",\"PoW\",\"PoW\",\"PoS\",\"PoW\",\"PoW/PoS\",\"PoW/PoS\",\"PoW/PoS\",\"PoW\",\"PoS\",\"PoW/PoS\",\"PoW\",\"PoS\",\"PoW/PoS\",\"PoW/PoS\",\"PoW/PoS\",\"PoW/PoS\",\"PoS\",\"PoW/PoS\",\"PoW\",\"PoS\",\"PoW\",\"PoS\",\"PoW/PoS\",\"PoW/PoS\",\"PoS\",\"PoW\",\"PoS\",\"PoW\",\"PoW/PoS\",\"PoW\",\"PoW\",\"PoW\",\"PoW\",\"PoW/PoS\",\"PoW\",\"PoW/PoS\",\"PoW/PoS\",\"PoW\",\"PoW/PoS\",\"PoW\",\"PoW\",\"PoW\",\"PoW/PoS\",\"PoW\",\"PoW/PoS\",\"PoW\",\"PoW\",\"PoW\",\"PoS\",\"PoW\",\"PoW/PoS\",\"PoW\",\"PoW/PoS\",\"PoS\",\"Proof of Authority\",\"PoW\",\"PoS\",\"PoW\",\"PoW\",\"PoW\",\"PoW\",\"PoW\",\"PoW/PoS\",\"PoW/PoS\",\"PoW\",\"PoS\",\"PoS\",\"PoW/PoS\",\"PoW\",\"PoW/PoS\",\"PoW\",\"PoW/PoS\",\"PoW\",\"PoS\",\"PoW\",\"PoW/PoS\",\"PoW/PoS\",\"PoW/PoS\",\"PoW/PoS\",\"PoW\",\"PoW/PoS\",\"PoW/PoS\",\"PoW\",\"PoS\",\"PoW/PoS\",\"PoS\",\"PoW\",\"PoW\",\"PoW\",\"PoW\",\"PoW/PoS\",\"DPoS\",\"PoW/PoS\",\"PoW/PoS\",\"PoW\",\"PoW/PoS\",\"PoW\",\"PoW\",\"PoW\",\"PoS\",\"PoS\",\"PoW\",\"PoW\",\"PoW/PoS\",\"PoW/PoS\",\"PoW\",\"PoW/PoS\",\"PoW\",\"PoW\",\"PoW\",\"PoS\",\"PoW\",\"PoW\",\"PoW/PoS\",\"PoW/PoS\",\"PoS\",\"PoW\",\"PoW\",\"PoW\",\"PoS\",\"PoS\",\"PoW and PoS\",\"PoW\",\"PoW\",\"PoW/PoS\",\"PoW\",\"PoW\",\"PoW\",\"PoW\",\"PoS\",\"POBh\",\"PoW + Hive\",\"PoW\",\"PoW\",\"PoW\",\"PoW/PoS\",\"PoA\",\"PoW/PoS\",\"PoW/PoS\",\"PoS\",\"PoS\",\"PoW\",\"PoW\",\"PoW\",\"PoW\",\"PoW/PoS\",\"PoW/PoS\",\"PoW/PoS\",\"PoW\",\"PoS\",\"PoW\",\"PoS\",\"PoS\",\"PoW/PoS\",\"DPoS\",\"PoW\",\"PoW/PoS\",\"PoS\",\"PoW\",\"PoS\",\"PoW/PoS\",\"PoW\",\"PoW\",\"PoS/PoW\",\"PoW\",\"PoS\",\"PoW\",\"PoW\",\"PoW\",\"PoW\",\"PoW/PoS\",\"PoS\",\"PoW\",\"PoW/PoS\",\"PoW\",\"PoW/PoS\",\"PoS\",\"HPoW\",\"PoS\",\"PoS\",\"PoS\",\"PoW\",\"PoW\",\"PoW\",\"PoW/PoS\",\"PoS\",\"PoW/PoS\",\"PoS\",\"PoW/PoS\",\"PoS\",\"PoW\",\"PoW/PoS\",\"PoW\",\"PoW\",\"PoW\",\"PoW\",\"PoS\",\"PoW/PoS\",\"PoS\",\"PoS\",\"PoW\",\"PoW/PoS\",\"PoS\",\"PoW\",\"PoW/PoS\",\"Zero-Knowledge Proof\",\"PoW\",\"DPOS\",\"PoW\",\"PoS\",\"PoW\",\"PoW\",\"Pos\",\"PoS\",\"PoW\",\"PoW/PoS\",\"PoW\",\"PoW\",\"PoS\",\"PoW\",\"PoW\",\"PoW/PoS\",\"PoW\",\"PoW/PoS\",\"PoW\",\"PoS\",\"PoW/PoS\",\"PoW\",\"PoS\",\"PoW/PoS\",\"PoW/PoS\",\"PoW/PoS\",\"PoW/PoS\",\"PoW\",\"PoW\",\"PoW\",\"PoW/PoS\",\"DPoS\",\"PoW/PoS\",\"PoW\",\"PoW/PoS\",\"PoW\",\"PoW/PoS\",\"PoW\",\"PoW/PoS\",\"PoS\",\"PoW/PoS\",\"PoW/PoS\",\"PoW\",\"PoW/PoS\",\"PoW/PoS\",\"PoW/PoS\",\"PoW\",\"PoW/PoS\",\"PoW\",\"PoW/PoS\",\"PoW\",\"PoW/PoS\",\"PoW/PoS\",\"PoS\",\"PoW\",\"PoW\",\"Proof of Trust\",\"PoW/PoS\",\"DPoS\",\"PoS\",\"PoW/PoS\",\"PoW/PoS\",\"PoW\",\"PoW/PoS\",\"PoW\",\"DPoS\",\"PoW\",\"DPoS\",\"PoS\",\"LPoS\",\"PoS\",\"DPoS\",\"PoS/LPoS\",\"DPoS\",\"PoW/PoS\",\"PoW\",\"PoW\",\"PoS\"],\"TotalCoinSupply\":[\"42\",\"532000000\",\"3.14159E+11\",\"21000000\",\"0\",\"84000000\",\"22000000\",\"0\",\"210000000\",\"21000000\",\"3600570502\",\"21000000000\",\"22000000\",\"12500000\",\"21000000\",\"350000000\",\"20000000\",\"64000000\",\"16768584\",\"0\",\"2000000000\",\"3.84E+11\",\"169795588\",\"250000000\",\"100000000\",\"0\",\"247000000\",\"84000000\",\"48166000\",\"500000\",\"21000000\",\"1000000\",\"13140000\",\"18000000\",\"40000000000\",\"4380000\",\"16555000000\",\"21000000000\",\"13500000000\",\"21000000\",\"299792458\",\"32000000\",\"0\",\"0\",\"11235813\",\"336000000\",\"1420609614\",\"70000000\",\"72245700\",\"120000000\",\"0\",\"90600000000\",\"22000000\",\"21000000\",\"265420800\",\"20000000\",\"1350000\",\"100000000\",\"42000000\",\"200000000\",\"0\",\"10000000\",\"2419200000\",\"16180000\",\"0\",\"15000000000\",\"21000000\",\"337000000\",\"0\",\"3770000\",\"420000000\",\"98000000\",\"0\",\"21000000\",\"250000000\",\"51200000\",\"0\",\"1000\",\"888000000\",\"100000000\",\"47011968\",\"2300000000\",\"10000000\",\"42000000\",\"80000000\",\"250000\",\"0\",\"1600000000\",\"100000000\",\"23000000\",\"0\",\"84000000\",\"265420800\",\"5500000\",\"0\",\"45000000\",\"0\",\"1000000000\",\"1.84467E+11\",\"10000000000\",\"2158812800\",\"500000000\",\"105120000\",\"68000000\",\"0\",\"1680000000\",\"0\",\"166386000\",\"12000000\",\"2628000\",\"500000000\",\"160000000\",\"0\",\"10000000\",\"1000000000\",\"1000000000\",\"20000000\",\"0\",\"0\",\"3371337\",\"20000000\",\"10000000000\",\"1840000000\",\"619478\",\"21000000\",\"92000000000\",\"0\",\"78000000\",\"33000000\",\"65789100\",\"53760000\",\"5060000\",\"21000000\",\"0\",\"210240000\",\"250000000\",\"100000000\",\"16906397\",\"50000000\",\"0\",\"1000000000\",\"26298000\",\"16000000\",\"21000000\",\"21000000\",\"210000000\",\"81962100\",\"22000000\",\"26550000000\",\"84000000\",\"10500000\",\"21626280000\",\"0\",\"42000000\",\"221052632\",\"84000000\",\"30000000\",\"168351300\",\"24000000\",\"384000000\",\"99000000000\",\"40000000\",\"2147483647\",\"20000000\",\"20000000\",\"25000000\",\"75000000\",\"222725000\",\"525000000\",\"90000000\",\"139000000\",\"616448\",\"33500000\",\"2000000000\",\"44333333\",\"100000000\",\"200000000\",\"25000000\",\"657000000\",\"200000000\",\"50000000\",\"90000000\",\"10000000\",\"21000000\",\"9736000\",\"3000000\",\"21000000\",\"1200000000\",\"0\",\"200000000\",\"0\",\"10638298\",\"3100000000\",\"30000000\",\"20000000000\",\"74000000\",\"0\",\"1500000000\",\"21400000\",\"39999898\",\"2500124\",\"100000000\",\"301000000\",\"7506000000\",\"26205539\",\"21000000\",\"125000000\",\"30000000\",\"10000000000\",\"500000000\",\"850000000\",\"3853326.777\",\"50000000\",\"38540000\",\"42000000\",\"228000000\",\"20000000\",\"60000000\",\"20000000\",\"33000000\",\"76500000\",\"28000000\",\"650659833\",\"5000000\",\"21000000\",\"144000000\",\"32514916898\",\"13000000\",\"3315789\",\"15000000\",\"78835200\",\"2714286\",\"25000000\",\"9999999\",\"500000000\",\"21000000\",\"9354000\",\"20000000\",\"1E+11\",\"21933333\",\"185000000\",\"55000000\",\"110000000\",\"3360000\",\"14524851.48\",\"1000000000\",\"17000000\",\"1000000000\",\"100000000\",\"21000000\",\"34426423\",\"2232901\",\"100000000\",\"36900000\",\"110000000\",\"4000000000\",\"110290030\",\"100000000\",\"48252000\",\"400000000\",\"500000000\",\"21212121\",\"28600000\",\"1000000000\",\"75000000000\",\"40000000\",\"35520400\",\"2000000000\",\"2500000000\",\"30000000\",\"105000000\",\"90000000000\",\"200084200\",\"72000000\",\"100000000\",\"105000000\",\"50000000000\",\"0\",\"340282367\",\"30000000\",\"2000000000\",\"10000000\",\"100000000\",\"120000000\",\"100000000\",\"19276800\",\"30000000\",\"75000000\",\"60000000\",\"18900000\",\"50000000000\",\"54000000\",\"18898187.62\",\"21000000\",\"2E+11\",\"5000000000\",\"137500000\",\"1100000000\",\"100000000\",\"21000000\",\"9507271\",\"17405891.2\",\"86712634466\",\"10500000000\",\"61599965\",\"0\",\"20000000\",\"84000000\",\"100000000\",\"100000000\",\"48252000\",\"4200000\",\"88888888\",\"91388946\",\"45000000000\",\"27000000\",\"21000000000\",\"400000000\",\"1800000000\",\"15733333\",\"27000000\",\"24000000\",\"21000000\",\"25000000000\",\"100000000\",\"1200000000\",\"60000000\",\"156306732.7\",\"21000000\",\"200000000\",\"100000000\",\"21000000\",\"14788275.99\",\"9000000000\",\"350000000\",\"45000000\",\"280000000\",\"31800000\",\"144000000\",\"500000000\",\"30000000000\",\"210000000\",\"660000000\",\"210000000\",\"85000000000\",\"12500000\",\"10000000000\",\"27716121\",\"20000000\",\"550000000\",\"999481516\",\"50000000000\",\"150000000\",\"4999999999\",\"50000000\",\"90000000000\",\"19800000\",\"21000000\",\"120000000\",\"500000000\",\"64000000\",\"900000000\",\"4000000\",\"21000000\",\"23000000\",\"20166000\",\"23000000\",\"25000000\",\"1618033\",\"30000000\",\"1E+12\",\"16600000\",\"232000000\",\"336000000\",\"10000000000\",\"100000000\",\"1100000000\",\"800000000\",\"5200000000\",\"840000000\",\"40000000\",\"18406979840\",\"500000000\",\"19340594\",\"252460800\",\"25000000\",\"60000000\",\"124000000\",\"1000000000\",\"6500000000\",\"1000000000\",\"21000000\",\"25000000\",\"50000000\",\"3000000\",\"5000000\",\"70000000\",\"500000000\",\"300000000\",\"21000000\",\"88000000\",\"30000000\",\"100000000\",\"100000000\",\"200000000\",\"80000000\",\"18400000\",\"45000000\",\"5121951220\",\"21000000\",\"26280000\",\"21000000\",\"18000000\",\"26000000\",\"10500000\",\"600000518\",\"150000000\",\"1.84E+11\",\"10200000000\",\"44000000\",\"168000000\",\"100000000\",\"1000000000\",\"84000000\",\"90000000\",\"92000000000\",\"650000000\",\"100262205\",\"18081806\",\"22075700\",\"21000000\",\"21000000\",\"82546564\",\"21000000\",\"5151000\",\"16880000000\",\"52500000\",\"100000000\",\"22105263\",\"1000000000\",\"1750000000\",\"88188888\",\"210000000\",\"1.8447E+11\",\"55000000\",\"50000000\",\"260000000\",\"210000000\",\"2100000000\",\"366000000\",\"100000000\",\"25000000\",\"18000000000\",\"1000000000\",\"100000000\",\"1000000000\",\"7600000000\",\"50000000\",\"84000000\",\"21000000\",\"70000000000\",\"0\",\"8080000000\",\"54000000\",\"105120001.4\",\"25228800\",\"105000000\",\"21000000\",\"120000000\",\"21000000\",\"262800000\",\"19035999\",\"30886000\",\"13370000\",\"74800000000\",\"100000000\",\"19700000\",\"84000000\",\"500000000\",\"5000000000\",\"420000000\",\"64000000\",\"2100000\",\"168000000\",\"30000000\",\"1000000000\",\"35000000000\",\"98100000000\",\"0\",\"4000000000\",\"200000000\",\"7000000000\",\"54256119\",\"21000000\",\"0\",\"500000000\",\"1000000000\",\"10500000000\",\"190000000\",\"1000000000\",\"42000000\",\"15000000\",\"50000000000\",\"400000000\",\"105000000\",\"208000000\",\"160000000\",\"9000000\",\"5000000\",\"182000000\",\"16504333\",\"105000000\",\"159918400\",\"10008835635\",\"300000000\",\"60168145\",\"2800000\",\"120000\",\"2100000000\",\"0\",\"24487944\",\"0\",\"1000000000\",\"100000000\",\"8634140\",\"9.9E+11\",\"1000000000\",\"2000000000\",\"250000000\",\"1400222610\",\"21000000\",\"1000000\"],\"TotalCoinsMined\":{\"__ndarray__\":\"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\",\"dtype\":\"float64\",\"order\":\"little\",\"shape\":[532]}},\"selected\":{\"id\":\"2672\"},\"selection_policy\":{\"id\":\"2706\"}},\"id\":\"2671\",\"type\":\"ColumnDataSource\"},{\"attributes\":{},\"id\":\"2683\",\"type\":\"StringFormatter\"},{\"attributes\":{},\"id\":\"2699\",\"type\":\"IntEditor\"},{\"attributes\":{\"children\":[{\"id\":\"2670\"},{\"id\":\"2703\"},{\"id\":\"2710\"}],\"margin\":[0,0,0,0],\"name\":\"Row05000\",\"tags\":[\"embedded\"]},\"id\":\"2669\",\"type\":\"Row\"},{\"attributes\":{},\"id\":\"2688\",\"type\":\"StringFormatter\"},{\"attributes\":{\"editor\":{\"id\":\"2679\"},\"field\":\"Algorithm\",\"formatter\":{\"id\":\"2678\"},\"title\":\"Algorithm\"},\"id\":\"2680\",\"type\":\"TableColumn\"},{\"attributes\":{\"editor\":{\"id\":\"2699\"},\"field\":\"Class\",\"formatter\":{\"id\":\"2698\"},\"title\":\"Class\"},\"id\":\"2700\",\"type\":\"TableColumn\"},{\"attributes\":{\"source\":{\"id\":\"2671\"}},\"id\":\"2705\",\"type\":\"CDSView\"},{\"attributes\":{\"margin\":[5,5,5,5],\"name\":\"HSpacer05005\",\"sizing_mode\":\"stretch_width\"},\"id\":\"2710\",\"type\":\"Spacer\"},{\"attributes\":{\"margin\":[5,5,5,5],\"name\":\"HSpacer05004\",\"sizing_mode\":\"stretch_width\"},\"id\":\"2670\",\"type\":\"Spacer\"},{\"attributes\":{\"columns\":[{\"id\":\"2675\"},{\"id\":\"2680\"},{\"id\":\"2685\"},{\"id\":\"2690\"},{\"id\":\"2695\"},{\"id\":\"2700\"}],\"height\":300,\"reorderable\":false,\"source\":{\"id\":\"2671\"},\"view\":{\"id\":\"2705\"},\"width\":700},\"id\":\"2703\",\"type\":\"DataTable\"},{\"attributes\":{\"editor\":{\"id\":\"2694\"},\"field\":\"TotalCoinsMined\",\"formatter\":{\"id\":\"2693\"},\"title\":\"TotalCoinsMined\"},\"id\":\"2695\",\"type\":\"TableColumn\"},{\"attributes\":{},\"id\":\"2672\",\"type\":\"Selection\"},{\"attributes\":{\"editor\":{\"id\":\"2689\"},\"field\":\"TotalCoinSupply\",\"formatter\":{\"id\":\"2688\"},\"title\":\"TotalCoinSupply\"},\"id\":\"2690\",\"type\":\"TableColumn\"},{\"attributes\":{},\"id\":\"2706\",\"type\":\"UnionRenderers\"},{\"attributes\":{},\"id\":\"2674\",\"type\":\"StringEditor\"},{\"attributes\":{\"editor\":{\"id\":\"2674\"},\"field\":\"CoinName\",\"formatter\":{\"id\":\"2673\"},\"title\":\"CoinName\"},\"id\":\"2675\",\"type\":\"TableColumn\"},{\"attributes\":{},\"id\":\"2698\",\"type\":\"NumberFormatter\"},{\"attributes\":{},\"id\":\"2678\",\"type\":\"StringFormatter\"}],\"root_ids\":[\"2669\"]},\"title\":\"Bokeh Application\",\"version\":\"2.4.2\"}};\n",
       "    var render_items = [{\"docid\":\"97dc02ca-bcf8-4a61-8639-6ea0390c9a9c\",\"root_ids\":[\"2669\"],\"roots\":{\"2669\":\"50828def-1f59-4744-81d6-4f1b0fe189b5\"}}];\n",
       "    root.Bokeh.embed.embed_items_notebook(docs_json, render_items);\n",
       "  }\n",
       "  if (root.Bokeh !== undefined && root.Bokeh.Panel !== undefined) {\n",
       "    embed_document(root);\n",
       "  } else {\n",
       "    var attempts = 0;\n",
       "    var timer = setInterval(function(root) {\n",
       "      if (root.Bokeh !== undefined && root.Bokeh.Panel !== undefined) {\n",
       "        clearInterval(timer);\n",
       "        embed_document(root);\n",
       "      } else if (document.readyState == \"complete\") {\n",
       "        attempts++;\n",
       "        if (attempts > 200) {\n",
       "          clearInterval(timer);\n",
       "          console.log(\"Bokeh: ERROR: Unable to run BokehJS code because BokehJS library is missing\");\n",
       "        }\n",
       "      }\n",
       "    }, 25, root)\n",
       "  }\n",
       "})(window);</script>"
      ],
      "text/plain": [
       ":Table   [CoinName,Algorithm,ProofType,TotalCoinSupply,TotalCoinsMined,Class]"
      ]
     },
     "execution_count": 229,
     "metadata": {
      "application/vnd.holoviews_exec.v0+json": {
       "id": "2669"
      }
     },
     "output_type": "execute_result"
    }
   ],
   "source": [
    "# Create a table with tradable cryptocurrencies.\n",
    "tradable_table = clustered_df.hvplot.table(columns=[\"CoinName\",\"Algorithm\",\"ProofType\",\"TotalCoinSupply\",\"TotalCoinsMined\",\"Class\"])\n",
    "tradable_table"
   ]
  },
  {
   "cell_type": "code",
   "execution_count": 230,
   "metadata": {},
   "outputs": [
    {
     "name": "stdout",
     "output_type": "stream",
     "text": [
      "There are 532 tradable cryptocurrencies.\n"
     ]
    }
   ],
   "source": [
    "# Print the total number of tradable cryptocurrencies.\n",
    "print(f\"There are {len(clustered_df)} tradable cryptocurrencies.\")"
   ]
  },
  {
   "cell_type": "code",
   "execution_count": 232,
   "metadata": {},
   "outputs": [
    {
     "name": "stdout",
     "output_type": "stream",
     "text": [
      "[[4.20000000e-11 0.00000000e+00]\n",
      " [5.32000000e-04 1.06585514e-03]\n",
      " [3.14159000e-01 2.95755050e-02]\n",
      " ...\n",
      " [1.40022261e-03 9.90134792e-04]\n",
      " [2.10000000e-05 7.37027937e-06]\n",
      " [1.00000000e-06 1.29582244e-07]]\n"
     ]
    }
   ],
   "source": [
    "# Scaling data to create the scatter plot with tradable cryptocurrencies.\n",
    "coins = clustered_df[[\"TotalCoinSupply\",\"TotalCoinsMined\"]]\n",
    "\n",
    "scaled_coins = MinMaxScaler().fit_transform(coins)\n",
    "print(scaled_coins)"
   ]
  },
  {
   "cell_type": "code",
   "execution_count": 233,
   "metadata": {},
   "outputs": [
    {
     "data": {
      "text/html": [
       "<div>\n",
       "<style scoped>\n",
       "    .dataframe tbody tr th:only-of-type {\n",
       "        vertical-align: middle;\n",
       "    }\n",
       "\n",
       "    .dataframe tbody tr th {\n",
       "        vertical-align: top;\n",
       "    }\n",
       "\n",
       "    .dataframe thead th {\n",
       "        text-align: right;\n",
       "    }\n",
       "</style>\n",
       "<table border=\"1\" class=\"dataframe\">\n",
       "  <thead>\n",
       "    <tr style=\"text-align: right;\">\n",
       "      <th></th>\n",
       "      <th>TotalCoinSupply</th>\n",
       "      <th>TotalCoinsMined</th>\n",
       "      <th>CoinName</th>\n",
       "      <th>Class</th>\n",
       "    </tr>\n",
       "    <tr>\n",
       "      <th></th>\n",
       "      <th></th>\n",
       "      <th></th>\n",
       "      <th></th>\n",
       "      <th></th>\n",
       "    </tr>\n",
       "  </thead>\n",
       "  <tbody>\n",
       "    <tr>\n",
       "      <th>42</th>\n",
       "      <td>4.200000e-11</td>\n",
       "      <td>0.000000</td>\n",
       "      <td>42 Coin</td>\n",
       "      <td>1</td>\n",
       "    </tr>\n",
       "    <tr>\n",
       "      <th>404</th>\n",
       "      <td>5.320000e-04</td>\n",
       "      <td>0.001066</td>\n",
       "      <td>404Coin</td>\n",
       "      <td>1</td>\n",
       "    </tr>\n",
       "    <tr>\n",
       "      <th>1337</th>\n",
       "      <td>3.141590e-01</td>\n",
       "      <td>0.029576</td>\n",
       "      <td>EliteCoin</td>\n",
       "      <td>1</td>\n",
       "    </tr>\n",
       "    <tr>\n",
       "      <th>BTC</th>\n",
       "      <td>2.100000e-05</td>\n",
       "      <td>0.000018</td>\n",
       "      <td>Bitcoin</td>\n",
       "      <td>0</td>\n",
       "    </tr>\n",
       "    <tr>\n",
       "      <th>ETH</th>\n",
       "      <td>0.000000e+00</td>\n",
       "      <td>0.000109</td>\n",
       "      <td>Ethereum</td>\n",
       "      <td>0</td>\n",
       "    </tr>\n",
       "    <tr>\n",
       "      <th>LTC</th>\n",
       "      <td>8.400000e-05</td>\n",
       "      <td>0.000064</td>\n",
       "      <td>Litecoin</td>\n",
       "      <td>0</td>\n",
       "    </tr>\n",
       "    <tr>\n",
       "      <th>DASH</th>\n",
       "      <td>2.200000e-05</td>\n",
       "      <td>0.000009</td>\n",
       "      <td>Dash</td>\n",
       "      <td>1</td>\n",
       "    </tr>\n",
       "    <tr>\n",
       "      <th>XMR</th>\n",
       "      <td>0.000000e+00</td>\n",
       "      <td>0.000017</td>\n",
       "      <td>Monero</td>\n",
       "      <td>0</td>\n",
       "    </tr>\n",
       "    <tr>\n",
       "      <th>ETC</th>\n",
       "      <td>2.100000e-04</td>\n",
       "      <td>0.000115</td>\n",
       "      <td>Ethereum Classic</td>\n",
       "      <td>0</td>\n",
       "    </tr>\n",
       "    <tr>\n",
       "      <th>ZEC</th>\n",
       "      <td>2.100000e-05</td>\n",
       "      <td>0.000007</td>\n",
       "      <td>ZCash</td>\n",
       "      <td>0</td>\n",
       "    </tr>\n",
       "  </tbody>\n",
       "</table>\n",
       "</div>"
      ],
      "text/plain": [
       "      TotalCoinSupply  TotalCoinsMined          CoinName  Class\n",
       "                                                               \n",
       "42       4.200000e-11         0.000000           42 Coin      1\n",
       "404      5.320000e-04         0.001066           404Coin      1\n",
       "1337     3.141590e-01         0.029576         EliteCoin      1\n",
       "BTC      2.100000e-05         0.000018           Bitcoin      0\n",
       "ETH      0.000000e+00         0.000109          Ethereum      0\n",
       "LTC      8.400000e-05         0.000064          Litecoin      0\n",
       "DASH     2.200000e-05         0.000009              Dash      1\n",
       "XMR      0.000000e+00         0.000017            Monero      0\n",
       "ETC      2.100000e-04         0.000115  Ethereum Classic      0\n",
       "ZEC      2.100000e-05         0.000007             ZCash      0"
      ]
     },
     "execution_count": 233,
     "metadata": {},
     "output_type": "execute_result"
    }
   ],
   "source": [
    "# Create a new DataFrame that has the scaled data with the clustered_df DataFrame index.\n",
    "scaled_df = pd.DataFrame(scaled_coins, columns=[\"TotalCoinSupply\",\"TotalCoinsMined\"], index=clustered_df.index)\n",
    "\n",
    "# Add the \"CoinName\" column from the clustered_df DataFrame to the new DataFrame.\n",
    "scaled_df[\"CoinName\"] = clustered_df[\"CoinName\"]\n",
    "\n",
    "# Add the \"Class\" column from the clustered_df DataFrame to the new DataFrame.\n",
    "scaled_df[\"Class\"] = clustered_df[\"Class\"]\n",
    "\n",
    "# View the first 10 rows of the resulting dataframe\n",
    "scaled_df.head(10)"
   ]
  },
  {
   "cell_type": "code",
   "execution_count": 234,
   "metadata": {},
   "outputs": [
    {
     "data": {},
     "metadata": {},
     "output_type": "display_data"
    },
    {
     "data": {
      "application/vnd.holoviews_exec.v0+json": "",
      "text/html": [
       "<div id='2722'>\n",
       "\n",
       "\n",
       "\n",
       "\n",
       "\n",
       "  <div class=\"bk-root\" id=\"385ead99-c770-4a81-a85f-a5f60a473854\" data-root-id=\"2722\"></div>\n",
       "</div>\n",
       "<script type=\"application/javascript\">(function(root) {\n",
       "  function embed_document(root) {\n",
       "    var docs_json = {\"cf94151b-141f-4060-b21c-2cad7f86c47b\":{\"defs\":[{\"extends\":null,\"module\":null,\"name\":\"ReactiveHTML1\",\"overrides\":[],\"properties\":[]},{\"extends\":null,\"module\":null,\"name\":\"FlexBox1\",\"overrides\":[],\"properties\":[{\"default\":\"flex-start\",\"kind\":null,\"name\":\"align_content\"},{\"default\":\"flex-start\",\"kind\":null,\"name\":\"align_items\"},{\"default\":\"row\",\"kind\":null,\"name\":\"flex_direction\"},{\"default\":\"wrap\",\"kind\":null,\"name\":\"flex_wrap\"},{\"default\":\"flex-start\",\"kind\":null,\"name\":\"justify_content\"}]},{\"extends\":null,\"module\":null,\"name\":\"TemplateActions1\",\"overrides\":[],\"properties\":[{\"default\":0,\"kind\":null,\"name\":\"open_modal\"},{\"default\":0,\"kind\":null,\"name\":\"close_modal\"}]},{\"extends\":null,\"module\":null,\"name\":\"MaterialTemplateActions1\",\"overrides\":[],\"properties\":[{\"default\":0,\"kind\":null,\"name\":\"open_modal\"},{\"default\":0,\"kind\":null,\"name\":\"close_modal\"}]}],\"roots\":{\"references\":[{\"attributes\":{},\"id\":\"2751\",\"type\":\"ResetTool\"},{\"attributes\":{},\"id\":\"2810\",\"type\":\"Selection\"},{\"attributes\":{\"overlay\":{\"id\":\"2752\"}},\"id\":\"2750\",\"type\":\"BoxZoomTool\"},{\"attributes\":{\"callback\":null,\"renderers\":[{\"id\":\"2772\"},{\"id\":\"2793\"},{\"id\":\"2815\"},{\"id\":\"2839\"}],\"tags\":[\"hv_created\"],\"tooltips\":[[\"Class\",\"@{Class}\"],[\"TotalCoinsMined\",\"@{TotalCoinsMined}\"],[\"TotalCoinSupply\",\"@{TotalCoinSupply}\"],[\"CoinName\",\"@{CoinName}\"]]},\"id\":\"2726\",\"type\":\"HoverTool\"},{\"attributes\":{},\"id\":\"2788\",\"type\":\"Selection\"},{\"attributes\":{},\"id\":\"2828\",\"type\":\"UnionRenderers\"},{\"attributes\":{\"angle\":{\"value\":0.0},\"fill_alpha\":{\"value\":1.0},\"fill_color\":{\"value\":\"#30a2da\"},\"hatch_alpha\":{\"value\":1.0},\"hatch_color\":{\"value\":\"#30a2da\"},\"hatch_scale\":{\"value\":12.0},\"hatch_weight\":{\"value\":1.0},\"line_alpha\":{\"value\":1.0},\"line_cap\":{\"value\":\"butt\"},\"line_color\":{\"value\":\"#30a2da\"},\"line_dash\":{\"value\":[]},\"line_dash_offset\":{\"value\":0},\"line_join\":{\"value\":\"bevel\"},\"line_width\":{\"value\":1},\"marker\":{\"value\":\"circle\"},\"size\":{\"value\":5.477225575051661},\"x\":{\"field\":\"TotalCoinsMined\"},\"y\":{\"field\":\"TotalCoinSupply\"}},\"id\":\"2786\",\"type\":\"Scatter\"},{\"attributes\":{\"fill_alpha\":{\"value\":0.2},\"fill_color\":{\"value\":\"#30a2da\"},\"hatch_alpha\":{\"value\":0.2},\"hatch_color\":{\"value\":\"#30a2da\"},\"line_alpha\":{\"value\":0.2},\"line_color\":{\"value\":\"#30a2da\"},\"size\":{\"value\":5.477225575051661},\"x\":{\"field\":\"TotalCoinsMined\"},\"y\":{\"field\":\"TotalCoinSupply\"}},\"id\":\"2771\",\"type\":\"Scatter\"},{\"attributes\":{\"children\":[{\"id\":\"2723\"},{\"id\":\"2730\"},{\"id\":\"3003\"}],\"margin\":[0,0,0,0],\"name\":\"Row05190\",\"tags\":[\"embedded\"]},\"id\":\"2722\",\"type\":\"Row\"},{\"attributes\":{\"data\":{\"Class\":[0,0,0,0,0,0,0,0,0,0,0,0,0,0,0,0,0,0,0,0,0,0,0,0,0,0,0,0,0,0,0,0,0,0,0,0,0,0,0,0,0,0,0,0,0,0,0,0,0,0,0,0,0,0,0,0,0,0,0,0,0,0,0,0,0,0,0,0,0,0,0,0,0,0,0,0,0,0,0,0,0,0,0,0,0,0,0,0,0,0,0,0,0,0,0,0,0,0,0,0,0,0,0,0,0,0,0,0,0,0,0,0,0,0,0,0,0,0,0,0,0,0,0,0,0,0,0,0,0,0,0,0,0,0,0,0,0,0,0,0,0,0,0,0,0,0,0,0,0,0,0,0,0,0,0,0,0,0,0,0,0,0,0,0,0,0,0,0,0,0,0,0,0,0,0,0,0,0,0,0,0,0,0,0,0,0,0,0,0,0,0,0,0,0,0,0,0,0,0,0,0,0,0,0,0,0,0,0,0,0,0,0,0,0,0,0,0,0,0,0,0,0,0,0,0,0,0,0,0,0,0,0,0,0,0,0,0,0,0,0],\"CoinName\":[\"Bitcoin\",\"Ethereum\",\"Litecoin\",\"Monero\",\"Ethereum Classic\",\"ZCash\",\"DigiByte\",\"ProsperCoin\",\"Spreadcoin\",\"Argentum\",\"MyriadCoin\",\"MoonCoin\",\"ZetaCoin\",\"SexCoin\",\"Quatloo\",\"QuarkCoin\",\"Riecoin\",\"Digitalcoin \",\"Catcoin\",\"CannaCoin\",\"CryptCoin\",\"Verge\",\"DevCoin\",\"EarthCoin\",\"E-Gulden\",\"Einsteinium\",\"Emerald\",\"Franko\",\"FeatherCoin\",\"GrandCoin\",\"GlobalCoin\",\"GoldCoin\",\"Infinite Coin\",\"IXcoin\",\"KrugerCoin\",\"LuckyCoin\",\"Litebar \",\"MegaCoin\",\"MediterraneanCoin\",\"MinCoin\",\"NobleCoin\",\"Namecoin\",\"NyanCoin\",\"RonPaulCoin\",\"StableCoin\",\"SmartCoin\",\"SysCoin\",\"TigerCoin\",\"TerraCoin\",\"UnbreakableCoin\",\"Unobtanium\",\"UroCoin\",\"ViaCoin\",\"Vertcoin\",\"WorldCoin\",\"JouleCoin\",\"ByteCoin\",\"DigitalNote \",\"BurstCoin\",\"MonaCoin\",\"Gulden\",\"PesetaCoin\",\"Wild Beast Coin\",\"Flo\",\"ArtByte\",\"Folding Coin\",\"Unitus\",\"CypherPunkCoin\",\"OmniCron\",\"GreenCoin\",\"Cryptonite\",\"MasterCoin\",\"SoonCoin\",\"1Credit\",\"MarsCoin \",\"Crypto\",\"Anarchists Prime\",\"BowsCoin\",\"Song Coin\",\"BitZeny\",\"Expanse\",\"Siacoin\",\"MindCoin\",\"I0coin\",\"Revolution VR\",\"HOdlcoin\",\"Gamecredits\",\"CarpeDiemCoin\",\"Adzcoin\",\"SoilCoin\",\"YoCoin\",\"SibCoin\",\"Francs\",\"BolivarCoin\",\"Omni\",\"PizzaCoin\",\"Komodo\",\"Karbo\",\"ZayedCoin\",\"Circuits of Value\",\"DopeCoin\",\"DollarCoin\",\"Shilling\",\"ZCoin\",\"Elementrem\",\"ZClassic\",\"KiloCoin\",\"ArtexCoin\",\"Kurrent\",\"Cannabis Industry Coin\",\"OsmiumCoin\",\"Bikercoins\",\"HexxCoin\",\"PacCoin\",\"Citadel\",\"BeaverCoin\",\"VaultCoin\",\"Zero\",\"Canada eCoin\",\"Zoin\",\"DubaiCoin\",\"EB3coin\",\"Coinonat\",\"BenjiRolls\",\"ILCoin\",\"EquiTrader\",\"Quantum Resistant Ledger\",\"Dynamic\",\"Nano\",\"ChanCoin\",\"Dinastycoin\",\"DigitalPrice\",\"Unify\",\"SocialCoin\",\"ArcticCoin\",\"DAS\",\"LeviarCoin\",\"Bitcore\",\"gCn Coin\",\"SmartCash\",\"Onix\",\"Bitcoin Cash\",\"Sojourn Coin\",\"NewYorkCoin\",\"FrazCoin\",\"Kronecoin\",\"AdCoin\",\"Linx\",\"Sumokoin\",\"BitcoinZ\",\"Elements\",\"VIVO Coin\",\"Bitcoin Gold\",\"Pirl\",\"eBoost\",\"Pura\",\"Innova\",\"Ellaism\",\"GoByte\",\"SHIELD\",\"UltraNote\",\"BitCoal\",\"DaxxCoin\",\"AC3\",\"Lethean\",\"PopularCoin\",\"Photon\",\"Sucre\",\"SparksPay\",\"GunCoin\",\"IrishCoin\",\"Pioneer Coin\",\"UnitedBitcoin\",\"Interzone\",\"TurtleCoin\",\"MUNcoin\",\"Niobio Cash\",\"ShareChain\",\"Travelflex\",\"KREDS\",\"BitFlip\",\"LottoCoin\",\"Crypto Improvement Fund\",\"Callisto Network\",\"BitTube\",\"Poseidon\",\"Aidos Kuneen\",\"Bitrolium\",\"Alpenschillling\",\"FuturoCoin\",\"Monero Classic\",\"Jumpcoin\",\"Infinex\",\"KEYCO\",\"GINcoin\",\"PlatinCoin\",\"Loki\",\"Newton Coin\",\"MassGrid\",\"PluraCoin\",\"Motion\",\"PlusOneCoin\",\"Axe\",\"HexCoin\",\"Webchain\",\"Ryo\",\"Urals Coin\",\"Qwertycoin\",\"Project Pai\",\"Azart\",\"Xchange\",\"CrypticCoin\",\"Actinium\",\"Bitcoin SV\",\"FREDEnergy\",\"Universal Molecule\",\"Lithium\",\"PirateCash\",\"Exosis\",\"Block-Logic\",\"Beam\",\"Bithereum\",\"SLICE\",\"BLAST\",\"Bitcoin Rhodium\",\"GlobalToken\",\"SolarCoin\",\"UFO Coin\",\"BlakeCoin\",\"Crypto Escudo\",\"Crown Coin\",\"SmileyCoin\",\"Groestlcoin\",\"Bata\",\"Pakcoin\",\"JoinCoin\",\"Vollar\",\"Reality Clash\",\"Beldex\",\"Horizen\"],\"TotalCoinSupply\":{\"__ndarray__\":\"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\",\"dtype\":\"float64\",\"order\":\"little\",\"shape\":[240]},\"TotalCoinsMined\":{\"__ndarray__\":\"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\",\"dtype\":\"float64\",\"order\":\"little\",\"shape\":[240]}},\"selected\":{\"id\":\"2767\"},\"selection_policy\":{\"id\":\"2781\"}},\"id\":\"2766\",\"type\":\"ColumnDataSource\"},{\"attributes\":{\"fill_alpha\":{\"value\":0.1},\"fill_color\":{\"value\":\"#fc4f30\"},\"hatch_alpha\":{\"value\":0.1},\"hatch_color\":{\"value\":\"#fc4f30\"},\"line_alpha\":{\"value\":0.1},\"line_color\":{\"value\":\"#fc4f30\"},\"size\":{\"value\":5.477225575051661},\"x\":{\"field\":\"TotalCoinsMined\"},\"y\":{\"field\":\"TotalCoinSupply\"}},\"id\":\"2791\",\"type\":\"Scatter\"},{\"attributes\":{\"angle\":{\"value\":0.0},\"fill_alpha\":{\"value\":1.0},\"fill_color\":{\"value\":\"#6d904f\"},\"hatch_alpha\":{\"value\":1.0},\"hatch_color\":{\"value\":\"#6d904f\"},\"hatch_scale\":{\"value\":12.0},\"hatch_weight\":{\"value\":1.0},\"line_alpha\":{\"value\":1.0},\"line_cap\":{\"value\":\"butt\"},\"line_color\":{\"value\":\"#6d904f\"},\"line_dash\":{\"value\":[]},\"line_dash_offset\":{\"value\":0},\"line_join\":{\"value\":\"bevel\"},\"line_width\":{\"value\":1},\"marker\":{\"value\":\"circle\"},\"size\":{\"value\":5.477225575051661},\"x\":{\"field\":\"TotalCoinsMined\"},\"y\":{\"field\":\"TotalCoinSupply\"}},\"id\":\"2858\",\"type\":\"Scatter\"},{\"attributes\":{\"label\":{\"value\":\"2\"},\"renderers\":[{\"id\":\"2815\"}]},\"id\":\"2831\",\"type\":\"LegendItem\"},{\"attributes\":{\"tools\":[{\"id\":\"2726\"},{\"id\":\"2747\"},{\"id\":\"2748\"},{\"id\":\"2749\"},{\"id\":\"2750\"},{\"id\":\"2751\"}]},\"id\":\"2753\",\"type\":\"Toolbar\"},{\"attributes\":{\"source\":{\"id\":\"2766\"}},\"id\":\"2773\",\"type\":\"CDSView\"},{\"attributes\":{\"bottom_units\":\"screen\",\"coordinates\":null,\"fill_alpha\":0.5,\"fill_color\":\"lightgrey\",\"group\":null,\"left_units\":\"screen\",\"level\":\"overlay\",\"line_alpha\":1.0,\"line_color\":\"black\",\"line_dash\":[4,4],\"line_width\":2,\"right_units\":\"screen\",\"syncable\":false,\"top_units\":\"screen\"},\"id\":\"2752\",\"type\":\"BoxAnnotation\"},{\"attributes\":{\"fill_alpha\":{\"value\":0.2},\"fill_color\":{\"value\":\"#6d904f\"},\"hatch_alpha\":{\"value\":0.2},\"hatch_color\":{\"value\":\"#6d904f\"},\"line_alpha\":{\"value\":0.2},\"line_color\":{\"value\":\"#6d904f\"},\"size\":{\"value\":5.477225575051661},\"x\":{\"field\":\"TotalCoinsMined\"},\"y\":{\"field\":\"TotalCoinSupply\"}},\"id\":\"2838\",\"type\":\"Scatter\"},{\"attributes\":{},\"id\":\"2854\",\"type\":\"UnionRenderers\"},{\"attributes\":{\"fill_color\":{\"value\":\"#30a2da\"},\"hatch_color\":{\"value\":\"#30a2da\"},\"line_color\":{\"value\":\"#30a2da\"},\"size\":{\"value\":5.477225575051661},\"x\":{\"field\":\"TotalCoinsMined\"},\"y\":{\"field\":\"TotalCoinSupply\"}},\"id\":\"2769\",\"type\":\"Scatter\"},{\"attributes\":{\"angle\":{\"value\":0.0},\"fill_alpha\":{\"value\":1.0},\"fill_color\":{\"value\":\"#fc4f30\"},\"hatch_alpha\":{\"value\":1.0},\"hatch_color\":{\"value\":\"#fc4f30\"},\"hatch_scale\":{\"value\":12.0},\"hatch_weight\":{\"value\":1.0},\"line_alpha\":{\"value\":1.0},\"line_cap\":{\"value\":\"butt\"},\"line_color\":{\"value\":\"#fc4f30\"},\"line_dash\":{\"value\":[]},\"line_dash_offset\":{\"value\":0},\"line_join\":{\"value\":\"bevel\"},\"line_width\":{\"value\":1},\"marker\":{\"value\":\"circle\"},\"size\":{\"value\":5.477225575051661},\"x\":{\"field\":\"TotalCoinsMined\"},\"y\":{\"field\":\"TotalCoinSupply\"}},\"id\":\"2808\",\"type\":\"Scatter\"},{\"attributes\":{\"fill_alpha\":{\"value\":0.1},\"fill_color\":{\"value\":\"#6d904f\"},\"hatch_alpha\":{\"value\":0.1},\"hatch_color\":{\"value\":\"#6d904f\"},\"line_alpha\":{\"value\":0.1},\"line_color\":{\"value\":\"#6d904f\"},\"size\":{\"value\":5.477225575051661},\"x\":{\"field\":\"TotalCoinsMined\"},\"y\":{\"field\":\"TotalCoinSupply\"}},\"id\":\"2837\",\"type\":\"Scatter\"},{\"attributes\":{\"label\":{\"value\":\"1\"},\"renderers\":[{\"id\":\"2793\"}]},\"id\":\"2807\",\"type\":\"LegendItem\"},{\"attributes\":{\"coordinates\":null,\"data_source\":{\"id\":\"2833\"},\"glyph\":{\"id\":\"2836\"},\"group\":null,\"hover_glyph\":null,\"muted_glyph\":{\"id\":\"2838\"},\"nonselection_glyph\":{\"id\":\"2837\"},\"selection_glyph\":{\"id\":\"2858\"},\"view\":{\"id\":\"2840\"}},\"id\":\"2839\",\"type\":\"GlyphRenderer\"},{\"attributes\":{\"margin\":[5,5,5,5],\"name\":\"HSpacer05195\",\"sizing_mode\":\"stretch_width\"},\"id\":\"3003\",\"type\":\"Spacer\"},{\"attributes\":{\"margin\":[5,5,5,5],\"name\":\"HSpacer05194\",\"sizing_mode\":\"stretch_width\"},\"id\":\"2723\",\"type\":\"Spacer\"},{\"attributes\":{\"data\":{\"Class\":[1,1,1,1,1,1,1,1,1,1,1,1,1,1,1,1,1,1,1,1,1,1,1,1,1,1,1,1,1,1,1,1,1,1,1,1,1,1,1,1,1,1,1,1,1,1,1,1,1,1,1,1,1,1,1,1,1,1,1,1,1,1,1,1,1,1,1,1,1,1,1,1,1,1,1,1,1,1,1,1,1,1,1,1,1,1,1,1,1,1,1,1,1,1,1,1,1,1,1,1,1,1,1,1,1,1,1,1,1,1,1,1,1,1,1,1,1,1,1,1,1,1,1,1,1,1,1,1,1,1,1,1,1,1,1,1,1,1,1,1,1,1,1,1,1,1,1,1,1,1,1,1,1,1,1,1,1,1,1,1,1,1,1,1,1,1,1,1,1,1,1,1,1,1,1,1,1,1,1,1,1,1,1,1,1,1,1,1,1,1,1,1,1,1,1,1,1,1,1,1,1,1,1,1,1,1,1,1,1,1,1,1,1,1,1,1,1,1,1,1,1,1,1,1,1,1,1,1,1,1,1,1,1,1,1,1,1,1,1,1,1,1,1,1,1,1,1,1,1,1,1,1,1,1,1,1,1,1,1,1,1,1,1,1,1,1,1,1,1,1,1,1,1,1,1,1,1,1,1,1,1,1,1,1,1,1,1,1],\"CoinName\":[\"42 Coin\",\"404Coin\",\"EliteCoin\",\"Dash\",\"Bitshares\",\"BitcoinDark\",\"PayCoin\",\"KoboCoin\",\"Aurora Coin\",\"BlueCoin\",\"EnergyCoin\",\"BitBar\",\"CryptoBullion\",\"CasinoCoin\",\"Diamond\",\"Exclusive Coin\",\"FlutterCoin\",\"HoboNickels\",\"HyperStake\",\"IOCoin\",\"MaxCoin\",\"MintCoin\",\"MazaCoin\",\"Nautilus Coin\",\"NavCoin\",\"OpalCoin\",\"Orbitcoin\",\"PotCoin\",\"PhoenixCoin\",\"Reddcoin\",\"SuperCoin\",\"SyncCoin\",\"TeslaCoin\",\"TittieCoin\",\"TorCoin\",\"UnitaryStatus Dollar\",\"UltraCoin\",\"VeriCoin\",\"X11 Coin\",\"Crypti\",\"StealthCoin\",\"ZCC Coin\",\"StorjCoin\",\"Neutron\",\"FairCoin\",\"RubyCoin\",\"Kore\",\"Dnotes\",\"8BIT Coin\",\"Sativa Coin\",\"Ucoin\",\"Vtorrent\",\"IslaCoin\",\"Nexus\",\"Droidz\",\"Squall Coin\",\"Diggits\",\"Paycon\",\"Emercoin\",\"EverGreenCoin\",\"Decred\",\"EDRCoin\",\"Hitcoin\",\"DubaiCoin\",\"PWR Coin\",\"BillaryCoin\",\"GPU Coin\",\"EuropeCoin\",\"ZeitCoin\",\"SwingCoin\",\"SafeExchangeCoin\",\"Nebuchadnezzar\",\"Ratecoin\",\"Revenu\",\"Clockcoin\",\"VIP Tokens\",\"BitSend\",\"Let it Ride\",\"PutinCoin\",\"iBankCoin\",\"Frankywillcoin\",\"MudraCoin\",\"Lutetium Coin\",\"GoldBlocks\",\"CarterCoin\",\"BitTokens\",\"MustangCoin\",\"ZoneCoin\",\"RootCoin\",\"BitCurrency\",\"Swiscoin\",\"BuzzCoin\",\"Opair\",\"PesoBit\",\"Halloween Coin\",\"CoffeeCoin\",\"RoyalCoin\",\"GanjaCoin V2\",\"TeamUP\",\"LanaCoin\",\"ARK\",\"InsaneCoin\",\"EmberCoin\",\"XenixCoin\",\"FreeCoin\",\"PLNCoin\",\"AquariusCoin\",\"Creatio\",\"Eternity\",\"Eurocoin\",\"BitcoinFast\",\"Stakenet\",\"BitConnect Coin\",\"MoneyCoin\",\"Enigma\",\"Russiacoin\",\"PandaCoin\",\"GameUnits\",\"GAKHcoin\",\"Allsafe\",\"LiteCreed\",\"Klingon Empire Darsek\",\"Internet of People\",\"KushCoin\",\"Printerium\",\"Impeach\",\"Zilbercoin\",\"FirstCoin\",\"FindCoin\",\"OpenChat\",\"RenosCoin\",\"VirtacoinPlus\",\"TajCoin\",\"Impact\",\"Atmos\",\"HappyCoin\",\"MacronCoin\",\"Condensate\",\"Independent Money System\",\"ArgusCoin\",\"LomoCoin\",\"ProCurrency\",\"GoldReserve\",\"GrowthCoin\",\"Phreak\",\"Degas Coin\",\"HTML5 Coin\",\"Ultimate Secure Cash\",\"QTUM\",\"Espers\",\"Denarius\",\"Virta Unique Coin\",\"Bitcoin Planet\",\"BritCoin\",\"Linda\",\"DeepOnion\",\"Signatum\",\"Cream\",\"Monoeci\",\"Draftcoin\",\"Vechain\",\"Stakecoin\",\"CoinonatX\",\"Ethereum Dark\",\"Obsidian\",\"Cardano\",\"Regalcoin\",\"TrezarCoin\",\"TerraNovaCoin\",\"Rupee\",\"WomenCoin\",\"Theresa May Coin\",\"NamoCoin\",\"LUXCoin\",\"Xios\",\"Bitcloud 2.0\",\"KekCoin\",\"BlackholeCoin\",\"Infinity Economics\",\"Magnet\",\"Lamden Tau\",\"Electra\",\"Bitcoin Diamond\",\"Cash & Back Coin\",\"Bulwark\",\"Kalkulus\",\"GermanCoin\",\"LiteCoin Ultra\",\"PhantomX\",\"Digiwage\",\"Trollcoin\",\"Litecoin Plus\",\"Monkey Project\",\"TokenPay\",\"1717 Masonic Commemorative Token\",\"My Big Coin\",\"Unified Society USDEX\",\"Tokyo Coin\",\"BiblePay\",\"Stipend\",\"Pushi\",\"Ellerium\",\"Velox\",\"Ontology\",\"Bitspace\",\"Briacoin\",\"Ignition\",\"MedicCoin\",\"Bitcoin Green\",\"Deviant Coin\",\"Abjcoin\",\"Semux\",\"Carebit\",\"Zealium\",\"Proton\",\"iDealCash\",\"Bitcoin Incognito\",\"HollyWoodCoin\",\"Swisscoin\",\"Xt3ch\",\"TheVig\",\"EmaratCoin\",\"Dekado\",\"Lynx\",\"Poseidon Quark\",\"BitcoinWSpectrum\",\"Muse\",\"Trivechain\",\"Dystem\",\"Giant\",\"Peony Coin\",\"Absolute Coin\",\"Vitae\",\"TPCash\",\"ARENON\",\"EUNO\",\"MMOCoin\",\"Ketan\",\"XDNA\",\"PAXEX\",\"ThunderStake\",\"Kcash\",\"Acute Angle Cloud\",\"Bettex coin\",\"BitMoney\",\"Junson Ming Chan Coin\",\"HerbCoin\",\"Oduwa\",\"Galilel\",\"Crypto Sports\",\"Credit\",\"Dash Platinum\",\"Nasdacoin\",\"Beetle Coin\",\"Titan Coin\",\"Award\",\"Insane Coin\",\"ALAX\",\"LiteDoge\",\"TruckCoin\",\"OrangeCoin\",\"BitstarCoin\",\"NeosCoin\",\"HyperCoin\",\"PinkCoin\",\"AudioCoin\",\"IncaKoin\",\"Piggy Coin\",\"Genstake\",\"XiaoMiCoin\",\"CapriCoin\",\" ClubCoin\",\"Radium\",\"Creditbit \",\"OKCash\",\"Lisk\",\"HiCoin\",\"WhiteCoin\",\"FriendshipCoin\",\"Triangles Coin\",\"EOS\",\"Oxycoin\",\"TigerCash\",\"Particl\",\"Nxt\",\"ZEPHYR\",\"Gapcoin\",\"BitcoinPlus\"],\"TotalCoinSupply\":{\"__ndarray__\":\"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\",\"dtype\":\"float64\",\"order\":\"little\",\"shape\":[288]},\"TotalCoinsMined\":{\"__ndarray__\":\"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\",\"dtype\":\"float64\",\"order\":\"little\",\"shape\":[288]}},\"selected\":{\"id\":\"2788\"},\"selection_policy\":{\"id\":\"2804\"}},\"id\":\"2787\",\"type\":\"ColumnDataSource\"},{\"attributes\":{\"source\":{\"id\":\"2833\"}},\"id\":\"2840\",\"type\":\"CDSView\"},{\"attributes\":{\"label\":{\"value\":\"3\"},\"renderers\":[{\"id\":\"2839\"}]},\"id\":\"2857\",\"type\":\"LegendItem\"},{\"attributes\":{\"fill_color\":{\"value\":\"#fc4f30\"},\"hatch_color\":{\"value\":\"#fc4f30\"},\"line_color\":{\"value\":\"#fc4f30\"},\"size\":{\"value\":5.477225575051661},\"x\":{\"field\":\"TotalCoinsMined\"},\"y\":{\"field\":\"TotalCoinSupply\"}},\"id\":\"2790\",\"type\":\"Scatter\"},{\"attributes\":{},\"id\":\"2744\",\"type\":\"BasicTicker\"},{\"attributes\":{\"below\":[{\"id\":\"2739\"}],\"center\":[{\"id\":\"2742\"},{\"id\":\"2746\"}],\"height\":300,\"left\":[{\"id\":\"2743\"}],\"margin\":[5,5,5,5],\"min_border_bottom\":10,\"min_border_left\":10,\"min_border_right\":10,\"min_border_top\":10,\"renderers\":[{\"id\":\"2772\"},{\"id\":\"2793\"},{\"id\":\"2815\"},{\"id\":\"2839\"}],\"right\":[{\"id\":\"2784\"}],\"sizing_mode\":\"fixed\",\"title\":{\"id\":\"2731\"},\"toolbar\":{\"id\":\"2753\"},\"width\":700,\"x_range\":{\"id\":\"2724\"},\"x_scale\":{\"id\":\"2735\"},\"y_range\":{\"id\":\"2725\"},\"y_scale\":{\"id\":\"2737\"}},\"id\":\"2730\",\"subtype\":\"Figure\",\"type\":\"Plot\"},{\"attributes\":{\"click_policy\":\"mute\",\"coordinates\":null,\"group\":null,\"items\":[{\"id\":\"2785\"},{\"id\":\"2807\"},{\"id\":\"2831\"},{\"id\":\"2857\"}],\"location\":[0,0],\"title\":\"Class\"},\"id\":\"2784\",\"type\":\"Legend\"},{\"attributes\":{\"fill_alpha\":{\"value\":0.1},\"fill_color\":{\"value\":\"#30a2da\"},\"hatch_alpha\":{\"value\":0.1},\"hatch_color\":{\"value\":\"#30a2da\"},\"line_alpha\":{\"value\":0.1},\"line_color\":{\"value\":\"#30a2da\"},\"size\":{\"value\":5.477225575051661},\"x\":{\"field\":\"TotalCoinsMined\"},\"y\":{\"field\":\"TotalCoinSupply\"}},\"id\":\"2770\",\"type\":\"Scatter\"},{\"attributes\":{\"fill_alpha\":{\"value\":0.2},\"fill_color\":{\"value\":\"#fc4f30\"},\"hatch_alpha\":{\"value\":0.2},\"hatch_color\":{\"value\":\"#fc4f30\"},\"line_alpha\":{\"value\":0.2},\"line_color\":{\"value\":\"#fc4f30\"},\"size\":{\"value\":5.477225575051661},\"x\":{\"field\":\"TotalCoinsMined\"},\"y\":{\"field\":\"TotalCoinSupply\"}},\"id\":\"2792\",\"type\":\"Scatter\"},{\"attributes\":{},\"id\":\"2781\",\"type\":\"UnionRenderers\"},{\"attributes\":{\"source\":{\"id\":\"2809\"}},\"id\":\"2816\",\"type\":\"CDSView\"},{\"attributes\":{\"label\":{\"value\":\"0\"},\"renderers\":[{\"id\":\"2772\"}]},\"id\":\"2785\",\"type\":\"LegendItem\"},{\"attributes\":{\"end\":1.1,\"reset_end\":1.1,\"reset_start\":-0.1,\"start\":-0.1,\"tags\":[[[\"TotalCoinSupply\",\"TotalCoinSupply\",null]]]},\"id\":\"2725\",\"type\":\"Range1d\"},{\"attributes\":{\"fill_color\":{\"value\":\"#e5ae38\"},\"hatch_color\":{\"value\":\"#e5ae38\"},\"line_color\":{\"value\":\"#e5ae38\"},\"size\":{\"value\":5.477225575051661},\"x\":{\"field\":\"TotalCoinsMined\"},\"y\":{\"field\":\"TotalCoinSupply\"}},\"id\":\"2812\",\"type\":\"Scatter\"},{\"attributes\":{\"coordinates\":null,\"group\":null,\"text_color\":\"black\",\"text_font_size\":\"12pt\"},\"id\":\"2731\",\"type\":\"Title\"},{\"attributes\":{},\"id\":\"2764\",\"type\":\"BasicTickFormatter\"},{\"attributes\":{\"coordinates\":null,\"data_source\":{\"id\":\"2766\"},\"glyph\":{\"id\":\"2769\"},\"group\":null,\"hover_glyph\":null,\"muted_glyph\":{\"id\":\"2771\"},\"nonselection_glyph\":{\"id\":\"2770\"},\"selection_glyph\":{\"id\":\"2786\"},\"view\":{\"id\":\"2773\"}},\"id\":\"2772\",\"type\":\"GlyphRenderer\"},{\"attributes\":{},\"id\":\"2761\",\"type\":\"BasicTickFormatter\"},{\"attributes\":{},\"id\":\"2735\",\"type\":\"LinearScale\"},{\"attributes\":{},\"id\":\"2834\",\"type\":\"Selection\"},{\"attributes\":{},\"id\":\"2740\",\"type\":\"BasicTicker\"},{\"attributes\":{\"axis\":{\"id\":\"2739\"},\"coordinates\":null,\"grid_line_color\":null,\"group\":null,\"ticker\":null},\"id\":\"2742\",\"type\":\"Grid\"},{\"attributes\":{},\"id\":\"2737\",\"type\":\"LinearScale\"},{\"attributes\":{\"axis_label\":\"TotalCoinSupply\",\"coordinates\":null,\"formatter\":{\"id\":\"2764\"},\"group\":null,\"major_label_policy\":{\"id\":\"2765\"},\"ticker\":{\"id\":\"2744\"}},\"id\":\"2743\",\"type\":\"LinearAxis\"},{\"attributes\":{\"axis_label\":\"TotalCoinsMined\",\"coordinates\":null,\"formatter\":{\"id\":\"2761\"},\"group\":null,\"major_label_policy\":{\"id\":\"2762\"},\"ticker\":{\"id\":\"2740\"}},\"id\":\"2739\",\"type\":\"LinearAxis\"},{\"attributes\":{\"coordinates\":null,\"data_source\":{\"id\":\"2809\"},\"glyph\":{\"id\":\"2812\"},\"group\":null,\"hover_glyph\":null,\"muted_glyph\":{\"id\":\"2814\"},\"nonselection_glyph\":{\"id\":\"2813\"},\"selection_glyph\":{\"id\":\"2832\"},\"view\":{\"id\":\"2816\"}},\"id\":\"2815\",\"type\":\"GlyphRenderer\"},{\"attributes\":{},\"id\":\"2767\",\"type\":\"Selection\"},{\"attributes\":{\"fill_color\":{\"value\":\"#6d904f\"},\"hatch_color\":{\"value\":\"#6d904f\"},\"line_color\":{\"value\":\"#6d904f\"},\"size\":{\"value\":5.477225575051661},\"x\":{\"field\":\"TotalCoinsMined\"},\"y\":{\"field\":\"TotalCoinSupply\"}},\"id\":\"2836\",\"type\":\"Scatter\"},{\"attributes\":{\"axis\":{\"id\":\"2743\"},\"coordinates\":null,\"dimension\":1,\"grid_line_color\":null,\"group\":null,\"ticker\":null},\"id\":\"2746\",\"type\":\"Grid\"},{\"attributes\":{\"fill_alpha\":{\"value\":0.2},\"fill_color\":{\"value\":\"#e5ae38\"},\"hatch_alpha\":{\"value\":0.2},\"hatch_color\":{\"value\":\"#e5ae38\"},\"line_alpha\":{\"value\":0.2},\"line_color\":{\"value\":\"#e5ae38\"},\"size\":{\"value\":5.477225575051661},\"x\":{\"field\":\"TotalCoinsMined\"},\"y\":{\"field\":\"TotalCoinSupply\"}},\"id\":\"2814\",\"type\":\"Scatter\"},{\"attributes\":{\"source\":{\"id\":\"2787\"}},\"id\":\"2794\",\"type\":\"CDSView\"},{\"attributes\":{\"angle\":{\"value\":0.0},\"fill_alpha\":{\"value\":1.0},\"fill_color\":{\"value\":\"#e5ae38\"},\"hatch_alpha\":{\"value\":1.0},\"hatch_color\":{\"value\":\"#e5ae38\"},\"hatch_scale\":{\"value\":12.0},\"hatch_weight\":{\"value\":1.0},\"line_alpha\":{\"value\":1.0},\"line_cap\":{\"value\":\"butt\"},\"line_color\":{\"value\":\"#e5ae38\"},\"line_dash\":{\"value\":[]},\"line_dash_offset\":{\"value\":0},\"line_join\":{\"value\":\"bevel\"},\"line_width\":{\"value\":1},\"marker\":{\"value\":\"circle\"},\"size\":{\"value\":5.477225575051661},\"x\":{\"field\":\"TotalCoinsMined\"},\"y\":{\"field\":\"TotalCoinSupply\"}},\"id\":\"2832\",\"type\":\"Scatter\"},{\"attributes\":{\"data\":{\"Class\":[3,3,3],\"CoinName\":[\"LitecoinCash\",\"Poa Network\",\"Waves\"],\"TotalCoinSupply\":{\"__ndarray__\":\"vHmqQ26GSz+EWijhloswPyxDHOviNho/\",\"dtype\":\"float64\",\"order\":\"little\",\"shape\":[3]},\"TotalCoinsMined\":{\"__ndarray__\":\"2kYnjEohRT/NNaz0jhIrP+uh5t++eho/\",\"dtype\":\"float64\",\"order\":\"little\",\"shape\":[3]}},\"selected\":{\"id\":\"2834\"},\"selection_policy\":{\"id\":\"2854\"}},\"id\":\"2833\",\"type\":\"ColumnDataSource\"},{\"attributes\":{\"fill_alpha\":{\"value\":0.1},\"fill_color\":{\"value\":\"#e5ae38\"},\"hatch_alpha\":{\"value\":0.1},\"hatch_color\":{\"value\":\"#e5ae38\"},\"line_alpha\":{\"value\":0.1},\"line_color\":{\"value\":\"#e5ae38\"},\"size\":{\"value\":5.477225575051661},\"x\":{\"field\":\"TotalCoinsMined\"},\"y\":{\"field\":\"TotalCoinSupply\"}},\"id\":\"2813\",\"type\":\"Scatter\"},{\"attributes\":{},\"id\":\"2765\",\"type\":\"AllLabels\"},{\"attributes\":{},\"id\":\"2804\",\"type\":\"UnionRenderers\"},{\"attributes\":{\"coordinates\":null,\"data_source\":{\"id\":\"2787\"},\"glyph\":{\"id\":\"2790\"},\"group\":null,\"hover_glyph\":null,\"muted_glyph\":{\"id\":\"2792\"},\"nonselection_glyph\":{\"id\":\"2791\"},\"selection_glyph\":{\"id\":\"2808\"},\"view\":{\"id\":\"2794\"}},\"id\":\"2793\",\"type\":\"GlyphRenderer\"},{\"attributes\":{\"data\":{\"Class\":[2],\"CoinName\":[\"BitTorrent\"],\"TotalCoinSupply\":{\"__ndarray__\":\"rkfhehSu7z8=\",\"dtype\":\"float64\",\"order\":\"little\",\"shape\":[1]},\"TotalCoinsMined\":{\"__ndarray__\":\"AAAAAAAA8D8=\",\"dtype\":\"float64\",\"order\":\"little\",\"shape\":[1]}},\"selected\":{\"id\":\"2810\"},\"selection_policy\":{\"id\":\"2828\"}},\"id\":\"2809\",\"type\":\"ColumnDataSource\"},{\"attributes\":{},\"id\":\"2747\",\"type\":\"SaveTool\"},{\"attributes\":{},\"id\":\"2748\",\"type\":\"PanTool\"},{\"attributes\":{},\"id\":\"2762\",\"type\":\"AllLabels\"},{\"attributes\":{},\"id\":\"2749\",\"type\":\"WheelZoomTool\"},{\"attributes\":{\"end\":1.042857142857143,\"reset_end\":1.042857142857143,\"reset_start\":-0.04285714285714286,\"start\":-0.04285714285714286,\"tags\":[[[\"TotalCoinsMined\",\"TotalCoinsMined\",null]]]},\"id\":\"2724\",\"type\":\"Range1d\"}],\"root_ids\":[\"2722\"]},\"title\":\"Bokeh Application\",\"version\":\"2.4.2\"}};\n",
       "    var render_items = [{\"docid\":\"cf94151b-141f-4060-b21c-2cad7f86c47b\",\"root_ids\":[\"2722\"],\"roots\":{\"2722\":\"385ead99-c770-4a81-a85f-a5f60a473854\"}}];\n",
       "    root.Bokeh.embed.embed_items_notebook(docs_json, render_items);\n",
       "  }\n",
       "  if (root.Bokeh !== undefined && root.Bokeh.Panel !== undefined) {\n",
       "    embed_document(root);\n",
       "  } else {\n",
       "    var attempts = 0;\n",
       "    var timer = setInterval(function(root) {\n",
       "      if (root.Bokeh !== undefined && root.Bokeh.Panel !== undefined) {\n",
       "        clearInterval(timer);\n",
       "        embed_document(root);\n",
       "      } else if (document.readyState == \"complete\") {\n",
       "        attempts++;\n",
       "        if (attempts > 200) {\n",
       "          clearInterval(timer);\n",
       "          console.log(\"Bokeh: ERROR: Unable to run BokehJS code because BokehJS library is missing\");\n",
       "        }\n",
       "      }\n",
       "    }, 25, root)\n",
       "  }\n",
       "})(window);</script>"
      ],
      "text/plain": [
       ":NdOverlay   [Class]\n",
       "   :Scatter   [TotalCoinsMined]   (TotalCoinSupply,CoinName)"
      ]
     },
     "execution_count": 234,
     "metadata": {
      "application/vnd.holoviews_exec.v0+json": {
       "id": "2722"
      }
     },
     "output_type": "execute_result"
    }
   ],
   "source": [
    "# Create a hvplot.scatter plot using x=\"TotalCoinsMined\" and y=\"TotalCoinSupply\".\n",
    "scaled_df.hvplot.scatter(\n",
    "    x=\"TotalCoinsMined\",\n",
    "    y=\"TotalCoinSupply\",\n",
    "    hover_cols=[\"CoinName\"],\n",
    "    by=\"Class\",\n",
    ")"
   ]
  }
 ],
 "metadata": {
  "file_extension": ".py",
  "kernelspec": {
   "display_name": "PythonData",
   "language": "python",
   "name": "pythondata"
  },
  "language_info": {
   "codemirror_mode": {
    "name": "ipython",
    "version": 3
   },
   "file_extension": ".py",
   "mimetype": "text/x-python",
   "name": "python",
   "nbconvert_exporter": "python",
   "pygments_lexer": "ipython3",
   "version": "3.7.11"
  },
  "latex_envs": {
   "LaTeX_envs_menu_present": true,
   "autoclose": false,
   "autocomplete": true,
   "bibliofile": "biblio.bib",
   "cite_by": "apalike",
   "current_citInitial": 1,
   "eqLabelWithNumbers": true,
   "eqNumInitial": 1,
   "hotkeys": {
    "equation": "Ctrl-E",
    "itemize": "Ctrl-I"
   },
   "labels_anchors": false,
   "latex_user_defs": false,
   "report_style_numbering": false,
   "user_envs_cfg": false
  },
  "mimetype": "text/x-python",
  "name": "python",
  "npconvert_exporter": "python",
  "pygments_lexer": "ipython3",
  "version": 3
 },
 "nbformat": 4,
 "nbformat_minor": 2
}
